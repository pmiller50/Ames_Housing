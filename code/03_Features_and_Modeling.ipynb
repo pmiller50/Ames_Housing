{
 "cells": [
  {
   "cell_type": "markdown",
   "metadata": {},
   "source": [
    "# Project 2 - Ames Housing Data\n",
    "## Feature Analysis and Modeling\n",
    "\n",
    "![House](phil-hearing-house-small.jpg)\n",
    "<br>Photo by:\n",
    "https://unsplash.com/photos/IYfp2Ixe9nM?utm_source=unsplash&utm_medium=referral&utm_content=creditShareLink"
   ]
  },
  {
   "cell_type": "code",
   "execution_count": 345,
   "metadata": {},
   "outputs": [],
   "source": [
    "import pandas as pd\n",
    "import numpy as np\n",
    "import matplotlib.pyplot as plt\n",
    "import seaborn as sns\n",
    "from sklearn.linear_model import LinearRegression, Ridge, RidgeCV, Lasso, LassoCV\n",
    "from sklearn.model_selection import train_test_split\n",
    "from sklearn.preprocessing import StandardScaler\n",
    "from sklearn.dummy import DummyRegressor\n",
    "from sklearn.metrics import r2_score"
   ]
  },
  {
   "cell_type": "code",
   "execution_count": 346,
   "metadata": {},
   "outputs": [
    {
     "data": {
      "text/html": [
       "<div>\n",
       "<style scoped>\n",
       "    .dataframe tbody tr th:only-of-type {\n",
       "        vertical-align: middle;\n",
       "    }\n",
       "\n",
       "    .dataframe tbody tr th {\n",
       "        vertical-align: top;\n",
       "    }\n",
       "\n",
       "    .dataframe thead th {\n",
       "        text-align: right;\n",
       "    }\n",
       "</style>\n",
       "<table border=\"1\" class=\"dataframe\">\n",
       "  <thead>\n",
       "    <tr style=\"text-align: right;\">\n",
       "      <th></th>\n",
       "      <th>Id</th>\n",
       "      <th>PID</th>\n",
       "      <th>MS SubClass</th>\n",
       "      <th>MS Zoning</th>\n",
       "      <th>Lot Frontage</th>\n",
       "      <th>Lot Area</th>\n",
       "      <th>Street</th>\n",
       "      <th>Alley</th>\n",
       "      <th>Lot Shape</th>\n",
       "      <th>Land Contour</th>\n",
       "      <th>...</th>\n",
       "      <th>Neighborhood_OldTown</th>\n",
       "      <th>Neighborhood_SWISU</th>\n",
       "      <th>Neighborhood_Sawyer</th>\n",
       "      <th>Neighborhood_SawyerW</th>\n",
       "      <th>Neighborhood_Somerst</th>\n",
       "      <th>Neighborhood_StoneBr</th>\n",
       "      <th>Neighborhood_Timber</th>\n",
       "      <th>Neighborhood_Veenker</th>\n",
       "      <th>floors</th>\n",
       "      <th>bathrooms</th>\n",
       "    </tr>\n",
       "  </thead>\n",
       "  <tbody>\n",
       "    <tr>\n",
       "      <th>0</th>\n",
       "      <td>109</td>\n",
       "      <td>533352170</td>\n",
       "      <td>60</td>\n",
       "      <td>7</td>\n",
       "      <td>69.0552</td>\n",
       "      <td>13517</td>\n",
       "      <td>2</td>\n",
       "      <td>0</td>\n",
       "      <td>1</td>\n",
       "      <td>3</td>\n",
       "      <td>...</td>\n",
       "      <td>0</td>\n",
       "      <td>0</td>\n",
       "      <td>1</td>\n",
       "      <td>0</td>\n",
       "      <td>0</td>\n",
       "      <td>0</td>\n",
       "      <td>0</td>\n",
       "      <td>0</td>\n",
       "      <td>2</td>\n",
       "      <td>3.0</td>\n",
       "    </tr>\n",
       "    <tr>\n",
       "      <th>1</th>\n",
       "      <td>544</td>\n",
       "      <td>531379050</td>\n",
       "      <td>60</td>\n",
       "      <td>7</td>\n",
       "      <td>43.0000</td>\n",
       "      <td>11492</td>\n",
       "      <td>2</td>\n",
       "      <td>0</td>\n",
       "      <td>1</td>\n",
       "      <td>3</td>\n",
       "      <td>...</td>\n",
       "      <td>0</td>\n",
       "      <td>0</td>\n",
       "      <td>0</td>\n",
       "      <td>1</td>\n",
       "      <td>0</td>\n",
       "      <td>0</td>\n",
       "      <td>0</td>\n",
       "      <td>0</td>\n",
       "      <td>2</td>\n",
       "      <td>4.0</td>\n",
       "    </tr>\n",
       "    <tr>\n",
       "      <th>2</th>\n",
       "      <td>153</td>\n",
       "      <td>535304180</td>\n",
       "      <td>20</td>\n",
       "      <td>7</td>\n",
       "      <td>68.0000</td>\n",
       "      <td>7922</td>\n",
       "      <td>2</td>\n",
       "      <td>0</td>\n",
       "      <td>0</td>\n",
       "      <td>3</td>\n",
       "      <td>...</td>\n",
       "      <td>0</td>\n",
       "      <td>0</td>\n",
       "      <td>0</td>\n",
       "      <td>0</td>\n",
       "      <td>0</td>\n",
       "      <td>0</td>\n",
       "      <td>0</td>\n",
       "      <td>0</td>\n",
       "      <td>1</td>\n",
       "      <td>2.0</td>\n",
       "    </tr>\n",
       "    <tr>\n",
       "      <th>3</th>\n",
       "      <td>318</td>\n",
       "      <td>916386060</td>\n",
       "      <td>60</td>\n",
       "      <td>7</td>\n",
       "      <td>73.0000</td>\n",
       "      <td>9802</td>\n",
       "      <td>2</td>\n",
       "      <td>0</td>\n",
       "      <td>0</td>\n",
       "      <td>3</td>\n",
       "      <td>...</td>\n",
       "      <td>0</td>\n",
       "      <td>0</td>\n",
       "      <td>0</td>\n",
       "      <td>0</td>\n",
       "      <td>0</td>\n",
       "      <td>0</td>\n",
       "      <td>1</td>\n",
       "      <td>0</td>\n",
       "      <td>2</td>\n",
       "      <td>3.0</td>\n",
       "    </tr>\n",
       "    <tr>\n",
       "      <th>4</th>\n",
       "      <td>255</td>\n",
       "      <td>906425045</td>\n",
       "      <td>50</td>\n",
       "      <td>7</td>\n",
       "      <td>82.0000</td>\n",
       "      <td>14235</td>\n",
       "      <td>2</td>\n",
       "      <td>0</td>\n",
       "      <td>1</td>\n",
       "      <td>3</td>\n",
       "      <td>...</td>\n",
       "      <td>0</td>\n",
       "      <td>0</td>\n",
       "      <td>0</td>\n",
       "      <td>1</td>\n",
       "      <td>0</td>\n",
       "      <td>0</td>\n",
       "      <td>0</td>\n",
       "      <td>0</td>\n",
       "      <td>2</td>\n",
       "      <td>2.0</td>\n",
       "    </tr>\n",
       "  </tbody>\n",
       "</table>\n",
       "<p>5 rows × 109 columns</p>\n",
       "</div>"
      ],
      "text/plain": [
       "    Id        PID  MS SubClass  MS Zoning  Lot Frontage  Lot Area  Street  \\\n",
       "0  109  533352170           60          7       69.0552     13517       2   \n",
       "1  544  531379050           60          7       43.0000     11492       2   \n",
       "2  153  535304180           20          7       68.0000      7922       2   \n",
       "3  318  916386060           60          7       73.0000      9802       2   \n",
       "4  255  906425045           50          7       82.0000     14235       2   \n",
       "\n",
       "   Alley  Lot Shape  Land Contour  ...  Neighborhood_OldTown  \\\n",
       "0      0          1             3  ...                     0   \n",
       "1      0          1             3  ...                     0   \n",
       "2      0          0             3  ...                     0   \n",
       "3      0          0             3  ...                     0   \n",
       "4      0          1             3  ...                     0   \n",
       "\n",
       "   Neighborhood_SWISU  Neighborhood_Sawyer  Neighborhood_SawyerW  \\\n",
       "0                   0                    1                     0   \n",
       "1                   0                    0                     1   \n",
       "2                   0                    0                     0   \n",
       "3                   0                    0                     0   \n",
       "4                   0                    0                     1   \n",
       "\n",
       "   Neighborhood_Somerst  Neighborhood_StoneBr  Neighborhood_Timber  \\\n",
       "0                     0                     0                    0   \n",
       "1                     0                     0                    0   \n",
       "2                     0                     0                    0   \n",
       "3                     0                     0                    1   \n",
       "4                     0                     0                    0   \n",
       "\n",
       "   Neighborhood_Veenker  floors  bathrooms  \n",
       "0                     0       2        3.0  \n",
       "1                     0       2        4.0  \n",
       "2                     0       1        2.0  \n",
       "3                     0       2        3.0  \n",
       "4                     0       2        2.0  \n",
       "\n",
       "[5 rows x 109 columns]"
      ]
     },
     "execution_count": 346,
     "metadata": {},
     "output_type": "execute_result"
    }
   ],
   "source": [
    "houses = pd.read_csv('../datasets/train_processed.csv')\n",
    "houses.head()"
   ]
  },
  {
   "cell_type": "markdown",
   "metadata": {},
   "source": [
    "#### Find which features are most correlated with SalePrice"
   ]
  },
  {
   "cell_type": "code",
   "execution_count": 347,
   "metadata": {},
   "outputs": [
    {
     "name": "stdout",
     "output_type": "stream",
     "text": [
      "All features: ['Id', 'PID', 'MS SubClass', 'MS Zoning', 'Lot Frontage', 'Lot Area', 'Street', 'Alley', 'Lot Shape', 'Land Contour', 'Lot Config', 'Land Slope', 'Condition 1', 'Condition 2', 'Bldg Type', 'House Style', 'Overall Qual', 'Overall Cond', 'Year Built', 'Year Remod/Add', 'Roof Style', 'Roof Matl', 'Exterior 1st', 'Exterior 2nd', 'Mas Vnr Type', 'Mas Vnr Area', 'Exter Qual', 'Exter Cond', 'Foundation', 'Bsmt Qual', 'Bsmt Cond', 'Bsmt Exposure', 'BsmtFin Type 1', 'BsmtFin SF 1', 'BsmtFin Type 2', 'BsmtFin SF 2', 'Bsmt Unf SF', 'Total Bsmt SF', 'Heating', 'Heating QC', 'Central Air', 'Electrical', '1st Flr SF', '2nd Flr SF', 'Low Qual Fin SF', 'Gr Liv Area', 'Bsmt Full Bath', 'Bsmt Half Bath', 'Full Bath', 'Half Bath', 'Bedroom AbvGr', 'Kitchen AbvGr', 'Kitchen Qual', 'TotRms AbvGrd', 'Functional', 'Fireplaces', 'Fireplace Qu', 'Garage Type', 'Garage Yr Blt', 'Garage Finish', 'Garage Cars', 'Garage Area', 'Garage Qual', 'Garage Cond', 'Paved Drive', 'Wood Deck SF', 'Open Porch SF', 'Enclosed Porch', '3Ssn Porch', 'Screen Porch', 'Pool Area', 'Pool QC', 'Fence', 'Misc Feature', 'Misc Val', 'Mo Sold', 'Yr Sold', 'Sale Type', 'SalePrice', 'near_ISU', 'Neighborhood_Blueste', 'Neighborhood_BrDale', 'Neighborhood_BrkSide', 'Neighborhood_ClearCr', 'Neighborhood_CollgCr', 'Neighborhood_Crawfor', 'Neighborhood_Edwards', 'Neighborhood_Gilbert', 'Neighborhood_Greens', 'Neighborhood_GrnHill', 'Neighborhood_IDOTRR', 'Neighborhood_Landmrk', 'Neighborhood_MeadowV', 'Neighborhood_Mitchel', 'Neighborhood_NAmes', 'Neighborhood_NPkVill', 'Neighborhood_NWAmes', 'Neighborhood_NoRidge', 'Neighborhood_NridgHt', 'Neighborhood_OldTown', 'Neighborhood_SWISU', 'Neighborhood_Sawyer', 'Neighborhood_SawyerW', 'Neighborhood_Somerst', 'Neighborhood_StoneBr', 'Neighborhood_Timber', 'Neighborhood_Veenker', 'floors', 'bathrooms']\n"
     ]
    }
   ],
   "source": [
    "print ('All features:' , houses.columns.values.tolist())"
   ]
  },
  {
   "cell_type": "markdown",
   "metadata": {},
   "source": [
    "Don't include the Id or PID columns."
   ]
  },
  {
   "cell_type": "code",
   "execution_count": 348,
   "metadata": {},
   "outputs": [],
   "source": [
    "feature_list = houses.columns.values.tolist()[2:]"
   ]
  },
  {
   "cell_type": "code",
   "execution_count": 349,
   "metadata": {},
   "outputs": [],
   "source": [
    "all_corrs = pd.DataFrame(houses[feature_list].corr()['SalePrice'].sort_values(ascending=False) )\n",
    "\n",
    "# Idea taken from:\n",
    "#https://git.generalassemb.ly/DSIR-1116/3.08-lesson-feature-engineering-and-model-workflow/blob/master/solution-code/power-transformer.ipynb"
   ]
  },
  {
   "cell_type": "code",
   "execution_count": 350,
   "metadata": {},
   "outputs": [
    {
     "data": {
      "text/html": [
       "<div>\n",
       "<style scoped>\n",
       "    .dataframe tbody tr th:only-of-type {\n",
       "        vertical-align: middle;\n",
       "    }\n",
       "\n",
       "    .dataframe tbody tr th {\n",
       "        vertical-align: top;\n",
       "    }\n",
       "\n",
       "    .dataframe thead th {\n",
       "        text-align: right;\n",
       "    }\n",
       "</style>\n",
       "<table border=\"1\" class=\"dataframe\">\n",
       "  <thead>\n",
       "    <tr style=\"text-align: right;\">\n",
       "      <th></th>\n",
       "      <th>SalePrice</th>\n",
       "    </tr>\n",
       "  </thead>\n",
       "  <tbody>\n",
       "    <tr>\n",
       "      <th>SalePrice</th>\n",
       "      <td>1.000000</td>\n",
       "    </tr>\n",
       "    <tr>\n",
       "      <th>Overall Qual</th>\n",
       "      <td>0.804237</td>\n",
       "    </tr>\n",
       "    <tr>\n",
       "      <th>Exter Qual</th>\n",
       "      <td>0.719518</td>\n",
       "    </tr>\n",
       "    <tr>\n",
       "      <th>Gr Liv Area</th>\n",
       "      <td>0.716996</td>\n",
       "    </tr>\n",
       "    <tr>\n",
       "      <th>Kitchen Qual</th>\n",
       "      <td>0.694095</td>\n",
       "    </tr>\n",
       "  </tbody>\n",
       "</table>\n",
       "</div>"
      ],
      "text/plain": [
       "              SalePrice\n",
       "SalePrice      1.000000\n",
       "Overall Qual   0.804237\n",
       "Exter Qual     0.719518\n",
       "Gr Liv Area    0.716996\n",
       "Kitchen Qual   0.694095"
      ]
     },
     "execution_count": 350,
     "metadata": {},
     "output_type": "execute_result"
    }
   ],
   "source": [
    "all_corrs.head()"
   ]
  },
  {
   "cell_type": "markdown",
   "metadata": {},
   "source": [
    "Create a list of the 30 most positively correlated features to start modeling with."
   ]
  },
  {
   "cell_type": "code",
   "execution_count": 351,
   "metadata": {},
   "outputs": [
    {
     "name": "stdout",
     "output_type": "stream",
     "text": [
      "Feature: SalePrice                      Correlation:  1.0 \n",
      "Feature: Overall Qual                   Correlation:  0.8042366379722609 \n",
      "Feature: Exter Qual                     Correlation:  0.7195177217531578 \n",
      "Feature: Gr Liv Area                    Correlation:  0.7169963373729336 \n",
      "Feature: Kitchen Qual                   Correlation:  0.6940946373021661 \n",
      "Feature: Total Bsmt SF                  Correlation:  0.6650687456465103 \n",
      "Feature: Garage Area                    Correlation:  0.6538490444652901 \n",
      "Feature: Garage Cars                    Correlation:  0.6485242649006802 \n",
      "Feature: 1st Flr SF                     Correlation:  0.6465794362239704 \n",
      "Feature: Bsmt Qual                      Correlation:  0.6124609615318116 \n",
      "Feature: bathrooms                      Correlation:  0.6107168024392206 \n",
      "Feature: Year Built                     Correlation:  0.5761797787454103 \n",
      "Feature: Garage Yr Blt                  Correlation:  0.5553663787581444 \n",
      "Feature: Year Remod/Add                 Correlation:  0.5538551564965531 \n",
      "Feature: Full Bath                      Correlation:  0.5410175753064075 \n",
      "Feature: Fireplace Qu                   Correlation:  0.5401923989115158 \n",
      "Feature: TotRms AbvGrd                  Correlation:  0.5105844221182125 \n",
      "Feature: Mas Vnr Area                   Correlation:  0.5084450817331864 \n",
      "Feature: Foundation                     Correlation:  0.49141131014342937 \n",
      "Feature: Fireplaces                     Correlation:  0.47312179665904613 \n",
      "Feature: Heating QC                     Correlation:  0.463140581896317 \n",
      "Feature: Neighborhood_NridgHt           Correlation:  0.4545039162447568 \n",
      "Feature: BsmtFin SF 1                   Correlation:  0.4469417489294879 \n",
      "Feature: BsmtFin Type 1                 Correlation:  0.40147012862329184 \n",
      "Feature: Lot Area                       Correlation:  0.3516868231370942 \n",
      "Feature: Lot Frontage                   Correlation:  0.34498626684782596 \n",
      "Feature: Open Porch SF                  Correlation:  0.3397563859160304 \n",
      "Feature: Wood Deck SF                   Correlation:  0.32106740556029134 \n",
      "Feature: Lot Shape                      Correlation:  0.29201715182086996 \n",
      "Feature: Garage Qual                    Correlation:  0.2863931254938241 \n"
     ]
    }
   ],
   "source": [
    "features_pos = []\n",
    "\n",
    "for index in range(0,30):\n",
    "    print(f'Feature: {all_corrs.iloc[index].name.ljust(30)} Correlation:  {all_corrs.iloc[index,0]} ')\n",
    "    features_pos.append(all_corrs.iloc[index].name)\n",
    "    \n",
    "# found out about ljust here:\n",
    "# https://stackabuse.com/padding-strings-in-python/"
   ]
  },
  {
   "cell_type": "code",
   "execution_count": 352,
   "metadata": {},
   "outputs": [
    {
     "data": {
      "image/png": "[encoded data removed]",
      "text/plain": [
       "<Figure size 1080x1080 with 2 Axes>"
      ]
     },
     "metadata": {
      "needs_background": "light"
     },
     "output_type": "display_data"
    }
   ],
   "source": [
    "plt.figure(figsize=(15,15))\n",
    "sns.heatmap(houses[features_pos].corr(), annot=False, cmap='coolwarm');"
   ]
  },
  {
   "cell_type": "markdown",
   "metadata": {},
   "source": [
    "Drop some features that are highly correlated with each other.\n",
    "For example, Garage Area and Garage Cars are highly correlated, so it's safe to drop one of them."
   ]
  },
  {
   "cell_type": "code",
   "execution_count": 353,
   "metadata": {},
   "outputs": [],
   "source": [
    "features_pos.remove('Garage Cars') # Highly correlated with Garage Area\n",
    "features_pos.remove('TotRms AbvGrd') # Highly correlated with Gr Liv Area\n",
    "features_pos.remove('Fireplaces') # Highly correlated with Fireplace Qu\n",
    "features_pos.remove('1st Flr SF') # Highly correlated with Total Bsmt SF\n",
    "features_pos.remove('BsmtFin Type 1') # Highly correlated with Bsmt Qual\n",
    "\n",
    "# Very Important to remove SalePrice from our list of features\n",
    "features_pos.remove('SalePrice')\n",
    "\n",
    "\n"
   ]
  },
  {
   "cell_type": "markdown",
   "metadata": {},
   "source": [
    "---\n",
    "Create a list of the 30 most negatively correlated features to model."
   ]
  },
  {
   "cell_type": "code",
   "execution_count": 354,
   "metadata": {},
   "outputs": [
    {
     "name": "stdout",
     "output_type": "stream",
     "text": [
      "Feature: Land Contour                   Correlation:  -0.017005852614884246 \n",
      "Feature: Neighborhood_Blueste           Correlation:  -0.02513902410521607 \n",
      "Feature: Neighborhood_Mitchel           Correlation:  -0.03510992714813684 \n",
      "Feature: Low Qual Fin SF                Correlation:  -0.04133865684608551 \n",
      "Feature: Land Slope                     Correlation:  -0.04656312869907275 \n",
      "Feature: Bsmt Half Bath                 Correlation:  -0.04696327544803656 \n",
      "Feature: Neighborhood_NPkVill           Correlation:  -0.04719411725203394 \n",
      "Feature: Sale Type                      Correlation:  -0.05253957737606454 \n",
      "Feature: Condition 2                    Correlation:  -0.061586517952135926 \n",
      "Feature: Neighborhood_SWISU             Correlation:  -0.07416183956136928 \n",
      "Feature: Roof Matl                      Correlation:  -0.07995630851222744 \n",
      "Feature: MS SubClass                    Correlation:  -0.08572445637776308 \n",
      "Feature: Neighborhood_BrDale            Correlation:  -0.095630468120529 \n",
      "Feature: Lot Config                     Correlation:  -0.09668504888316044 \n",
      "Feature: Overall Cond                   Correlation:  -0.09679110141921671 \n",
      "Feature: Alley                          Correlation:  -0.09681868531629546 \n",
      "Feature: Neighborhood_MeadowV           Correlation:  -0.11196523376294228 \n",
      "Feature: Kitchen AbvGr                  Correlation:  -0.12541297453085326 \n",
      "Feature: Neighborhood_Sawyer            Correlation:  -0.13353539540326692 \n",
      "Feature: Enclosed Porch                 Correlation:  -0.13470971536413714 \n",
      "Feature: Neighborhood_BrkSide           Correlation:  -0.1348987566050998 \n",
      "Feature: Bsmt Exposure                  Correlation:  -0.169397427649572 \n",
      "Feature: Roof Style                     Correlation:  -0.17078444222582895 \n",
      "Feature: Neighborhood_Edwards           Correlation:  -0.17687632959180402 \n",
      "Feature: Neighborhood_IDOTRR            Correlation:  -0.18992623261402442 \n",
      "Feature: Neighborhood_NAmes             Correlation:  -0.19002366760253953 \n",
      "Feature: Neighborhood_OldTown           Correlation:  -0.20861873902378605 \n",
      "Feature: Garage Finish                  Correlation:  -0.31142656914804073 \n",
      "Feature: near_ISU                       Correlation:  -0.4051553546084843 \n",
      "Feature: Mas Vnr Type                   Correlation:  -0.4201604661317636 \n"
     ]
    }
   ],
   "source": [
    "features_neg = []\n",
    "\n",
    "for index in range(77,107):\n",
    "    print(f'Feature: {all_corrs.iloc[index].name.ljust(30)} Correlation:  {all_corrs.iloc[index,0]} ')\n",
    "    features_neg.append(all_corrs.iloc[index].name)\n",
    "    "
   ]
  },
  {
   "cell_type": "code",
   "execution_count": 355,
   "metadata": {},
   "outputs": [
    {
     "data": {
      "image/png": "[encoded data removed]",
      "text/plain": [
       "<Figure size 1080x1080 with 2 Axes>"
      ]
     },
     "metadata": {
      "needs_background": "light"
     },
     "output_type": "display_data"
    }
   ],
   "source": [
    "plt.figure(figsize=(15,15))\n",
    "sns.heatmap(houses[features_neg].corr(), annot=False, cmap='coolwarm');"
   ]
  },
  {
   "cell_type": "markdown",
   "metadata": {},
   "source": [
    "Drop a feature that is highly correlated."
   ]
  },
  {
   "cell_type": "code",
   "execution_count": 356,
   "metadata": {},
   "outputs": [],
   "source": [
    "features_neg.remove('Land Contour') # Highly correlated with Land Slope"
   ]
  },
  {
   "cell_type": "markdown",
   "metadata": {},
   "source": [
    "### Model Creation\n",
    "---"
   ]
  },
  {
   "cell_type": "markdown",
   "metadata": {},
   "source": [
    "First test the **highly positively correlated** feature set."
   ]
  },
  {
   "cell_type": "code",
   "execution_count": 357,
   "metadata": {},
   "outputs": [],
   "source": [
    "X = houses[features_pos]\n",
    "y = houses['SalePrice']"
   ]
  },
  {
   "cell_type": "markdown",
   "metadata": {},
   "source": [
    "Create train and test sets, using 80-20 split"
   ]
  },
  {
   "cell_type": "code",
   "execution_count": 358,
   "metadata": {},
   "outputs": [],
   "source": [
    "X_train, X_test, y_train, y_test = train_test_split(X, y, train_size = 0.8, random_state=42)"
   ]
  },
  {
   "cell_type": "markdown",
   "metadata": {},
   "source": [
    "Scale the data"
   ]
  },
  {
   "cell_type": "code",
   "execution_count": 359,
   "metadata": {},
   "outputs": [],
   "source": [
    "ss = StandardScaler()\n",
    "ss.fit(X_train)\n",
    "X_train = ss.transform(X_train)\n",
    "X_test = ss.transform(X_test)"
   ]
  },
  {
   "cell_type": "markdown",
   "metadata": {},
   "source": [
    "Create benchmark model with DummyRegressor, that will use the mean Sales Price"
   ]
  },
  {
   "cell_type": "code",
   "execution_count": 360,
   "metadata": {},
   "outputs": [
    {
     "name": "stdout",
     "output_type": "stream",
     "text": [
      "The r squared value of the dummy model using the mean Sales Price: -0.013728319224632246\n"
     ]
    }
   ],
   "source": [
    "# Example from:\n",
    "# https://scikit-learn.org/stable/modules/model_evaluation.html#dummy-estimators\n",
    "\n",
    "dummy_regr = DummyRegressor(strategy=\"mean\")\n",
    "dummy_regr.fit(X_train, y_train)\n",
    "print (f'The r squared value of the dummy model using the mean Sales Price: {dummy_regr.score(X_test, y_test)}')"
   ]
  },
  {
   "cell_type": "markdown",
   "metadata": {},
   "source": [
    "### Linear Regression Model"
   ]
  },
  {
   "cell_type": "code",
   "execution_count": 361,
   "metadata": {},
   "outputs": [],
   "source": [
    "lr = LinearRegression()"
   ]
  },
  {
   "cell_type": "code",
   "execution_count": 362,
   "metadata": {},
   "outputs": [
    {
     "data": {
      "text/plain": [
       "LinearRegression()"
      ]
     },
     "execution_count": 362,
     "metadata": {},
     "output_type": "execute_result"
    }
   ],
   "source": [
    " lr.fit (X_train, y_train)"
   ]
  },
  {
   "cell_type": "code",
   "execution_count": 363,
   "metadata": {},
   "outputs": [
    {
     "name": "stdout",
     "output_type": "stream",
     "text": [
      "The r squared value of the linear regresssion model with highly positively features: 0.8576575980804226\n"
     ]
    }
   ],
   "source": [
    "y_preds = lr.predict(X_test)\n",
    "print (f'The r squared value of the linear regresssion model with highly positively features: {r2_score(y_test, y_preds)}') "
   ]
  },
  {
   "cell_type": "code",
   "execution_count": 364,
   "metadata": {},
   "outputs": [
    {
     "data": {
      "text/html": [
       "<div>\n",
       "<style scoped>\n",
       "    .dataframe tbody tr th:only-of-type {\n",
       "        vertical-align: middle;\n",
       "    }\n",
       "\n",
       "    .dataframe tbody tr th {\n",
       "        vertical-align: top;\n",
       "    }\n",
       "\n",
       "    .dataframe thead th {\n",
       "        text-align: right;\n",
       "    }\n",
       "</style>\n",
       "<table border=\"1\" class=\"dataframe\">\n",
       "  <thead>\n",
       "    <tr style=\"text-align: right;\">\n",
       "      <th></th>\n",
       "      <th>0</th>\n",
       "      <th>1</th>\n",
       "    </tr>\n",
       "  </thead>\n",
       "  <tbody>\n",
       "    <tr>\n",
       "      <th>0</th>\n",
       "      <td>Overall Qual</td>\n",
       "      <td>18449.686248</td>\n",
       "    </tr>\n",
       "    <tr>\n",
       "      <th>1</th>\n",
       "      <td>Exter Qual</td>\n",
       "      <td>9264.285332</td>\n",
       "    </tr>\n",
       "    <tr>\n",
       "      <th>2</th>\n",
       "      <td>Gr Liv Area</td>\n",
       "      <td>24642.759713</td>\n",
       "    </tr>\n",
       "    <tr>\n",
       "      <th>3</th>\n",
       "      <td>Kitchen Qual</td>\n",
       "      <td>6771.569176</td>\n",
       "    </tr>\n",
       "    <tr>\n",
       "      <th>4</th>\n",
       "      <td>Total Bsmt SF</td>\n",
       "      <td>8604.926141</td>\n",
       "    </tr>\n",
       "    <tr>\n",
       "      <th>5</th>\n",
       "      <td>Garage Area</td>\n",
       "      <td>3954.848426</td>\n",
       "    </tr>\n",
       "    <tr>\n",
       "      <th>6</th>\n",
       "      <td>Bsmt Qual</td>\n",
       "      <td>1286.083995</td>\n",
       "    </tr>\n",
       "    <tr>\n",
       "      <th>7</th>\n",
       "      <td>bathrooms</td>\n",
       "      <td>-777.846274</td>\n",
       "    </tr>\n",
       "    <tr>\n",
       "      <th>8</th>\n",
       "      <td>Year Built</td>\n",
       "      <td>4185.594175</td>\n",
       "    </tr>\n",
       "    <tr>\n",
       "      <th>9</th>\n",
       "      <td>Garage Yr Blt</td>\n",
       "      <td>1235.461876</td>\n",
       "    </tr>\n",
       "    <tr>\n",
       "      <th>10</th>\n",
       "      <td>Year Remod/Add</td>\n",
       "      <td>3083.499374</td>\n",
       "    </tr>\n",
       "    <tr>\n",
       "      <th>11</th>\n",
       "      <td>Full Bath</td>\n",
       "      <td>-3485.979857</td>\n",
       "    </tr>\n",
       "    <tr>\n",
       "      <th>12</th>\n",
       "      <td>Fireplace Qu</td>\n",
       "      <td>3549.587191</td>\n",
       "    </tr>\n",
       "    <tr>\n",
       "      <th>13</th>\n",
       "      <td>Mas Vnr Area</td>\n",
       "      <td>3827.107263</td>\n",
       "    </tr>\n",
       "    <tr>\n",
       "      <th>14</th>\n",
       "      <td>Foundation</td>\n",
       "      <td>-568.375252</td>\n",
       "    </tr>\n",
       "    <tr>\n",
       "      <th>15</th>\n",
       "      <td>Heating QC</td>\n",
       "      <td>1739.356089</td>\n",
       "    </tr>\n",
       "    <tr>\n",
       "      <th>16</th>\n",
       "      <td>Neighborhood_NridgHt</td>\n",
       "      <td>4081.538385</td>\n",
       "    </tr>\n",
       "    <tr>\n",
       "      <th>17</th>\n",
       "      <td>BsmtFin SF 1</td>\n",
       "      <td>11028.704628</td>\n",
       "    </tr>\n",
       "    <tr>\n",
       "      <th>18</th>\n",
       "      <td>Lot Area</td>\n",
       "      <td>7021.809584</td>\n",
       "    </tr>\n",
       "    <tr>\n",
       "      <th>19</th>\n",
       "      <td>Lot Frontage</td>\n",
       "      <td>2012.032835</td>\n",
       "    </tr>\n",
       "    <tr>\n",
       "      <th>20</th>\n",
       "      <td>Open Porch SF</td>\n",
       "      <td>753.517706</td>\n",
       "    </tr>\n",
       "    <tr>\n",
       "      <th>21</th>\n",
       "      <td>Wood Deck SF</td>\n",
       "      <td>1445.014718</td>\n",
       "    </tr>\n",
       "    <tr>\n",
       "      <th>22</th>\n",
       "      <td>Lot Shape</td>\n",
       "      <td>76.589292</td>\n",
       "    </tr>\n",
       "    <tr>\n",
       "      <th>23</th>\n",
       "      <td>Garage Qual</td>\n",
       "      <td>-1635.457317</td>\n",
       "    </tr>\n",
       "  </tbody>\n",
       "</table>\n",
       "</div>"
      ],
      "text/plain": [
       "                       0             1\n",
       "0           Overall Qual  18449.686248\n",
       "1             Exter Qual   9264.285332\n",
       "2            Gr Liv Area  24642.759713\n",
       "3           Kitchen Qual   6771.569176\n",
       "4          Total Bsmt SF   8604.926141\n",
       "5            Garage Area   3954.848426\n",
       "6              Bsmt Qual   1286.083995\n",
       "7              bathrooms   -777.846274\n",
       "8             Year Built   4185.594175\n",
       "9          Garage Yr Blt   1235.461876\n",
       "10        Year Remod/Add   3083.499374\n",
       "11             Full Bath  -3485.979857\n",
       "12          Fireplace Qu   3549.587191\n",
       "13          Mas Vnr Area   3827.107263\n",
       "14            Foundation   -568.375252\n",
       "15            Heating QC   1739.356089\n",
       "16  Neighborhood_NridgHt   4081.538385\n",
       "17          BsmtFin SF 1  11028.704628\n",
       "18              Lot Area   7021.809584\n",
       "19          Lot Frontage   2012.032835\n",
       "20         Open Porch SF    753.517706\n",
       "21          Wood Deck SF   1445.014718\n",
       "22             Lot Shape     76.589292\n",
       "23           Garage Qual  -1635.457317"
      ]
     },
     "execution_count": 364,
     "metadata": {},
     "output_type": "execute_result"
    }
   ],
   "source": [
    "pd.DataFrame(list(zip(X.columns, lr.coef_)))\n",
    "\n",
    "# From class session 3.03\n",
    "# https://git.generalassemb.ly/pdmill/3.03-intro-to-linear-regression/blob/master/linear-regression-starter.ipynb"
   ]
  },
  {
   "cell_type": "markdown",
   "metadata": {},
   "source": [
    "### Lasso Regression Model"
   ]
  },
  {
   "cell_type": "code",
   "execution_count": 365,
   "metadata": {},
   "outputs": [],
   "source": [
    "# Set up a list of Lasso alphas to check.\n",
    "l_alphas = np.logspace(-3, 0, 100)\n",
    "\n",
    "# Cross-validate over our list of Lasso alphas.\n",
    "lasso_cv = LassoCV(alphas=l_alphas, cv=5, max_iter=5000)\n",
    "\n",
    "# Fit model using best ridge alpha!\n",
    "lasso_cv.fit(X_train, y_train);   # Changed from Z_train to X_train since X_train has our scaled data\n",
    "\n",
    "# Borrowed from\n",
    "# https://git.generalassemb.ly/DSIR-1116/4.02-lesson-regularization/blob/master/solution-code/solution-code.ipynb"
   ]
  },
  {
   "cell_type": "code",
   "execution_count": 366,
   "metadata": {},
   "outputs": [
    {
     "name": "stdout",
     "output_type": "stream",
     "text": [
      "Lasso CV score with training data: 0.8886892369495056 \n",
      "Lasso CV score with testing data: 0.8576601144898266 \n"
     ]
    }
   ],
   "source": [
    "print(f'Lasso CV score with training data: {lasso_cv.score(X_train, y_train)} ')\n",
    "print(f'Lasso CV score with testing data: {lasso_cv.score(X_test, y_test)} ')"
   ]
  },
  {
   "cell_type": "markdown",
   "metadata": {},
   "source": [
    "### Ridge Regression Model\n",
    "\n",
    "Code borrowed from class 4.02"
   ]
  },
  {
   "cell_type": "code",
   "execution_count": 367,
   "metadata": {},
   "outputs": [],
   "source": [
    "ridge_model = Ridge(alpha=10)\n",
    "\n",
    "# Set up a list of ridge alphas to check.\n",
    "# np.logspace generates 100 values equally between 0 and 5,\n",
    "# then converts them to alphas between 10^0 and 10^5.\n",
    "r_alphas = np.logspace(0, 5, 100)\n",
    "\n",
    "# Cross-validate over our list of ridge alphas.\n",
    "ridge_cv = RidgeCV(alphas=r_alphas, scoring='r2', cv=5)\n",
    "\n",
    "# Fit model using best ridge alpha!\n",
    "ridge_cv = ridge_model.fit(X_train, y_train)"
   ]
  },
  {
   "cell_type": "code",
   "execution_count": 368,
   "metadata": {},
   "outputs": [
    {
     "data": {
      "text/plain": [
       "10"
      ]
     },
     "execution_count": 368,
     "metadata": {},
     "output_type": "execute_result"
    }
   ],
   "source": [
    "# Here is the optimal value of alpha\n",
    "ridge_cv.alpha"
   ]
  },
  {
   "cell_type": "code",
   "execution_count": 369,
   "metadata": {},
   "outputs": [
    {
     "name": "stdout",
     "output_type": "stream",
     "text": [
      "Ridge CV score with training data: 0.8886740562102724 \n",
      "Ridge CV score with testing data: 0.858223857845129 \n"
     ]
    }
   ],
   "source": [
    "print(f'Ridge CV score with training data: {ridge_cv.score(X_train, y_train)} ')\n",
    "print(f'Ridge CV score with testing data: {ridge_cv.score(X_test, y_test)} ')"
   ]
  },
  {
   "cell_type": "markdown",
   "metadata": {},
   "source": [
    "The model with the highest $R^2$ is Lasso, 0.888689, which was slightly better than Ridge.<br>\n",
    "The Ridge model performed slightly higher on the testing data.\n",
    "\n",
    "All three models performed much better than the mean baseline, which had a $R^2$ score of -0.013"
   ]
  },
  {
   "cell_type": "markdown",
   "metadata": {},
   "source": [
    "---\n",
    "The highly positively correlated feature set was used first.  Next try the most **negatively correlated**."
   ]
  },
  {
   "cell_type": "code",
   "execution_count": 370,
   "metadata": {},
   "outputs": [],
   "source": [
    "X = houses[features_neg]\n",
    "y = houses['SalePrice']"
   ]
  },
  {
   "cell_type": "markdown",
   "metadata": {},
   "source": [
    "Create train and test sets, using 80-20 split"
   ]
  },
  {
   "cell_type": "code",
   "execution_count": 371,
   "metadata": {},
   "outputs": [],
   "source": [
    "X_train, X_test, y_train, y_test = train_test_split(X, y, train_size = 0.8, random_state=42)"
   ]
  },
  {
   "cell_type": "code",
   "execution_count": 372,
   "metadata": {},
   "outputs": [],
   "source": [
    "ss = StandardScaler()\n",
    "ss.fit(X_train)\n",
    "X_train = ss.transform(X_train)\n",
    "X_test = ss.transform(X_test)"
   ]
  },
  {
   "cell_type": "markdown",
   "metadata": {},
   "source": [
    "### Linear Regression Model"
   ]
  },
  {
   "cell_type": "code",
   "execution_count": 373,
   "metadata": {},
   "outputs": [
    {
     "data": {
      "text/plain": [
       "LinearRegression()"
      ]
     },
     "execution_count": 373,
     "metadata": {},
     "output_type": "execute_result"
    }
   ],
   "source": [
    "lr = LinearRegression()\n",
    "lr.fit (X_train, y_train)"
   ]
  },
  {
   "cell_type": "code",
   "execution_count": 374,
   "metadata": {},
   "outputs": [
    {
     "name": "stdout",
     "output_type": "stream",
     "text": [
      "The r squared value of the linear regresssion model with highly negatively correlated features: 0.4797756601513852\n"
     ]
    }
   ],
   "source": [
    "y_preds = lr.predict(X_test)\n",
    "print (f'The r squared value of the linear regresssion model with highly negatively correlated features: {r2_score(y_test, y_preds)}') "
   ]
  },
  {
   "cell_type": "markdown",
   "metadata": {},
   "source": [
    "### Lasso Regression Model"
   ]
  },
  {
   "cell_type": "code",
   "execution_count": 375,
   "metadata": {},
   "outputs": [],
   "source": [
    "# Set up a list of Lasso alphas to check.\n",
    "l_alphas = np.logspace(-3, 0, 100)\n",
    "\n",
    "# Cross-validate over our list of Lasso alphas.\n",
    "lasso_cv = LassoCV(alphas=l_alphas, cv=5, max_iter=5000)\n",
    "\n",
    "# Fit model using best ridge alpha!\n",
    "lasso_cv.fit(X_train, y_train);   # Changed from Z_train to X_train since X_train has our scaled data\n",
    "\n",
    "# Borrowed from\n",
    "# https://git.generalassemb.ly/DSIR-1116/4.02-lesson-regularization/blob/master/solution-code/solution-code.ipynb"
   ]
  },
  {
   "cell_type": "code",
   "execution_count": 376,
   "metadata": {},
   "outputs": [
    {
     "name": "stdout",
     "output_type": "stream",
     "text": [
      "Lasso CV score with training data: 0.5186202396035737 \n",
      "Lasso CV score with testing data: 0.47978505708342545 \n"
     ]
    }
   ],
   "source": [
    "print(f'Lasso CV score with training data: {lasso_cv.score(X_train, y_train)} ')\n",
    "print(f'Lasso CV score with testing data: {lasso_cv.score(X_test, y_test)} ')"
   ]
  },
  {
   "cell_type": "markdown",
   "metadata": {},
   "source": [
    "### Ridge Regression Model\n",
    "\n",
    "Code borrowed from class 4.02"
   ]
  },
  {
   "cell_type": "code",
   "execution_count": 377,
   "metadata": {},
   "outputs": [],
   "source": [
    "ridge_model = Ridge(alpha=10)\n",
    "\n",
    "# Set up a list of ridge alphas to check.\n",
    "# np.logspace generates 100 values equally between 0 and 5,\n",
    "# then converts them to alphas between 10^0 and 10^5.\n",
    "r_alphas = np.logspace(0, 5, 100)\n",
    "\n",
    "# Cross-validate over our list of ridge alphas.\n",
    "ridge_cv = RidgeCV(alphas=r_alphas, scoring='r2', cv=5)\n",
    "\n",
    "# Fit model using best ridge alpha!\n",
    "ridge_cv = ridge_model.fit(X_train, y_train)"
   ]
  },
  {
   "cell_type": "code",
   "execution_count": 378,
   "metadata": {},
   "outputs": [
    {
     "data": {
      "text/plain": [
       "10"
      ]
     },
     "execution_count": 378,
     "metadata": {},
     "output_type": "execute_result"
    }
   ],
   "source": [
    "# Here is the optimal value of alpha\n",
    "ridge_cv.alpha"
   ]
  },
  {
   "cell_type": "code",
   "execution_count": 379,
   "metadata": {},
   "outputs": [
    {
     "name": "stdout",
     "output_type": "stream",
     "text": [
      "Ridge CV score with training data: 0.5185692142977261 \n",
      "Ridge CV score with testing data: 0.4798582637171265 \n"
     ]
    }
   ],
   "source": [
    "print(f'Ridge CV score with training data: {ridge_cv.score(X_train, y_train)} ')\n",
    "print(f'Ridge CV score with testing data: {ridge_cv.score(X_test, y_test)} ')"
   ]
  },
  {
   "cell_type": "markdown",
   "metadata": {},
   "source": [
    "All three of these models with this feature set performed poorly, especially when compared to the first set of postively correlated features ( $R^2$ around 0.89 for train, 0.86 for test).\n",
    "\n"
   ]
  },
  {
   "cell_type": "code",
   "execution_count": null,
   "metadata": {},
   "outputs": [],
   "source": []
  }
 ],
 "metadata": {
  "kernelspec": {
   "display_name": "Python 3",
   "language": "python",
   "name": "python3"
  },
  "language_info": {
   "codemirror_mode": {
    "name": "ipython",
    "version": 3
   },
   "file_extension": ".py",
   "mimetype": "text/x-python",
   "name": "python",
   "nbconvert_exporter": "python",
   "pygments_lexer": "ipython3",
   "version": "3.8.3"
  }
 },
 "nbformat": 4,
 "nbformat_minor": 4
}
