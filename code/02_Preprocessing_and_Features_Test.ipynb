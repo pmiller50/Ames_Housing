{
 "cells": [
  {
   "cell_type": "markdown",
   "metadata": {},
   "source": [
    "# Project 2 - Ames Housing Data\n",
    "## Preprocessing and Feature Engineering - Test.csv\n",
    "\n",
    "![House](images/phil-hearing-house-small.jpg)\n",
    "<br>Photo by:\n",
    "https://unsplash.com/photos/IYfp2Ixe9nM?utm_source=unsplash&utm_medium=referral&utm_content=creditShareLink"
   ]
  },
  {
   "cell_type": "code",
   "execution_count": 1265,
   "metadata": {},
   "outputs": [],
   "source": [
    "import pandas as pd\n",
    "import numpy as np\n",
    "import matplotlib.pyplot as plt"
   ]
  },
  {
   "cell_type": "code",
   "execution_count": 1266,
   "metadata": {},
   "outputs": [],
   "source": [
    "houses = pd.read_csv('../datasets/test_clean.csv', keep_default_na=False)"
   ]
  },
  {
   "cell_type": "code",
   "execution_count": 1267,
   "metadata": {},
   "outputs": [
    {
     "data": {
      "text/html": [
       "<div>\n",
       "<style scoped>\n",
       "    .dataframe tbody tr th:only-of-type {\n",
       "        vertical-align: middle;\n",
       "    }\n",
       "\n",
       "    .dataframe tbody tr th {\n",
       "        vertical-align: top;\n",
       "    }\n",
       "\n",
       "    .dataframe thead th {\n",
       "        text-align: right;\n",
       "    }\n",
       "</style>\n",
       "<table border=\"1\" class=\"dataframe\">\n",
       "  <thead>\n",
       "    <tr style=\"text-align: right;\">\n",
       "      <th></th>\n",
       "      <th>Id</th>\n",
       "      <th>PID</th>\n",
       "      <th>MS SubClass</th>\n",
       "      <th>MS Zoning</th>\n",
       "      <th>Lot Frontage</th>\n",
       "      <th>Lot Area</th>\n",
       "      <th>Street</th>\n",
       "      <th>Alley</th>\n",
       "      <th>Lot Shape</th>\n",
       "      <th>Land Contour</th>\n",
       "      <th>...</th>\n",
       "      <th>3Ssn Porch</th>\n",
       "      <th>Screen Porch</th>\n",
       "      <th>Pool Area</th>\n",
       "      <th>Pool QC</th>\n",
       "      <th>Fence</th>\n",
       "      <th>Misc Feature</th>\n",
       "      <th>Misc Val</th>\n",
       "      <th>Mo Sold</th>\n",
       "      <th>Yr Sold</th>\n",
       "      <th>Sale Type</th>\n",
       "    </tr>\n",
       "  </thead>\n",
       "  <tbody>\n",
       "    <tr>\n",
       "      <th>0</th>\n",
       "      <td>2658</td>\n",
       "      <td>902301120</td>\n",
       "      <td>190</td>\n",
       "      <td>RM</td>\n",
       "      <td>69.000000</td>\n",
       "      <td>9142</td>\n",
       "      <td>Pave</td>\n",
       "      <td>Grvl</td>\n",
       "      <td>Reg</td>\n",
       "      <td>Lvl</td>\n",
       "      <td>...</td>\n",
       "      <td>0</td>\n",
       "      <td>0</td>\n",
       "      <td>0</td>\n",
       "      <td>NA</td>\n",
       "      <td>NA</td>\n",
       "      <td>NA</td>\n",
       "      <td>0</td>\n",
       "      <td>4</td>\n",
       "      <td>2006</td>\n",
       "      <td>WD</td>\n",
       "    </tr>\n",
       "    <tr>\n",
       "      <th>1</th>\n",
       "      <td>2718</td>\n",
       "      <td>905108090</td>\n",
       "      <td>90</td>\n",
       "      <td>RL</td>\n",
       "      <td>69.545961</td>\n",
       "      <td>9662</td>\n",
       "      <td>Pave</td>\n",
       "      <td>None</td>\n",
       "      <td>IR1</td>\n",
       "      <td>Lvl</td>\n",
       "      <td>...</td>\n",
       "      <td>0</td>\n",
       "      <td>0</td>\n",
       "      <td>0</td>\n",
       "      <td>NA</td>\n",
       "      <td>NA</td>\n",
       "      <td>NA</td>\n",
       "      <td>0</td>\n",
       "      <td>8</td>\n",
       "      <td>2006</td>\n",
       "      <td>WD</td>\n",
       "    </tr>\n",
       "    <tr>\n",
       "      <th>2</th>\n",
       "      <td>2414</td>\n",
       "      <td>528218130</td>\n",
       "      <td>60</td>\n",
       "      <td>RL</td>\n",
       "      <td>58.000000</td>\n",
       "      <td>17104</td>\n",
       "      <td>Pave</td>\n",
       "      <td>None</td>\n",
       "      <td>IR1</td>\n",
       "      <td>Lvl</td>\n",
       "      <td>...</td>\n",
       "      <td>0</td>\n",
       "      <td>0</td>\n",
       "      <td>0</td>\n",
       "      <td>NA</td>\n",
       "      <td>NA</td>\n",
       "      <td>NA</td>\n",
       "      <td>0</td>\n",
       "      <td>9</td>\n",
       "      <td>2006</td>\n",
       "      <td>New</td>\n",
       "    </tr>\n",
       "    <tr>\n",
       "      <th>3</th>\n",
       "      <td>1989</td>\n",
       "      <td>902207150</td>\n",
       "      <td>30</td>\n",
       "      <td>RM</td>\n",
       "      <td>60.000000</td>\n",
       "      <td>8520</td>\n",
       "      <td>Pave</td>\n",
       "      <td>None</td>\n",
       "      <td>Reg</td>\n",
       "      <td>Lvl</td>\n",
       "      <td>...</td>\n",
       "      <td>0</td>\n",
       "      <td>0</td>\n",
       "      <td>0</td>\n",
       "      <td>NA</td>\n",
       "      <td>NA</td>\n",
       "      <td>NA</td>\n",
       "      <td>0</td>\n",
       "      <td>7</td>\n",
       "      <td>2007</td>\n",
       "      <td>WD</td>\n",
       "    </tr>\n",
       "    <tr>\n",
       "      <th>4</th>\n",
       "      <td>625</td>\n",
       "      <td>535105100</td>\n",
       "      <td>20</td>\n",
       "      <td>RL</td>\n",
       "      <td>69.545961</td>\n",
       "      <td>9500</td>\n",
       "      <td>Pave</td>\n",
       "      <td>None</td>\n",
       "      <td>IR1</td>\n",
       "      <td>Lvl</td>\n",
       "      <td>...</td>\n",
       "      <td>0</td>\n",
       "      <td>185</td>\n",
       "      <td>0</td>\n",
       "      <td>NA</td>\n",
       "      <td>NA</td>\n",
       "      <td>NA</td>\n",
       "      <td>0</td>\n",
       "      <td>7</td>\n",
       "      <td>2009</td>\n",
       "      <td>WD</td>\n",
       "    </tr>\n",
       "  </tbody>\n",
       "</table>\n",
       "<p>5 rows × 80 columns</p>\n",
       "</div>"
      ],
      "text/plain": [
       "     Id        PID  MS SubClass MS Zoning  Lot Frontage  Lot Area Street  \\\n",
       "0  2658  902301120          190        RM     69.000000      9142   Pave   \n",
       "1  2718  905108090           90        RL     69.545961      9662   Pave   \n",
       "2  2414  528218130           60        RL     58.000000     17104   Pave   \n",
       "3  1989  902207150           30        RM     60.000000      8520   Pave   \n",
       "4   625  535105100           20        RL     69.545961      9500   Pave   \n",
       "\n",
       "  Alley Lot Shape Land Contour  ... 3Ssn Porch Screen Porch Pool Area Pool QC  \\\n",
       "0  Grvl       Reg          Lvl  ...          0            0         0      NA   \n",
       "1  None       IR1          Lvl  ...          0            0         0      NA   \n",
       "2  None       IR1          Lvl  ...          0            0         0      NA   \n",
       "3  None       Reg          Lvl  ...          0            0         0      NA   \n",
       "4  None       IR1          Lvl  ...          0          185         0      NA   \n",
       "\n",
       "  Fence Misc Feature Misc Val Mo Sold  Yr Sold  Sale Type  \n",
       "0    NA           NA        0       4     2006        WD   \n",
       "1    NA           NA        0       8     2006        WD   \n",
       "2    NA           NA        0       9     2006        New  \n",
       "3    NA           NA        0       7     2007        WD   \n",
       "4    NA           NA        0       7     2009        WD   \n",
       "\n",
       "[5 rows x 80 columns]"
      ]
     },
     "execution_count": 1267,
     "metadata": {},
     "output_type": "execute_result"
    }
   ],
   "source": [
    "houses.head()"
   ]
  },
  {
   "cell_type": "code",
   "execution_count": 1268,
   "metadata": {},
   "outputs": [
    {
     "name": "stdout",
     "output_type": "stream",
     "text": [
      "<class 'pandas.core.frame.DataFrame'>\n",
      "RangeIndex: 878 entries, 0 to 877\n",
      "Data columns (total 80 columns):\n",
      " #   Column           Non-Null Count  Dtype  \n",
      "---  ------           --------------  -----  \n",
      " 0   Id               878 non-null    int64  \n",
      " 1   PID              878 non-null    int64  \n",
      " 2   MS SubClass      878 non-null    int64  \n",
      " 3   MS Zoning        878 non-null    object \n",
      " 4   Lot Frontage     878 non-null    float64\n",
      " 5   Lot Area         878 non-null    int64  \n",
      " 6   Street           878 non-null    object \n",
      " 7   Alley            878 non-null    object \n",
      " 8   Lot Shape        878 non-null    object \n",
      " 9   Land Contour     878 non-null    object \n",
      " 10  Utilities        878 non-null    object \n",
      " 11  Lot Config       878 non-null    object \n",
      " 12  Land Slope       878 non-null    object \n",
      " 13  Neighborhood     878 non-null    object \n",
      " 14  Condition 1      878 non-null    object \n",
      " 15  Condition 2      878 non-null    object \n",
      " 16  Bldg Type        878 non-null    object \n",
      " 17  House Style      878 non-null    object \n",
      " 18  Overall Qual     878 non-null    int64  \n",
      " 19  Overall Cond     878 non-null    int64  \n",
      " 20  Year Built       878 non-null    int64  \n",
      " 21  Year Remod/Add   878 non-null    int64  \n",
      " 22  Roof Style       878 non-null    object \n",
      " 23  Roof Matl        878 non-null    object \n",
      " 24  Exterior 1st     878 non-null    object \n",
      " 25  Exterior 2nd     878 non-null    object \n",
      " 26  Mas Vnr Type     878 non-null    object \n",
      " 27  Mas Vnr Area     878 non-null    float64\n",
      " 28  Exter Qual       878 non-null    object \n",
      " 29  Exter Cond       878 non-null    object \n",
      " 30  Foundation       878 non-null    object \n",
      " 31  Bsmt Qual        878 non-null    object \n",
      " 32  Bsmt Cond        878 non-null    object \n",
      " 33  Bsmt Exposure    878 non-null    object \n",
      " 34  BsmtFin Type 1   878 non-null    object \n",
      " 35  BsmtFin SF 1     878 non-null    int64  \n",
      " 36  BsmtFin Type 2   878 non-null    object \n",
      " 37  BsmtFin SF 2     878 non-null    int64  \n",
      " 38  Bsmt Unf SF      878 non-null    int64  \n",
      " 39  Total Bsmt SF    878 non-null    int64  \n",
      " 40  Heating          878 non-null    object \n",
      " 41  Heating QC       878 non-null    object \n",
      " 42  Central Air      878 non-null    object \n",
      " 43  Electrical       878 non-null    object \n",
      " 44  1st Flr SF       878 non-null    int64  \n",
      " 45  2nd Flr SF       878 non-null    int64  \n",
      " 46  Low Qual Fin SF  878 non-null    int64  \n",
      " 47  Gr Liv Area      878 non-null    int64  \n",
      " 48  Bsmt Full Bath   878 non-null    int64  \n",
      " 49  Bsmt Half Bath   878 non-null    int64  \n",
      " 50  Full Bath        878 non-null    int64  \n",
      " 51  Half Bath        878 non-null    int64  \n",
      " 52  Bedroom AbvGr    878 non-null    int64  \n",
      " 53  Kitchen AbvGr    878 non-null    int64  \n",
      " 54  Kitchen Qual     878 non-null    object \n",
      " 55  TotRms AbvGrd    878 non-null    int64  \n",
      " 56  Functional       878 non-null    object \n",
      " 57  Fireplaces       878 non-null    int64  \n",
      " 58  Fireplace Qu     878 non-null    object \n",
      " 59  Garage Type      878 non-null    object \n",
      " 60  Garage Yr Blt    878 non-null    float64\n",
      " 61  Garage Finish    878 non-null    object \n",
      " 62  Garage Cars      878 non-null    int64  \n",
      " 63  Garage Area      878 non-null    int64  \n",
      " 64  Garage Qual      878 non-null    object \n",
      " 65  Garage Cond      878 non-null    object \n",
      " 66  Paved Drive      878 non-null    object \n",
      " 67  Wood Deck SF     878 non-null    int64  \n",
      " 68  Open Porch SF    878 non-null    int64  \n",
      " 69  Enclosed Porch   878 non-null    int64  \n",
      " 70  3Ssn Porch       878 non-null    int64  \n",
      " 71  Screen Porch     878 non-null    int64  \n",
      " 72  Pool Area        878 non-null    int64  \n",
      " 73  Pool QC          878 non-null    object \n",
      " 74  Fence            878 non-null    object \n",
      " 75  Misc Feature     878 non-null    object \n",
      " 76  Misc Val         878 non-null    int64  \n",
      " 77  Mo Sold          878 non-null    int64  \n",
      " 78  Yr Sold          878 non-null    int64  \n",
      " 79  Sale Type        878 non-null    object \n",
      "dtypes: float64(3), int64(35), object(42)\n",
      "memory usage: 548.9+ KB\n"
     ]
    }
   ],
   "source": [
    "houses.info()"
   ]
  },
  {
   "cell_type": "markdown",
   "metadata": {},
   "source": [
    "### Find categorical columns to binarize or encode"
   ]
  },
  {
   "cell_type": "markdown",
   "metadata": {},
   "source": [
    "#### MS Zoning column"
   ]
  },
  {
   "cell_type": "code",
   "execution_count": 1269,
   "metadata": {},
   "outputs": [
    {
     "data": {
      "text/plain": [
       "RL    674\n",
       "RM    146\n",
       "FV     38\n",
       "RH     13\n",
       "C       6\n",
       "I       1\n",
       "Name: MS Zoning, dtype: int64"
      ]
     },
     "execution_count": 1269,
     "metadata": {},
     "output_type": "execute_result"
    }
   ],
   "source": [
    "houses['MS Zoning'].value_counts()"
   ]
  },
  {
   "cell_type": "code",
   "execution_count": 1270,
   "metadata": {},
   "outputs": [
    {
     "data": {
      "text/plain": [
       "7    674\n",
       "6    146\n",
       "5     38\n",
       "3     13\n",
       "4      6\n",
       "1      1\n",
       "Name: MS Zoning, dtype: int64"
      ]
     },
     "execution_count": 1270,
     "metadata": {},
     "output_type": "execute_result"
    }
   ],
   "source": [
    "# Convert RL to 7, RM to 6, FV to 5, C to 4, RH to 3, A to 2, and I to 1\n",
    "houses['MS Zoning'] = houses['MS Zoning'].map({'RL': 7, 'RM': 6, 'FV': 5,'C': 4, 'RH': 3,\n",
    "                                               'A': 2, 'I': 1})\n",
    "\n",
    "houses['MS Zoning'].value_counts()"
   ]
  },
  {
   "cell_type": "markdown",
   "metadata": {},
   "source": [
    "#### Street column"
   ]
  },
  {
   "cell_type": "code",
   "execution_count": 1271,
   "metadata": {},
   "outputs": [
    {
     "data": {
      "text/plain": [
       "Pave    873\n",
       "Grvl      5\n",
       "Name: Street, dtype: int64"
      ]
     },
     "execution_count": 1271,
     "metadata": {},
     "output_type": "execute_result"
    }
   ],
   "source": [
    "houses['Street'].value_counts()"
   ]
  },
  {
   "cell_type": "code",
   "execution_count": 1272,
   "metadata": {},
   "outputs": [
    {
     "data": {
      "text/plain": [
       "2    873\n",
       "1      5\n",
       "Name: Street, dtype: int64"
      ]
     },
     "execution_count": 1272,
     "metadata": {},
     "output_type": "execute_result"
    }
   ],
   "source": [
    "# Convert Pave to 2, and Grvl to 1.  0 will be used later as some features contain None, or NA\n",
    "houses['Street'] = houses['Street'].map({'Pave': 2, 'Grvl': 1})\n",
    "\n",
    "houses['Street'].value_counts()"
   ]
  },
  {
   "cell_type": "markdown",
   "metadata": {},
   "source": [
    "#### Alley column"
   ]
  },
  {
   "cell_type": "code",
   "execution_count": 1273,
   "metadata": {},
   "outputs": [
    {
     "data": {
      "text/plain": [
       "None    820\n",
       "Grvl     35\n",
       "Pave     23\n",
       "Name: Alley, dtype: int64"
      ]
     },
     "execution_count": 1273,
     "metadata": {},
     "output_type": "execute_result"
    }
   ],
   "source": [
    "houses['Alley'].value_counts()"
   ]
  },
  {
   "cell_type": "code",
   "execution_count": 1274,
   "metadata": {},
   "outputs": [
    {
     "data": {
      "text/plain": [
       "0    820\n",
       "1     35\n",
       "2     23\n",
       "Name: Alley, dtype: int64"
      ]
     },
     "execution_count": 1274,
     "metadata": {},
     "output_type": "execute_result"
    }
   ],
   "source": [
    "# Convert Pave to 2, and Grvl to 1, None to  0\n",
    "houses['Alley'] = houses['Alley'].map({'Pave': 2, 'Grvl': 1, 'None': 0})\n",
    "\n",
    "houses['Alley'].value_counts()"
   ]
  },
  {
   "cell_type": "markdown",
   "metadata": {},
   "source": [
    "#### Lot Shape"
   ]
  },
  {
   "cell_type": "code",
   "execution_count": 1275,
   "metadata": {},
   "outputs": [
    {
     "data": {
      "text/plain": [
       "Reg    564\n",
       "IR1    286\n",
       "IR2     21\n",
       "IR3      7\n",
       "Name: Lot Shape, dtype: int64"
      ]
     },
     "execution_count": 1275,
     "metadata": {},
     "output_type": "execute_result"
    }
   ],
   "source": [
    "houses['Lot Shape'].value_counts()"
   ]
  },
  {
   "cell_type": "code",
   "execution_count": 1276,
   "metadata": {},
   "outputs": [
    {
     "data": {
      "text/plain": [
       "0    564\n",
       "1    286\n",
       "2     21\n",
       "3      7\n",
       "Name: Lot Shape, dtype: int64"
      ]
     },
     "execution_count": 1276,
     "metadata": {},
     "output_type": "execute_result"
    }
   ],
   "source": [
    "# Convert IR3 to 3, IR2 to 2, and IR1 to 1, Reg to  0\n",
    "houses['Lot Shape'] = houses['Lot Shape'].map({'IR3': 3, 'IR2': 2, 'IR1': 1, 'Reg': 0})\n",
    "\n",
    "houses['Lot Shape'].value_counts()"
   ]
  },
  {
   "cell_type": "markdown",
   "metadata": {},
   "source": [
    "#### Land Contour column"
   ]
  },
  {
   "cell_type": "code",
   "execution_count": 1277,
   "metadata": {},
   "outputs": [
    {
     "data": {
      "text/plain": [
       "Lvl    790\n",
       "Bnk     36\n",
       "HLS     35\n",
       "Low     17\n",
       "Name: Land Contour, dtype: int64"
      ]
     },
     "execution_count": 1277,
     "metadata": {},
     "output_type": "execute_result"
    }
   ],
   "source": [
    "houses['Land Contour'].value_counts()"
   ]
  },
  {
   "cell_type": "code",
   "execution_count": 1278,
   "metadata": {},
   "outputs": [
    {
     "data": {
      "text/plain": [
       "3    790\n",
       "1     36\n",
       "2     35\n",
       "0     17\n",
       "Name: Land Contour, dtype: int64"
      ]
     },
     "execution_count": 1278,
     "metadata": {},
     "output_type": "execute_result"
    }
   ],
   "source": [
    "# Convert Lvl to 3, HLS to 2, and Bnk to 1, Low to  0\n",
    "houses['Land Contour'] = houses['Land Contour'].map({'Lvl': 3, 'HLS': 2, 'Bnk': 1, 'Low': 0})\n",
    "\n",
    "houses['Land Contour'].value_counts()"
   ]
  },
  {
   "cell_type": "markdown",
   "metadata": {},
   "source": [
    "### Utilities is almost entirely AllPub.  Just drop."
   ]
  },
  {
   "cell_type": "code",
   "execution_count": 1279,
   "metadata": {},
   "outputs": [
    {
     "data": {
      "text/plain": [
       "AllPub    877\n",
       "NoSewr      1\n",
       "Name: Utilities, dtype: int64"
      ]
     },
     "execution_count": 1279,
     "metadata": {},
     "output_type": "execute_result"
    }
   ],
   "source": [
    "houses['Utilities'].value_counts()"
   ]
  },
  {
   "cell_type": "code",
   "execution_count": 1280,
   "metadata": {},
   "outputs": [],
   "source": [
    "houses.drop('Utilities', axis=1, inplace=True)"
   ]
  },
  {
   "cell_type": "markdown",
   "metadata": {},
   "source": [
    "#### Lot Config column"
   ]
  },
  {
   "cell_type": "code",
   "execution_count": 1281,
   "metadata": {},
   "outputs": [
    {
     "data": {
      "text/plain": [
       "Inside     636\n",
       "Corner     163\n",
       "CulDSac     49\n",
       "FR2         25\n",
       "FR3          5\n",
       "Name: Lot Config, dtype: int64"
      ]
     },
     "execution_count": 1281,
     "metadata": {},
     "output_type": "execute_result"
    }
   ],
   "source": [
    "houses['Lot Config'].value_counts()"
   ]
  },
  {
   "cell_type": "code",
   "execution_count": 1282,
   "metadata": {},
   "outputs": [
    {
     "data": {
      "text/plain": [
       "4    636\n",
       "3    163\n",
       "2     49\n",
       "1     25\n",
       "0      5\n",
       "Name: Lot Config, dtype: int64"
      ]
     },
     "execution_count": 1282,
     "metadata": {},
     "output_type": "execute_result"
    }
   ],
   "source": [
    "# Convert Inside to 4, Corner to 3, CulDSac to 2, and FR2 to 1, FR3 to 0\n",
    "houses['Lot Config'] = houses['Lot Config'].map({'Inside': 4,'Corner': 3, 'CulDSac': 2,\n",
    "                                                 'FR2': 1, 'FR3': 0})\n",
    "\n",
    "houses['Lot Config'].value_counts()"
   ]
  },
  {
   "cell_type": "markdown",
   "metadata": {},
   "source": [
    "#### Land Slope column"
   ]
  },
  {
   "cell_type": "code",
   "execution_count": 1283,
   "metadata": {},
   "outputs": [
    {
     "data": {
      "text/plain": [
       "Gtl    835\n",
       "Mod     37\n",
       "Sev      6\n",
       "Name: Land Slope, dtype: int64"
      ]
     },
     "execution_count": 1283,
     "metadata": {},
     "output_type": "execute_result"
    }
   ],
   "source": [
    "houses['Land Slope'].value_counts()"
   ]
  },
  {
   "cell_type": "code",
   "execution_count": 1284,
   "metadata": {},
   "outputs": [
    {
     "data": {
      "text/plain": [
       "2    835\n",
       "1     37\n",
       "0      6\n",
       "Name: Land Slope, dtype: int64"
      ]
     },
     "execution_count": 1284,
     "metadata": {},
     "output_type": "execute_result"
    }
   ],
   "source": [
    "# Convert Gtl to 2, and Mod to 1, Sev to 0\n",
    "houses['Land Slope'] = houses['Land Slope'].map({'Gtl': 2, 'Mod': 1, 'Sev': 0})\n",
    "\n",
    "houses['Land Slope'].value_counts()"
   ]
  },
  {
   "cell_type": "markdown",
   "metadata": {},
   "source": [
    "#### Neighborhood column\n",
    "Too many to map each one, so create dummy columns"
   ]
  },
  {
   "cell_type": "markdown",
   "metadata": {},
   "source": [
    "---\n",
    "Before dummying, create a new column which shows whether or not a house is near the Iowa State campus.\n",
    "\n",
    "##### Create NearISU column\n",
    "One main component of my problem statment will be to compare the prices of houses in neighborhoods near the Iowa State\n",
    "University's campus.\n",
    "\n",
    "By using several mapping and real estate web sites, I have identified the following neighborhoods:\n",
    ">BrkSide (Brookside)<br>\n",
    "Crawfor (Crawford)<br>\n",
    "Edwards<br>\n",
    "IDOTRR (Iowa DOT and Rail Road)<br>\n",
    "OldTown (Old Town)<br>\n",
    "SWISU (South & West of Iowa State University)<br>\n",
    "Sawyer<br>\n"
   ]
  },
  {
   "cell_type": "code",
   "execution_count": 1285,
   "metadata": {},
   "outputs": [
    {
     "data": {
      "text/plain": [
       "(270, 79)"
      ]
     },
     "execution_count": 1285,
     "metadata": {},
     "output_type": "execute_result"
    }
   ],
   "source": [
    "near_ISU_hoods = ['BrkSide','Crawfor', 'Edwards', 'IDOTRR', 'OldTown', 'SWISU','Sawyer']\n",
    "\n",
    "houses[houses['Neighborhood'].isin(near_ISU_hoods)].shape"
   ]
  },
  {
   "cell_type": "markdown",
   "metadata": {},
   "source": [
    "522 houses are in the neighborhoods near the Iowa State campus."
   ]
  },
  {
   "cell_type": "code",
   "execution_count": 1286,
   "metadata": {},
   "outputs": [],
   "source": [
    "houses['near_ISU'] = [1 if hood in near_ISU_hoods else 0 for hood in houses['Neighborhood']]"
   ]
  },
  {
   "cell_type": "markdown",
   "metadata": {},
   "source": [
    "Next create dummys for all neighborhoods"
   ]
  },
  {
   "cell_type": "code",
   "execution_count": 1287,
   "metadata": {},
   "outputs": [
    {
     "data": {
      "text/plain": [
       "NAmes      133\n",
       "CollgCr     87\n",
       "OldTown     76\n",
       "Somerst     52\n",
       "Edwards     50\n",
       "Gilbert     49\n",
       "NridgHt     44\n",
       "NWAmes      44\n",
       "Sawyer      40\n",
       "SawyerW     38\n",
       "Mitchel     32\n",
       "Crawfor     32\n",
       "BrkSide     32\n",
       "IDOTRR      24\n",
       "Timber      24\n",
       "NoRidge     23\n",
       "ClearCr     17\n",
       "SWISU       16\n",
       "MeadowV     13\n",
       "StoneBr     13\n",
       "BrDale      11\n",
       "Veenker      7\n",
       "NPkVill      6\n",
       "Blmngtn      6\n",
       "Greens       5\n",
       "Blueste      4\n",
       "Name: Neighborhood, dtype: int64"
      ]
     },
     "execution_count": 1287,
     "metadata": {},
     "output_type": "execute_result"
    }
   ],
   "source": [
    "houses['Neighborhood'].value_counts()"
   ]
  },
  {
   "cell_type": "code",
   "execution_count": 1288,
   "metadata": {},
   "outputs": [],
   "source": [
    "houses = pd.get_dummies(houses, columns=['Neighborhood'], drop_first=True)"
   ]
  },
  {
   "cell_type": "code",
   "execution_count": 1289,
   "metadata": {},
   "outputs": [],
   "source": [
    "#list(houses.columns)"
   ]
  },
  {
   "cell_type": "markdown",
   "metadata": {},
   "source": [
    "#### Condition 1 column"
   ]
  },
  {
   "cell_type": "code",
   "execution_count": 1290,
   "metadata": {},
   "outputs": [
    {
     "data": {
      "text/plain": [
       "Norm      755\n",
       "Feedr      55\n",
       "Artery     22\n",
       "RRAn       14\n",
       "PosN       11\n",
       "PosA        8\n",
       "RRAe        7\n",
       "RRNe        3\n",
       "RRNn        3\n",
       "Name: Condition 1, dtype: int64"
      ]
     },
     "execution_count": 1290,
     "metadata": {},
     "output_type": "execute_result"
    }
   ],
   "source": [
    "houses['Condition 1'].value_counts()"
   ]
  },
  {
   "cell_type": "code",
   "execution_count": 1291,
   "metadata": {},
   "outputs": [
    {
     "data": {
      "text/plain": [
       "8    755\n",
       "7     55\n",
       "6     22\n",
       "5     14\n",
       "4     11\n",
       "2      8\n",
       "3      7\n",
       "1      3\n",
       "0      3\n",
       "Name: Condition 1, dtype: int64"
      ]
     },
     "execution_count": 1291,
     "metadata": {},
     "output_type": "execute_result"
    }
   ],
   "source": [
    "# Convert Norm to 8,Feedr to 7, Artery to 6, RRAn to 5, PosN to 4, RRAe to 3, PosA to 2,\n",
    "# and RRNn to 1, RRNe to 0\n",
    "houses['Condition 1'] = houses['Condition 1'].map({'Norm': 8,'Feedr': 7, 'Artery': 6, 'RRAn': 5,\n",
    "                                                   'PosN': 4, 'RRAe': 3, 'PosA': 2, 'RRNn': 1,\n",
    "                                                  'RRNe': 0})\n",
    "\n",
    "houses['Condition 1'].value_counts()"
   ]
  },
  {
   "cell_type": "markdown",
   "metadata": {},
   "source": [
    "#### Condition 2 has same categories as Condition 1"
   ]
  },
  {
   "cell_type": "code",
   "execution_count": 1292,
   "metadata": {},
   "outputs": [
    {
     "data": {
      "text/plain": [
       "Norm     875\n",
       "Feedr      2\n",
       "PosA       1\n",
       "Name: Condition 2, dtype: int64"
      ]
     },
     "execution_count": 1292,
     "metadata": {},
     "output_type": "execute_result"
    }
   ],
   "source": [
    "houses['Condition 2'].value_counts()"
   ]
  },
  {
   "cell_type": "code",
   "execution_count": 1293,
   "metadata": {},
   "outputs": [
    {
     "data": {
      "text/plain": [
       "8    875\n",
       "7      2\n",
       "2      1\n",
       "Name: Condition 2, dtype: int64"
      ]
     },
     "execution_count": 1293,
     "metadata": {},
     "output_type": "execute_result"
    }
   ],
   "source": [
    "# Convert Norm to 8,Feedr to 7, Artery to 6, RRAn to 5, PosN to 4, RRAe to 3, PosA to 2,\n",
    "# and RRNn to 1, RRNe to 0\n",
    "houses['Condition 2'] = houses['Condition 2'].map({'Norm': 8,'Feedr': 7, 'Artery': 6, 'RRAn': 5,\n",
    "                                                   'PosN': 4, 'RRAe': 3, 'PosA': 2, 'RRNn': 1,\n",
    "                                                  'RRNe': 0})\n",
    "\n",
    "houses['Condition 2'].value_counts()"
   ]
  },
  {
   "cell_type": "markdown",
   "metadata": {},
   "source": [
    "#### Bldg Type column"
   ]
  },
  {
   "cell_type": "code",
   "execution_count": 1294,
   "metadata": {},
   "outputs": [
    {
     "data": {
      "text/plain": [
       "1Fam      724\n",
       "TwnhsE     72\n",
       "Duplex     34\n",
       "Twnhs      32\n",
       "2fmCon     16\n",
       "Name: Bldg Type, dtype: int64"
      ]
     },
     "execution_count": 1294,
     "metadata": {},
     "output_type": "execute_result"
    }
   ],
   "source": [
    "houses['Bldg Type'].value_counts()"
   ]
  },
  {
   "cell_type": "code",
   "execution_count": 1295,
   "metadata": {},
   "outputs": [
    {
     "data": {
      "text/plain": [
       "4    724\n",
       "3     72\n",
       "2     34\n",
       "1     32\n",
       "0     16\n",
       "Name: Bldg Type, dtype: int64"
      ]
     },
     "execution_count": 1295,
     "metadata": {},
     "output_type": "execute_result"
    }
   ],
   "source": [
    "# Convert 1Fam to 4, TwnhsE to 3, Duplex to 2, and Twnhs to 1, 2fmCon to 0\n",
    "houses['Bldg Type'] = houses['Bldg Type'].map({'1Fam': 4, 'TwnhsE': 3, 'Duplex': 2, 'Twnhs': 1,\n",
    "                                                  '2fmCon': 0})\n",
    "\n",
    "houses['Bldg Type'].value_counts()"
   ]
  },
  {
   "cell_type": "markdown",
   "metadata": {},
   "source": [
    "#### House Style column\n",
    "\n",
    "For now categorize, but later will create a new feature called **floors** to show one or two stories in a house.\n",
    "\n",
    "Basement information is contained in other columns."
   ]
  },
  {
   "cell_type": "code",
   "execution_count": 1296,
   "metadata": {},
   "outputs": [
    {
     "data": {
      "text/plain": [
       "1Story    422\n",
       "2Story    274\n",
       "1.5Fin     96\n",
       "SLvl       34\n",
       "SFoyer     33\n",
       "2.5Unf     10\n",
       "1.5Unf      7\n",
       "2.5Fin      2\n",
       "Name: House Style, dtype: int64"
      ]
     },
     "execution_count": 1296,
     "metadata": {},
     "output_type": "execute_result"
    }
   ],
   "source": [
    "# Save this for a later histogram\n",
    "house_styles = houses['House Style']\n",
    "\n",
    "houses['House Style'].value_counts()"
   ]
  },
  {
   "cell_type": "code",
   "execution_count": 1297,
   "metadata": {},
   "outputs": [
    {
     "data": {
      "text/plain": [
       "7    422\n",
       "6    274\n",
       "5     96\n",
       "4     34\n",
       "3     33\n",
       "2     10\n",
       "1      7\n",
       "0      2\n",
       "Name: House Style, dtype: int64"
      ]
     },
     "execution_count": 1297,
     "metadata": {},
     "output_type": "execute_result"
    }
   ],
   "source": [
    "# Convert 1Story to 7, 2Story to 6, 1.5Fin to 5, Slvl to 4, SFoyer to 3, 2.5Unf to 2,\n",
    "# and 1.5Unf to 1, 2.5Fin to 0\n",
    "houses['House Style'] = houses['House Style'].map({'1Story': 7, '2Story': 6, '1.5Fin': 5,\n",
    "                                                   'SLvl': 4, 'SFoyer': 3, '2.5Unf': 2, '1.5Unf': 1,\n",
    "                                                  '2.5Fin': 0})\n",
    "\n",
    "houses['House Style'].value_counts()"
   ]
  },
  {
   "cell_type": "markdown",
   "metadata": {},
   "source": [
    "#### Roof Style"
   ]
  },
  {
   "cell_type": "code",
   "execution_count": 1298,
   "metadata": {},
   "outputs": [
    {
     "data": {
      "text/plain": [
       "Gable      702\n",
       "Hip        153\n",
       "Gambrel     10\n",
       "Flat         7\n",
       "Mansard      4\n",
       "Shed         2\n",
       "Name: Roof Style, dtype: int64"
      ]
     },
     "execution_count": 1298,
     "metadata": {},
     "output_type": "execute_result"
    }
   ],
   "source": [
    "houses['Roof Style'].value_counts()"
   ]
  },
  {
   "cell_type": "code",
   "execution_count": 1299,
   "metadata": {},
   "outputs": [
    {
     "data": {
      "text/plain": [
       "5    702\n",
       "4    153\n",
       "2     10\n",
       "3      7\n",
       "1      4\n",
       "0      2\n",
       "Name: Roof Style, dtype: int64"
      ]
     },
     "execution_count": 1299,
     "metadata": {},
     "output_type": "execute_result"
    }
   ],
   "source": [
    "# Convert Gable to 5, Hip to 4, Flat to 3, Gambrel to 2, and Mansard to 1, Shed to 0\n",
    "houses['Roof Style'] = houses['Roof Style'].map({'Gable': 5, 'Hip': 4, 'Flat': 3,\n",
    "                                                 'Gambrel': 2, 'Mansard': 1, 'Shed': 0})\n",
    "\n",
    "houses['Roof Style'].value_counts()"
   ]
  },
  {
   "cell_type": "markdown",
   "metadata": {},
   "source": [
    "#### Roof Matl column"
   ]
  },
  {
   "cell_type": "code",
   "execution_count": 1300,
   "metadata": {},
   "outputs": [
    {
     "data": {
      "text/plain": [
       "CompShg    861\n",
       "Tar&Grv      8\n",
       "WdShake      5\n",
       "WdShngl      2\n",
       "Metal        1\n",
       "Roll         1\n",
       "Name: Roof Matl, dtype: int64"
      ]
     },
     "execution_count": 1300,
     "metadata": {},
     "output_type": "execute_result"
    }
   ],
   "source": [
    "houses['Roof Matl'].value_counts()"
   ]
  },
  {
   "cell_type": "code",
   "execution_count": 1301,
   "metadata": {},
   "outputs": [
    {
     "data": {
      "text/plain": [
       "4    861\n",
       "3      8\n",
       "2      5\n",
       "1      2\n",
       "6      1\n",
       "5      1\n",
       "Name: Roof Matl, dtype: int64"
      ]
     },
     "execution_count": 1301,
     "metadata": {},
     "output_type": "execute_result"
    }
   ],
   "source": [
    "houses['Roof Matl'] = houses['Roof Matl'].map({'ClyTile':7, 'Metal':6, 'Roll':5,'CompShg': 4, 'Tar&Grv': 3,\n",
    "                                                 'WdShake': 2, 'WdShngl': 1, 'Membran': 0})\n",
    "\n",
    "houses['Roof Matl'].value_counts()"
   ]
  },
  {
   "cell_type": "markdown",
   "metadata": {},
   "source": [
    "#### Exterior 1st column"
   ]
  },
  {
   "cell_type": "code",
   "execution_count": 1302,
   "metadata": {},
   "outputs": [
    {
     "data": {
      "text/plain": [
       "VinylSd    302\n",
       "Wd Sdng    144\n",
       "HdBoard    142\n",
       "MetalSd    119\n",
       "Plywood     69\n",
       "CemntBd     35\n",
       "BrkFace     24\n",
       "Stucco      16\n",
       "AsbShng     11\n",
       "WdShing     11\n",
       "BrkComm      3\n",
       "PreCast      1\n",
       "AsphShn      1\n",
       "Name: Exterior 1st, dtype: int64"
      ]
     },
     "execution_count": 1302,
     "metadata": {},
     "output_type": "execute_result"
    }
   ],
   "source": [
    "houses['Exterior 1st'].value_counts()"
   ]
  },
  {
   "cell_type": "code",
   "execution_count": 1303,
   "metadata": {},
   "outputs": [
    {
     "data": {
      "text/plain": [
       "12    302\n",
       "11    144\n",
       "10    142\n",
       "9     119\n",
       "8      69\n",
       "7      35\n",
       "6      24\n",
       "5      16\n",
       "4      11\n",
       "3      11\n",
       "2       3\n",
       "1       1\n",
       "0       1\n",
       "Name: Exterior 1st, dtype: int64"
      ]
     },
     "execution_count": 1303,
     "metadata": {},
     "output_type": "execute_result"
    }
   ],
   "source": [
    "\n",
    "ext1_dict = {'VinylSd':12, 'Wd Sdng':11,'HdBoard':10,'MetalSd':9,\n",
    "            'Plywood':8,'CemntBd':7, 'BrkFace':6, 'Stucco':5, 'AsbShng': 4,\n",
    "            'WdShing': 3,'BrkComm': 2, 'PreCast': 1, 'AsphShn': 0}\n",
    "\n",
    "houses['Exterior 1st'] = houses['Exterior 1st'].map(ext1_dict)\n",
    "\n",
    "houses['Exterior 1st'].value_counts()"
   ]
  },
  {
   "cell_type": "markdown",
   "metadata": {},
   "source": [
    "#### Exterior 2nd column"
   ]
  },
  {
   "cell_type": "code",
   "execution_count": 1304,
   "metadata": {},
   "outputs": [
    {
     "data": {
      "text/plain": [
       "VinylSd    294\n",
       "Wd Sdng    135\n",
       "HdBoard    131\n",
       "MetalSd    123\n",
       "Plywood     89\n",
       "CmentBd     35\n",
       "Wd Shng     18\n",
       "Stucco      17\n",
       "BrkFace     13\n",
       "AsbShng     10\n",
       "Brk Cmn      5\n",
       "ImStucc      4\n",
       "Other        1\n",
       "PreCast      1\n",
       "AsphShn      1\n",
       "CBlock       1\n",
       "Name: Exterior 2nd, dtype: int64"
      ]
     },
     "execution_count": 1304,
     "metadata": {},
     "output_type": "execute_result"
    }
   ],
   "source": [
    "houses['Exterior 2nd'].value_counts()"
   ]
  },
  {
   "cell_type": "code",
   "execution_count": 1305,
   "metadata": {},
   "outputs": [
    {
     "data": {
      "text/plain": [
       "15    294\n",
       "14    135\n",
       "13    131\n",
       "12    123\n",
       "11     89\n",
       "10     35\n",
       "9      18\n",
       "8      17\n",
       "7      13\n",
       "6      10\n",
       "5       5\n",
       "4       4\n",
       "3       1\n",
       "2       1\n",
       "1       1\n",
       "0       1\n",
       "Name: Exterior 2nd, dtype: int64"
      ]
     },
     "execution_count": 1305,
     "metadata": {},
     "output_type": "execute_result"
    }
   ],
   "source": [
    "\n",
    "ext2_dict = {'VinylSd':15, 'Wd Sdng':14, 'HdBoard':13,'MetalSd':12, 'Plywood':11,\n",
    "            'CmentBd':10, 'Wd Shng':9, 'Stucco':8, 'BrkFace': 7,'AsbShng': 6,\n",
    "             'Brk Cmn': 5, 'ImStucc': 4, 'Other':3, 'PreCast':2, 'AsphShn': 1 , 'CBlock': 0}\n",
    "\n",
    "houses['Exterior 2nd'] = houses['Exterior 2nd'].map(ext2_dict)\n",
    "\n",
    "houses['Exterior 2nd'].value_counts()"
   ]
  },
  {
   "cell_type": "markdown",
   "metadata": {},
   "source": [
    "#### Mas Vnr Type column - Masonry veneer type"
   ]
  },
  {
   "cell_type": "code",
   "execution_count": 1306,
   "metadata": {},
   "outputs": [
    {
     "data": {
      "text/plain": [
       "None       535\n",
       "BrkFace    250\n",
       "Stone       80\n",
       "BrkCmn      12\n",
       "CBlock       1\n",
       "Name: Mas Vnr Type, dtype: int64"
      ]
     },
     "execution_count": 1306,
     "metadata": {},
     "output_type": "execute_result"
    }
   ],
   "source": [
    "houses['Mas Vnr Type'].value_counts()"
   ]
  },
  {
   "cell_type": "code",
   "execution_count": 1307,
   "metadata": {},
   "outputs": [
    {
     "data": {
      "text/plain": [
       "4    535\n",
       "3    250\n",
       "2     80\n",
       "1     12\n",
       "0      1\n",
       "Name: Mas Vnr Type, dtype: int64"
      ]
     },
     "execution_count": 1307,
     "metadata": {},
     "output_type": "execute_result"
    }
   ],
   "source": [
    "houses['Mas Vnr Type'] = houses['Mas Vnr Type'].map({'None': 4, 'BrkFace': 3, 'Stone': 2,\n",
    "                                                  'BrkCmn': 1, 'CBlock':0})\n",
    "\n",
    "houses['Mas Vnr Type'].value_counts()"
   ]
  },
  {
   "cell_type": "markdown",
   "metadata": {},
   "source": [
    "#### Exter Qual column - Exterior quality"
   ]
  },
  {
   "cell_type": "code",
   "execution_count": 1308,
   "metadata": {},
   "outputs": [
    {
     "data": {
      "text/plain": [
       "TA    552\n",
       "Gd    292\n",
       "Ex     25\n",
       "Fa      9\n",
       "Name: Exter Qual, dtype: int64"
      ]
     },
     "execution_count": 1308,
     "metadata": {},
     "output_type": "execute_result"
    }
   ],
   "source": [
    "houses['Exter Qual'].value_counts()"
   ]
  },
  {
   "cell_type": "code",
   "execution_count": 1309,
   "metadata": {},
   "outputs": [
    {
     "data": {
      "text/plain": [
       "3    552\n",
       "4    292\n",
       "5     25\n",
       "2      9\n",
       "Name: Exter Qual, dtype: int64"
      ]
     },
     "execution_count": 1309,
     "metadata": {},
     "output_type": "execute_result"
    }
   ],
   "source": [
    "quality_map = {'Ex':5,'Gd': 4,'TA': 3, 'Fa': 2, 'Po': 1,'NA': 0}\n",
    "\n",
    "houses['Exter Qual'] = houses['Exter Qual'].map(quality_map)\n",
    "\n",
    "houses['Exter Qual'].value_counts()"
   ]
  },
  {
   "cell_type": "markdown",
   "metadata": {},
   "source": [
    "#### Exter Cond column - exterior condition"
   ]
  },
  {
   "cell_type": "code",
   "execution_count": 1310,
   "metadata": {},
   "outputs": [
    {
     "data": {
      "text/plain": [
       "TA    770\n",
       "Gd     84\n",
       "Fa     18\n",
       "Ex      5\n",
       "Po      1\n",
       "Name: Exter Cond, dtype: int64"
      ]
     },
     "execution_count": 1310,
     "metadata": {},
     "output_type": "execute_result"
    }
   ],
   "source": [
    "houses['Exter Cond'].value_counts()"
   ]
  },
  {
   "cell_type": "code",
   "execution_count": 1311,
   "metadata": {},
   "outputs": [
    {
     "data": {
      "text/plain": [
       "3    770\n",
       "4     84\n",
       "2     18\n",
       "5      5\n",
       "1      1\n",
       "Name: Exter Cond, dtype: int64"
      ]
     },
     "execution_count": 1311,
     "metadata": {},
     "output_type": "execute_result"
    }
   ],
   "source": [
    "houses['Exter Cond'] = houses['Exter Cond'].map(quality_map)\n",
    "\n",
    "houses['Exter Cond'].value_counts()"
   ]
  },
  {
   "cell_type": "markdown",
   "metadata": {},
   "source": [
    "#### Foundation column"
   ]
  },
  {
   "cell_type": "code",
   "execution_count": 1312,
   "metadata": {},
   "outputs": [
    {
     "data": {
      "text/plain": [
       "PConc     383\n",
       "CBlock    381\n",
       "BrkTil     90\n",
       "Slab       15\n",
       "Stone       6\n",
       "Wood        3\n",
       "Name: Foundation, dtype: int64"
      ]
     },
     "execution_count": 1312,
     "metadata": {},
     "output_type": "execute_result"
    }
   ],
   "source": [
    "houses['Foundation'].value_counts()"
   ]
  },
  {
   "cell_type": "code",
   "execution_count": 1313,
   "metadata": {},
   "outputs": [
    {
     "data": {
      "text/plain": [
       "5    383\n",
       "4    381\n",
       "3     90\n",
       "2     15\n",
       "1      6\n",
       "0      3\n",
       "Name: Foundation, dtype: int64"
      ]
     },
     "execution_count": 1313,
     "metadata": {},
     "output_type": "execute_result"
    }
   ],
   "source": [
    "houses['Foundation'] = houses['Foundation'].map({'PConc':5, 'CBlock': 4, 'BrkTil': 3,\n",
    "                                                 'Slab': 2, 'Stone': 1, 'Wood': 0})\n",
    "\n",
    "houses['Foundation'].value_counts()"
   ]
  },
  {
   "cell_type": "markdown",
   "metadata": {},
   "source": [
    "#### Bsmt Qual column - Basement height"
   ]
  },
  {
   "cell_type": "code",
   "execution_count": 1314,
   "metadata": {},
   "outputs": [
    {
     "data": {
      "text/plain": [
       "TA    396\n",
       "Gd    355\n",
       "Ex     73\n",
       "Fa     28\n",
       "NA     25\n",
       "Po      1\n",
       "Name: Bsmt Qual, dtype: int64"
      ]
     },
     "execution_count": 1314,
     "metadata": {},
     "output_type": "execute_result"
    }
   ],
   "source": [
    "houses['Bsmt Qual'].value_counts()"
   ]
  },
  {
   "cell_type": "code",
   "execution_count": 1315,
   "metadata": {},
   "outputs": [
    {
     "data": {
      "text/plain": [
       "3    396\n",
       "4    355\n",
       "5     73\n",
       "2     28\n",
       "0     25\n",
       "1      1\n",
       "Name: Bsmt Qual, dtype: int64"
      ]
     },
     "execution_count": 1315,
     "metadata": {},
     "output_type": "execute_result"
    }
   ],
   "source": [
    "houses['Bsmt Qual'] = houses['Bsmt Qual'].map(quality_map)\n",
    "\n",
    "houses['Bsmt Qual'].value_counts()"
   ]
  },
  {
   "cell_type": "markdown",
   "metadata": {},
   "source": [
    "#### Bsmt Cond column - Basement condition"
   ]
  },
  {
   "cell_type": "code",
   "execution_count": 1316,
   "metadata": {},
   "outputs": [
    {
     "data": {
      "text/plain": [
       "TA    781\n",
       "Fa     39\n",
       "Gd     33\n",
       "NA     25\n",
       "Name: Bsmt Cond, dtype: int64"
      ]
     },
     "execution_count": 1316,
     "metadata": {},
     "output_type": "execute_result"
    }
   ],
   "source": [
    "houses['Bsmt Cond'].value_counts()"
   ]
  },
  {
   "cell_type": "code",
   "execution_count": 1317,
   "metadata": {},
   "outputs": [
    {
     "data": {
      "text/plain": [
       "3    781\n",
       "2     39\n",
       "4     33\n",
       "0     25\n",
       "Name: Bsmt Cond, dtype: int64"
      ]
     },
     "execution_count": 1317,
     "metadata": {},
     "output_type": "execute_result"
    }
   ],
   "source": [
    "houses['Bsmt Cond'] = houses['Bsmt Cond'].map(quality_map)\n",
    "\n",
    "houses['Bsmt Cond'].value_counts()"
   ]
  },
  {
   "cell_type": "markdown",
   "metadata": {},
   "source": [
    "#### Bsmt Exposure - walkout or garden level walls"
   ]
  },
  {
   "cell_type": "code",
   "execution_count": 1318,
   "metadata": {},
   "outputs": [
    {
     "data": {
      "text/plain": [
       "No    567\n",
       "Av    130\n",
       "Gd     80\n",
       "Mn     76\n",
       "NA     25\n",
       "Name: Bsmt Exposure, dtype: int64"
      ]
     },
     "execution_count": 1318,
     "metadata": {},
     "output_type": "execute_result"
    }
   ],
   "source": [
    "houses['Bsmt Exposure'].value_counts()"
   ]
  },
  {
   "cell_type": "code",
   "execution_count": 1319,
   "metadata": {},
   "outputs": [
    {
     "data": {
      "text/plain": [
       "4    567\n",
       "3    130\n",
       "2     80\n",
       "1     76\n",
       "0     25\n",
       "Name: Bsmt Exposure, dtype: int64"
      ]
     },
     "execution_count": 1319,
     "metadata": {},
     "output_type": "execute_result"
    }
   ],
   "source": [
    "houses['Bsmt Exposure'] = houses['Bsmt Exposure'].map({'No': 4, 'Av': 3, 'Gd': 2, 'Mn': 1, 'NA':0})\n",
    "\n",
    "houses['Bsmt Exposure'].value_counts()"
   ]
  },
  {
   "cell_type": "markdown",
   "metadata": {},
   "source": [
    "#### BsmtFin Type 1 column"
   ]
  },
  {
   "cell_type": "code",
   "execution_count": 1320,
   "metadata": {},
   "outputs": [
    {
     "data": {
      "text/plain": [
       "Unf    248\n",
       "GLQ    243\n",
       "ALQ    136\n",
       "Rec    105\n",
       "BLQ     69\n",
       "LwQ     52\n",
       "NA      25\n",
       "Name: BsmtFin Type 1, dtype: int64"
      ]
     },
     "execution_count": 1320,
     "metadata": {},
     "output_type": "execute_result"
    }
   ],
   "source": [
    "houses['BsmtFin Type 1'].value_counts() "
   ]
  },
  {
   "cell_type": "code",
   "execution_count": 1321,
   "metadata": {},
   "outputs": [
    {
     "data": {
      "text/plain": [
       "5    248\n",
       "6    243\n",
       "4    136\n",
       "2    105\n",
       "3     69\n",
       "1     52\n",
       "0     25\n",
       "Name: BsmtFin Type 1, dtype: int64"
      ]
     },
     "execution_count": 1321,
     "metadata": {},
     "output_type": "execute_result"
    }
   ],
   "source": [
    "basement_map = {'GLQ':6,'Unf': 5,'ALQ': 4, 'BLQ': 3, 'Rec': 2,'LwQ': 1, 'NA':0}\n",
    "\n",
    "houses['BsmtFin Type 1'] = houses['BsmtFin Type 1'].map(basement_map)\n",
    "\n",
    "houses['BsmtFin Type 1'].value_counts() "
   ]
  },
  {
   "cell_type": "markdown",
   "metadata": {},
   "source": [
    "#### BsmtFin Type 2 column"
   ]
  },
  {
   "cell_type": "code",
   "execution_count": 1322,
   "metadata": {},
   "outputs": [
    {
     "data": {
      "text/plain": [
       "Unf    749\n",
       "LwQ     29\n",
       "Rec     26\n",
       "NA      25\n",
       "BLQ     20\n",
       "ALQ     18\n",
       "GLQ     11\n",
       "Name: BsmtFin Type 2, dtype: int64"
      ]
     },
     "execution_count": 1322,
     "metadata": {},
     "output_type": "execute_result"
    }
   ],
   "source": [
    "houses['BsmtFin Type 2'].value_counts() "
   ]
  },
  {
   "cell_type": "code",
   "execution_count": 1323,
   "metadata": {},
   "outputs": [
    {
     "data": {
      "text/plain": [
       "5    749\n",
       "1     29\n",
       "2     26\n",
       "0     25\n",
       "3     20\n",
       "4     18\n",
       "6     11\n",
       "Name: BsmtFin Type 2, dtype: int64"
      ]
     },
     "execution_count": 1323,
     "metadata": {},
     "output_type": "execute_result"
    }
   ],
   "source": [
    "houses['BsmtFin Type 2'] = houses['BsmtFin Type 2'].map(basement_map)\n",
    "houses['BsmtFin Type 2'].value_counts() "
   ]
  },
  {
   "cell_type": "markdown",
   "metadata": {},
   "source": [
    "#### Heating column"
   ]
  },
  {
   "cell_type": "code",
   "execution_count": 1324,
   "metadata": {},
   "outputs": [
    {
     "data": {
      "text/plain": [
       "GasA     866\n",
       "GasW       7\n",
       "Grav       4\n",
       "Floor      1\n",
       "Name: Heating, dtype: int64"
      ]
     },
     "execution_count": 1324,
     "metadata": {},
     "output_type": "execute_result"
    }
   ],
   "source": [
    "houses['Heating'].value_counts() "
   ]
  },
  {
   "cell_type": "code",
   "execution_count": 1325,
   "metadata": {},
   "outputs": [
    {
     "data": {
      "text/plain": [
       "4    866\n",
       "3      7\n",
       "1      4\n",
       "5      1\n",
       "Name: Heating, dtype: int64"
      ]
     },
     "execution_count": 1325,
     "metadata": {},
     "output_type": "execute_result"
    }
   ],
   "source": [
    "houses['Heating'] = houses['Heating'].map({'Floor':5, 'GasA':4, 'GasW': 3, 'Wall': 2, 'Grav': 1, 'OthW': 0})\n",
    "houses['Heating'].value_counts() "
   ]
  },
  {
   "cell_type": "markdown",
   "metadata": {},
   "source": [
    "#### Heating QC column - Heating quality and condition"
   ]
  },
  {
   "cell_type": "code",
   "execution_count": 1326,
   "metadata": {},
   "outputs": [
    {
     "data": {
      "text/plain": [
       "Ex    429\n",
       "TA    267\n",
       "Gd    157\n",
       "Fa     25\n",
       "Name: Heating QC, dtype: int64"
      ]
     },
     "execution_count": 1326,
     "metadata": {},
     "output_type": "execute_result"
    }
   ],
   "source": [
    "houses['Heating QC'].value_counts() "
   ]
  },
  {
   "cell_type": "code",
   "execution_count": 1327,
   "metadata": {},
   "outputs": [
    {
     "data": {
      "text/plain": [
       "5    429\n",
       "3    267\n",
       "4    157\n",
       "2     25\n",
       "Name: Heating QC, dtype: int64"
      ]
     },
     "execution_count": 1327,
     "metadata": {},
     "output_type": "execute_result"
    }
   ],
   "source": [
    "houses['Heating QC'] = houses['Heating QC'].map(quality_map)\n",
    "houses['Heating QC'].value_counts() "
   ]
  },
  {
   "cell_type": "markdown",
   "metadata": {},
   "source": [
    "#### Central Air"
   ]
  },
  {
   "cell_type": "code",
   "execution_count": 1328,
   "metadata": {},
   "outputs": [
    {
     "data": {
      "text/plain": [
       "Y    823\n",
       "N     55\n",
       "Name: Central Air, dtype: int64"
      ]
     },
     "execution_count": 1328,
     "metadata": {},
     "output_type": "execute_result"
    }
   ],
   "source": [
    "houses['Central Air'].value_counts() "
   ]
  },
  {
   "cell_type": "code",
   "execution_count": 1329,
   "metadata": {},
   "outputs": [
    {
     "data": {
      "text/plain": [
       "1    823\n",
       "0     55\n",
       "Name: Central Air, dtype: int64"
      ]
     },
     "execution_count": 1329,
     "metadata": {},
     "output_type": "execute_result"
    }
   ],
   "source": [
    "houses['Central Air'] = houses['Central Air'].map({'Y': 1, 'N': 0})\n",
    "houses['Central Air'].value_counts() "
   ]
  },
  {
   "cell_type": "markdown",
   "metadata": {},
   "source": [
    "#### Electrical"
   ]
  },
  {
   "cell_type": "code",
   "execution_count": 1330,
   "metadata": {},
   "outputs": [
    {
     "data": {
      "text/plain": [
       "SBrkr    813\n",
       "FuseA     48\n",
       "FuseF     15\n",
       "FuseP      1\n",
       "           1\n",
       "Name: Electrical, dtype: int64"
      ]
     },
     "execution_count": 1330,
     "metadata": {},
     "output_type": "execute_result"
    }
   ],
   "source": [
    "houses['Electrical'].value_counts() "
   ]
  },
  {
   "cell_type": "markdown",
   "metadata": {},
   "source": [
    "One row has an empty string, just set to the same as SBrkr since it's the most commmon"
   ]
  },
  {
   "cell_type": "code",
   "execution_count": 1331,
   "metadata": {},
   "outputs": [
    {
     "data": {
      "text/plain": [
       "4    814\n",
       "3     48\n",
       "2     15\n",
       "1      1\n",
       "Name: Electrical, dtype: int64"
      ]
     },
     "execution_count": 1331,
     "metadata": {},
     "output_type": "execute_result"
    }
   ],
   "source": [
    "houses['Electrical'] = houses['Electrical'].map({'':4, 'SBrkr':4, 'FuseA': 3, 'FuseF': 2, 'FuseP': 1, 'Mix': 0})\n",
    "\n",
    "houses['Electrical'].value_counts() "
   ]
  },
  {
   "cell_type": "code",
   "execution_count": null,
   "metadata": {},
   "outputs": [],
   "source": []
  },
  {
   "cell_type": "markdown",
   "metadata": {},
   "source": [
    "#### Kitchen Qual"
   ]
  },
  {
   "cell_type": "code",
   "execution_count": 1332,
   "metadata": {},
   "outputs": [
    {
     "data": {
      "text/plain": [
       "TA    447\n",
       "Gd    354\n",
       "Ex     53\n",
       "Fa     23\n",
       "Po      1\n",
       "Name: Kitchen Qual, dtype: int64"
      ]
     },
     "execution_count": 1332,
     "metadata": {},
     "output_type": "execute_result"
    }
   ],
   "source": [
    "houses['Kitchen Qual'].value_counts() "
   ]
  },
  {
   "cell_type": "code",
   "execution_count": 1333,
   "metadata": {},
   "outputs": [
    {
     "data": {
      "text/plain": [
       "3    447\n",
       "4    354\n",
       "5     53\n",
       "2     23\n",
       "1      1\n",
       "Name: Kitchen Qual, dtype: int64"
      ]
     },
     "execution_count": 1333,
     "metadata": {},
     "output_type": "execute_result"
    }
   ],
   "source": [
    "houses['Kitchen Qual'] = houses['Kitchen Qual'].map(quality_map)\n",
    "houses['Kitchen Qual'].value_counts() "
   ]
  },
  {
   "cell_type": "markdown",
   "metadata": {},
   "source": [
    "#### Functional column"
   ]
  },
  {
   "cell_type": "code",
   "execution_count": 1334,
   "metadata": {},
   "outputs": [
    {
     "data": {
      "text/plain": [
       "Typ     812\n",
       "Min2     28\n",
       "Min1     23\n",
       "Maj1      7\n",
       "Mod       6\n",
       "Maj2      2\n",
       "Name: Functional, dtype: int64"
      ]
     },
     "execution_count": 1334,
     "metadata": {},
     "output_type": "execute_result"
    }
   ],
   "source": [
    "houses['Functional'].value_counts() "
   ]
  },
  {
   "cell_type": "code",
   "execution_count": 1335,
   "metadata": {},
   "outputs": [
    {
     "data": {
      "text/plain": [
       "7    812\n",
       "5     28\n",
       "6     23\n",
       "3      7\n",
       "4      6\n",
       "2      2\n",
       "Name: Functional, dtype: int64"
      ]
     },
     "execution_count": 1335,
     "metadata": {},
     "output_type": "execute_result"
    }
   ],
   "source": [
    "houses['Functional'] = houses['Functional'].map({'Typ':7, 'Min1':6, 'Min2':5, 'Mod': 4, 'Maj1': 3,\n",
    "                                                 'Maj2': 2, 'Sal': 1, 'Sev': 0})\n",
    "\n",
    "houses['Functional'].value_counts() "
   ]
  },
  {
   "cell_type": "markdown",
   "metadata": {},
   "source": [
    "#### Fireplace Qu - quality"
   ]
  },
  {
   "cell_type": "code",
   "execution_count": 1336,
   "metadata": {},
   "outputs": [
    {
     "data": {
      "text/plain": [
       "NA    422\n",
       "Gd    220\n",
       "TA    193\n",
       "Fa     16\n",
       "Po     15\n",
       "Ex     12\n",
       "Name: Fireplace Qu, dtype: int64"
      ]
     },
     "execution_count": 1336,
     "metadata": {},
     "output_type": "execute_result"
    }
   ],
   "source": [
    "houses['Fireplace Qu'].value_counts() "
   ]
  },
  {
   "cell_type": "code",
   "execution_count": 1337,
   "metadata": {},
   "outputs": [
    {
     "data": {
      "text/plain": [
       "0    422\n",
       "4    220\n",
       "3    193\n",
       "2     16\n",
       "1     15\n",
       "5     12\n",
       "Name: Fireplace Qu, dtype: int64"
      ]
     },
     "execution_count": 1337,
     "metadata": {},
     "output_type": "execute_result"
    }
   ],
   "source": [
    "houses['Fireplace Qu'] = houses['Fireplace Qu'].map(quality_map)\n",
    "houses['Fireplace Qu'].value_counts() "
   ]
  },
  {
   "cell_type": "markdown",
   "metadata": {},
   "source": [
    "#### Garage Type"
   ]
  },
  {
   "cell_type": "code",
   "execution_count": 1338,
   "metadata": {},
   "outputs": [
    {
     "data": {
      "text/plain": [
       "Attchd     518\n",
       "Detchd     246\n",
       "BuiltIn     53\n",
       "NA          44\n",
       "Basment      9\n",
       "CarPort      4\n",
       "2Types       4\n",
       "Name: Garage Type, dtype: int64"
      ]
     },
     "execution_count": 1338,
     "metadata": {},
     "output_type": "execute_result"
    }
   ],
   "source": [
    "houses['Garage Type'].value_counts() "
   ]
  },
  {
   "cell_type": "code",
   "execution_count": 1339,
   "metadata": {},
   "outputs": [
    {
     "data": {
      "text/plain": [
       "6    518\n",
       "5    246\n",
       "4     53\n",
       "3     44\n",
       "2      9\n",
       "1      4\n",
       "0      4\n",
       "Name: Garage Type, dtype: int64"
      ]
     },
     "execution_count": 1339,
     "metadata": {},
     "output_type": "execute_result"
    }
   ],
   "source": [
    "houses['Garage Type'] = houses['Garage Type'].map({'Attchd':6, 'Detchd': 5, 'BuiltIn': 4, 'NA':3,\n",
    "                                                 'Basment': 2, '2Types': 1, 'CarPort': 0})\n",
    "\n",
    "houses['Garage Type'].value_counts() "
   ]
  },
  {
   "cell_type": "markdown",
   "metadata": {},
   "source": [
    "#### Garage Finish"
   ]
  },
  {
   "cell_type": "code",
   "execution_count": 1340,
   "metadata": {},
   "outputs": [
    {
     "data": {
      "text/plain": [
       "Unf    382\n",
       "RFn    233\n",
       "Fin    218\n",
       "NA      45\n",
       "Name: Garage Finish, dtype: int64"
      ]
     },
     "execution_count": 1340,
     "metadata": {},
     "output_type": "execute_result"
    }
   ],
   "source": [
    "houses['Garage Finish'].value_counts() "
   ]
  },
  {
   "cell_type": "code",
   "execution_count": 1341,
   "metadata": {},
   "outputs": [
    {
     "data": {
      "text/plain": [
       "3    382\n",
       "2    233\n",
       "1    218\n",
       "0     45\n",
       "Name: Garage Finish, dtype: int64"
      ]
     },
     "execution_count": 1341,
     "metadata": {},
     "output_type": "execute_result"
    }
   ],
   "source": [
    "houses['Garage Finish'] = houses['Garage Finish'].map({'Unf': 3, 'RFn': 2, 'Fin': 1, 'NA':0})\n",
    "houses['Garage Finish'].value_counts() "
   ]
  },
  {
   "cell_type": "markdown",
   "metadata": {},
   "source": [
    "#### Garage Qual column"
   ]
  },
  {
   "cell_type": "code",
   "execution_count": 1342,
   "metadata": {},
   "outputs": [
    {
     "data": {
      "text/plain": [
       "TA    782\n",
       "NA     45\n",
       "Fa     42\n",
       "Gd      6\n",
       "Po      3\n",
       "Name: Garage Qual, dtype: int64"
      ]
     },
     "execution_count": 1342,
     "metadata": {},
     "output_type": "execute_result"
    }
   ],
   "source": [
    "houses['Garage Qual'].value_counts() "
   ]
  },
  {
   "cell_type": "code",
   "execution_count": 1343,
   "metadata": {},
   "outputs": [
    {
     "data": {
      "text/plain": [
       "3    782\n",
       "0     45\n",
       "2     42\n",
       "4      6\n",
       "1      3\n",
       "Name: Garage Qual, dtype: int64"
      ]
     },
     "execution_count": 1343,
     "metadata": {},
     "output_type": "execute_result"
    }
   ],
   "source": [
    "houses['Garage Qual'] = houses['Garage Qual'].map(quality_map)\n",
    "houses['Garage Qual'].value_counts() "
   ]
  },
  {
   "cell_type": "markdown",
   "metadata": {},
   "source": [
    "#### Garage Cond - condition"
   ]
  },
  {
   "cell_type": "code",
   "execution_count": 1344,
   "metadata": {},
   "outputs": [
    {
     "data": {
      "text/plain": [
       "TA    796\n",
       "NA     45\n",
       "Fa     27\n",
       "Po      6\n",
       "Gd      3\n",
       "Ex      1\n",
       "Name: Garage Cond, dtype: int64"
      ]
     },
     "execution_count": 1344,
     "metadata": {},
     "output_type": "execute_result"
    }
   ],
   "source": [
    "houses['Garage Cond'].value_counts() "
   ]
  },
  {
   "cell_type": "code",
   "execution_count": 1345,
   "metadata": {},
   "outputs": [
    {
     "data": {
      "text/plain": [
       "3    796\n",
       "0     45\n",
       "2     27\n",
       "1      6\n",
       "4      3\n",
       "5      1\n",
       "Name: Garage Cond, dtype: int64"
      ]
     },
     "execution_count": 1345,
     "metadata": {},
     "output_type": "execute_result"
    }
   ],
   "source": [
    "houses['Garage Cond'] = houses['Garage Cond'].map(quality_map)\n",
    "houses['Garage Cond'].value_counts() "
   ]
  },
  {
   "cell_type": "markdown",
   "metadata": {},
   "source": [
    "#### Paved Drive column"
   ]
  },
  {
   "cell_type": "code",
   "execution_count": 1346,
   "metadata": {},
   "outputs": [
    {
     "data": {
      "text/plain": [
       "Y    790\n",
       "N     65\n",
       "P     23\n",
       "Name: Paved Drive, dtype: int64"
      ]
     },
     "execution_count": 1346,
     "metadata": {},
     "output_type": "execute_result"
    }
   ],
   "source": [
    "houses['Paved Drive'].value_counts() "
   ]
  },
  {
   "cell_type": "code",
   "execution_count": 1347,
   "metadata": {},
   "outputs": [
    {
     "data": {
      "text/plain": [
       "2    790\n",
       "1     65\n",
       "0     23\n",
       "Name: Paved Drive, dtype: int64"
      ]
     },
     "execution_count": 1347,
     "metadata": {},
     "output_type": "execute_result"
    }
   ],
   "source": [
    "houses['Paved Drive'] = houses['Paved Drive'].map({'Y': 2, 'N': 1, 'P': 0})\n",
    "houses['Paved Drive'].value_counts()"
   ]
  },
  {
   "cell_type": "markdown",
   "metadata": {},
   "source": [
    "#### Pool QC"
   ]
  },
  {
   "cell_type": "code",
   "execution_count": 1348,
   "metadata": {},
   "outputs": [
    {
     "data": {
      "text/plain": [
       "NA    874\n",
       "Ex      3\n",
       "TA      1\n",
       "Name: Pool QC, dtype: int64"
      ]
     },
     "execution_count": 1348,
     "metadata": {},
     "output_type": "execute_result"
    }
   ],
   "source": [
    "houses['Pool QC'].value_counts() "
   ]
  },
  {
   "cell_type": "code",
   "execution_count": 1349,
   "metadata": {},
   "outputs": [
    {
     "data": {
      "text/plain": [
       "0    874\n",
       "5      3\n",
       "3      1\n",
       "Name: Pool QC, dtype: int64"
      ]
     },
     "execution_count": 1349,
     "metadata": {},
     "output_type": "execute_result"
    }
   ],
   "source": [
    "houses['Pool QC'] = houses['Pool QC'].map(quality_map)\n",
    "houses['Pool QC'].value_counts() "
   ]
  },
  {
   "cell_type": "markdown",
   "metadata": {},
   "source": [
    "#### Fence column"
   ]
  },
  {
   "cell_type": "code",
   "execution_count": 1350,
   "metadata": {},
   "outputs": [
    {
     "data": {
      "text/plain": [
       "NA       706\n",
       "MnPrv    103\n",
       "GdPrv     35\n",
       "GdWo      32\n",
       "MnWw       2\n",
       "Name: Fence, dtype: int64"
      ]
     },
     "execution_count": 1350,
     "metadata": {},
     "output_type": "execute_result"
    }
   ],
   "source": [
    "houses['Fence'].value_counts() "
   ]
  },
  {
   "cell_type": "code",
   "execution_count": 1351,
   "metadata": {},
   "outputs": [
    {
     "data": {
      "text/plain": [
       "4    706\n",
       "3    103\n",
       "2     35\n",
       "1     32\n",
       "0      2\n",
       "Name: Fence, dtype: int64"
      ]
     },
     "execution_count": 1351,
     "metadata": {},
     "output_type": "execute_result"
    }
   ],
   "source": [
    "houses['Fence'] = houses['Fence'].map({'NA':4, 'MnPrv':3, 'GdPrv': 2, 'GdWo': 1, 'MnWw': 0})\n",
    "houses['Fence'].value_counts() "
   ]
  },
  {
   "cell_type": "markdown",
   "metadata": {},
   "source": [
    "#### Misc Feature"
   ]
  },
  {
   "cell_type": "code",
   "execution_count": 1352,
   "metadata": {},
   "outputs": [
    {
     "data": {
      "text/plain": [
       "NA      837\n",
       "Shed     39\n",
       "Gar2      1\n",
       "Othr      1\n",
       "Name: Misc Feature, dtype: int64"
      ]
     },
     "execution_count": 1352,
     "metadata": {},
     "output_type": "execute_result"
    }
   ],
   "source": [
    "houses['Misc Feature'].value_counts() "
   ]
  },
  {
   "cell_type": "code",
   "execution_count": 1353,
   "metadata": {},
   "outputs": [
    {
     "data": {
      "text/plain": [
       "4    837\n",
       "3     39\n",
       "2      1\n",
       "1      1\n",
       "Name: Misc Feature, dtype: int64"
      ]
     },
     "execution_count": 1353,
     "metadata": {},
     "output_type": "execute_result"
    }
   ],
   "source": [
    "houses['Misc Feature'] = houses['Misc Feature'].map({'NA':4, 'Shed':3, 'Gar2': 2, 'Othr': 1, 'TenC': 0})\n",
    "houses['Misc Feature'].value_counts() "
   ]
  },
  {
   "cell_type": "markdown",
   "metadata": {},
   "source": [
    "#### Sale Type"
   ]
  },
  {
   "cell_type": "code",
   "execution_count": 1354,
   "metadata": {},
   "outputs": [
    {
     "data": {
      "text/plain": [
       "WD       755\n",
       "New       78\n",
       "COD       24\n",
       "ConLD      9\n",
       "Oth        3\n",
       "ConLw      3\n",
       "ConLI      2\n",
       "CWD        2\n",
       "VWD        1\n",
       "Con        1\n",
       "Name: Sale Type, dtype: int64"
      ]
     },
     "execution_count": 1354,
     "metadata": {},
     "output_type": "execute_result"
    }
   ],
   "source": [
    "houses['Sale Type'].value_counts() "
   ]
  },
  {
   "cell_type": "code",
   "execution_count": 1355,
   "metadata": {},
   "outputs": [
    {
     "data": {
      "text/plain": [
       "8    755\n",
       "7     78\n",
       "6     24\n",
       "5      9\n",
       "2      3\n",
       "1      3\n",
       "4      2\n",
       "3      2\n",
       "9      1\n",
       "0      1\n",
       "Name: Sale Type, dtype: int64"
      ]
     },
     "execution_count": 1355,
     "metadata": {},
     "output_type": "execute_result"
    }
   ],
   "source": [
    "houses['Sale Type'] = houses['Sale Type'].str.strip().map({'VWD':9,'WD':8, 'New':7,'COD':6, 'ConLD':5, 'CWD': 4,\n",
    "                                               'ConLI': 3,'ConLw': 2, 'Oth': 1, 'Con': 0})\n",
    "\n",
    "houses['Sale Type'].value_counts() "
   ]
  },
  {
   "cell_type": "markdown",
   "metadata": {},
   "source": [
    "---\n",
    "### Create floors feature\n",
    "The dataset lacks a clear way to model how many floors a house contains.<br>\n",
    "The House Style contained the following categories:<br>\n",
    ">        1Story\tOne story\n",
    "       1.5Fin\tOne and one-half story: 2nd level finished\n",
    "       1.5Unf\tOne and one-half story: 2nd level unfinished\n",
    "       2Story\tTwo story\n",
    "       2.5Fin\tTwo and one-half story: 2nd level finished\n",
    "       2.5Unf\tTwo and one-half story: 2nd level unfinished\n",
    "       SFoyer\tSplit Foyer\n",
    "       SLvl\tSplit Level\n",
    "\n",
    "which was difficult to translate.\n"
   ]
  },
  {
   "cell_type": "code",
   "execution_count": 1356,
   "metadata": {},
   "outputs": [
    {
     "data": {
      "image/png": "[encoded data removed]",
      "text/plain": [
       "<Figure size 432x288 with 1 Axes>"
      ]
     },
     "metadata": {
      "needs_background": "light"
     },
     "output_type": "display_data"
    }
   ],
   "source": [
    "ax = house_styles.hist()\n",
    "ax.grid(False)\n",
    "ax.set(xlabel=\"House Styles \", ylabel = \"Number of houses\", title=\"How many floors in each house?\");"
   ]
  },
  {
   "cell_type": "markdown",
   "metadata": {},
   "source": [
    "A cleaner way to present this would be to create a **floors** column, that would contain 1 or 2 depending on the 1st Flr SF and 2nd Flr SF column.\n",
    "\n",
    "All houses have a non-zero amount for 1st Flr SF (First Floor square feet), however not every house has a value the 2nd Flr SF (Second floor square feet).\n",
    "\n",
    "If a house has a non-zero amount for 2nd Flr SF, then it's floors value is set to 2.\n",
    "\n",
    "There should be 857 houses with floors set to 2"
   ]
  },
  {
   "cell_type": "code",
   "execution_count": 1357,
   "metadata": {},
   "outputs": [
    {
     "data": {
      "text/plain": [
       "(391, 104)"
      ]
     },
     "execution_count": 1357,
     "metadata": {},
     "output_type": "execute_result"
    }
   ],
   "source": [
    "houses.loc[houses['2nd Flr SF'] >0].shape"
   ]
  },
  {
   "cell_type": "code",
   "execution_count": 1358,
   "metadata": {},
   "outputs": [
    {
     "data": {
      "text/plain": [
       "1    487\n",
       "2    391\n",
       "Name: floors, dtype: int64"
      ]
     },
     "execution_count": 1358,
     "metadata": {},
     "output_type": "execute_result"
    }
   ],
   "source": [
    "houses['floors'] = [2 if second_floor > 0 else 1 for second_floor in houses['2nd Flr SF']]\n",
    "houses['floors'].value_counts()"
   ]
  },
  {
   "cell_type": "markdown",
   "metadata": {},
   "source": [
    "#### Create bathrooms \n",
    "\n",
    "Bathroom information is captured in four different columns:\n",
    ">Bsmt Full Bath (Discrete): Basement full bathrooms<br>\n",
    "Bsmt Half Bath (Discrete): Basement half bathrooms<br>\n",
    "Full Bath (Discrete): Full bathrooms above grade<br>\n",
    "Half Bath (Discrete): Half baths above grade\n",
    "\n",
    "Combine all four into one simple feature called **bathrooms**\n",
    "\n"
   ]
  },
  {
   "cell_type": "code",
   "execution_count": 1359,
   "metadata": {},
   "outputs": [
    {
     "data": {
      "image/png": "[encoded data removed]",
      "text/plain": [
       "<Figure size 360x360 with 4 Axes>"
      ]
     },
     "metadata": {
      "needs_background": "light"
     },
     "output_type": "display_data"
    }
   ],
   "source": [
    "bath_columns = ['Bsmt Full Bath', 'Bsmt Half Bath', 'Full Bath', 'Half Bath']\n",
    "\n",
    "ax = houses[bath_columns].hist( figsize=(5, 5), grid=False )"
   ]
  },
  {
   "cell_type": "code",
   "execution_count": 1360,
   "metadata": {},
   "outputs": [],
   "source": [
    "houses['bathrooms'] = houses[bath_columns].sum(axis=1)\n",
    "\n",
    "#hat tip to this post on stackoverflow:\n",
    "#https://stackoverflow.com/questions/25748683/pandas-sum-dataframe-rows-for-given-columns"
   ]
  },
  {
   "cell_type": "markdown",
   "metadata": {},
   "source": [
    "\n"
   ]
  },
  {
   "cell_type": "markdown",
   "metadata": {},
   "source": [
    "### Save cleaned data to csv"
   ]
  },
  {
   "cell_type": "code",
   "execution_count": 1361,
   "metadata": {},
   "outputs": [],
   "source": [
    "houses.to_csv('../datasets/test_processed.csv', index=False)"
   ]
  },
  {
   "cell_type": "code",
   "execution_count": null,
   "metadata": {},
   "outputs": [],
   "source": []
  }
 ],
 "metadata": {
  "kernelspec": {
   "display_name": "Python 3",
   "language": "python",
   "name": "python3"
  },
  "language_info": {
   "codemirror_mode": {
    "name": "ipython",
    "version": 3
   },
   "file_extension": ".py",
   "mimetype": "text/x-python",
   "name": "python",
   "nbconvert_exporter": "python",
   "pygments_lexer": "ipython3",
   "version": "3.8.3"
  }
 },
 "nbformat": 4,
 "nbformat_minor": 4
}
