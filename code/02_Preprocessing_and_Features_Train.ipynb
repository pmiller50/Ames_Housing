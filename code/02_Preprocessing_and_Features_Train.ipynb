{
 "cells": [
  {
   "cell_type": "markdown",
   "metadata": {},
   "source": [
    "# Project 2 - Ames Housing Data\n",
    "## Preprocessing and Feature Engineering - Train.csv\n",
    "\n",
    "![House](phil-hearing-house-small.jpg)\n",
    "<br>Photo by:\n",
    "https://unsplash.com/photos/IYfp2Ixe9nM?utm_source=unsplash&utm_medium=referral&utm_content=creditShareLink"
   ]
  },
  {
   "cell_type": "code",
   "execution_count": 713,
   "metadata": {},
   "outputs": [],
   "source": [
    "import pandas as pd\n",
    "import numpy as np\n",
    "import matplotlib.pyplot as plt"
   ]
  },
  {
   "cell_type": "code",
   "execution_count": 714,
   "metadata": {},
   "outputs": [],
   "source": [
    "houses = pd.read_csv('../datasets/train_clean.csv', keep_default_na=False)"
   ]
  },
  {
   "cell_type": "code",
   "execution_count": 715,
   "metadata": {},
   "outputs": [
    {
     "data": {
      "text/html": [
       "<div>\n",
       "<style scoped>\n",
       "    .dataframe tbody tr th:only-of-type {\n",
       "        vertical-align: middle;\n",
       "    }\n",
       "\n",
       "    .dataframe tbody tr th {\n",
       "        vertical-align: top;\n",
       "    }\n",
       "\n",
       "    .dataframe thead th {\n",
       "        text-align: right;\n",
       "    }\n",
       "</style>\n",
       "<table border=\"1\" class=\"dataframe\">\n",
       "  <thead>\n",
       "    <tr style=\"text-align: right;\">\n",
       "      <th></th>\n",
       "      <th>Id</th>\n",
       "      <th>PID</th>\n",
       "      <th>MS SubClass</th>\n",
       "      <th>MS Zoning</th>\n",
       "      <th>Lot Frontage</th>\n",
       "      <th>Lot Area</th>\n",
       "      <th>Street</th>\n",
       "      <th>Alley</th>\n",
       "      <th>Lot Shape</th>\n",
       "      <th>Land Contour</th>\n",
       "      <th>...</th>\n",
       "      <th>Screen Porch</th>\n",
       "      <th>Pool Area</th>\n",
       "      <th>Pool QC</th>\n",
       "      <th>Fence</th>\n",
       "      <th>Misc Feature</th>\n",
       "      <th>Misc Val</th>\n",
       "      <th>Mo Sold</th>\n",
       "      <th>Yr Sold</th>\n",
       "      <th>Sale Type</th>\n",
       "      <th>SalePrice</th>\n",
       "    </tr>\n",
       "  </thead>\n",
       "  <tbody>\n",
       "    <tr>\n",
       "      <th>0</th>\n",
       "      <td>109</td>\n",
       "      <td>533352170</td>\n",
       "      <td>60</td>\n",
       "      <td>RL</td>\n",
       "      <td>69.0552</td>\n",
       "      <td>13517</td>\n",
       "      <td>Pave</td>\n",
       "      <td>None</td>\n",
       "      <td>IR1</td>\n",
       "      <td>Lvl</td>\n",
       "      <td>...</td>\n",
       "      <td>0</td>\n",
       "      <td>0</td>\n",
       "      <td>NA</td>\n",
       "      <td>NA</td>\n",
       "      <td>NA</td>\n",
       "      <td>0</td>\n",
       "      <td>3</td>\n",
       "      <td>2010</td>\n",
       "      <td>WD</td>\n",
       "      <td>130500</td>\n",
       "    </tr>\n",
       "    <tr>\n",
       "      <th>1</th>\n",
       "      <td>544</td>\n",
       "      <td>531379050</td>\n",
       "      <td>60</td>\n",
       "      <td>RL</td>\n",
       "      <td>43.0000</td>\n",
       "      <td>11492</td>\n",
       "      <td>Pave</td>\n",
       "      <td>None</td>\n",
       "      <td>IR1</td>\n",
       "      <td>Lvl</td>\n",
       "      <td>...</td>\n",
       "      <td>0</td>\n",
       "      <td>0</td>\n",
       "      <td>NA</td>\n",
       "      <td>NA</td>\n",
       "      <td>NA</td>\n",
       "      <td>0</td>\n",
       "      <td>4</td>\n",
       "      <td>2009</td>\n",
       "      <td>WD</td>\n",
       "      <td>220000</td>\n",
       "    </tr>\n",
       "    <tr>\n",
       "      <th>2</th>\n",
       "      <td>153</td>\n",
       "      <td>535304180</td>\n",
       "      <td>20</td>\n",
       "      <td>RL</td>\n",
       "      <td>68.0000</td>\n",
       "      <td>7922</td>\n",
       "      <td>Pave</td>\n",
       "      <td>None</td>\n",
       "      <td>Reg</td>\n",
       "      <td>Lvl</td>\n",
       "      <td>...</td>\n",
       "      <td>0</td>\n",
       "      <td>0</td>\n",
       "      <td>NA</td>\n",
       "      <td>NA</td>\n",
       "      <td>NA</td>\n",
       "      <td>0</td>\n",
       "      <td>1</td>\n",
       "      <td>2010</td>\n",
       "      <td>WD</td>\n",
       "      <td>109000</td>\n",
       "    </tr>\n",
       "    <tr>\n",
       "      <th>3</th>\n",
       "      <td>318</td>\n",
       "      <td>916386060</td>\n",
       "      <td>60</td>\n",
       "      <td>RL</td>\n",
       "      <td>73.0000</td>\n",
       "      <td>9802</td>\n",
       "      <td>Pave</td>\n",
       "      <td>None</td>\n",
       "      <td>Reg</td>\n",
       "      <td>Lvl</td>\n",
       "      <td>...</td>\n",
       "      <td>0</td>\n",
       "      <td>0</td>\n",
       "      <td>NA</td>\n",
       "      <td>NA</td>\n",
       "      <td>NA</td>\n",
       "      <td>0</td>\n",
       "      <td>4</td>\n",
       "      <td>2010</td>\n",
       "      <td>WD</td>\n",
       "      <td>174000</td>\n",
       "    </tr>\n",
       "    <tr>\n",
       "      <th>4</th>\n",
       "      <td>255</td>\n",
       "      <td>906425045</td>\n",
       "      <td>50</td>\n",
       "      <td>RL</td>\n",
       "      <td>82.0000</td>\n",
       "      <td>14235</td>\n",
       "      <td>Pave</td>\n",
       "      <td>None</td>\n",
       "      <td>IR1</td>\n",
       "      <td>Lvl</td>\n",
       "      <td>...</td>\n",
       "      <td>0</td>\n",
       "      <td>0</td>\n",
       "      <td>NA</td>\n",
       "      <td>NA</td>\n",
       "      <td>NA</td>\n",
       "      <td>0</td>\n",
       "      <td>3</td>\n",
       "      <td>2010</td>\n",
       "      <td>WD</td>\n",
       "      <td>138500</td>\n",
       "    </tr>\n",
       "  </tbody>\n",
       "</table>\n",
       "<p>5 rows × 81 columns</p>\n",
       "</div>"
      ],
      "text/plain": [
       "    Id        PID  MS SubClass MS Zoning  Lot Frontage  Lot Area Street Alley  \\\n",
       "0  109  533352170           60        RL       69.0552     13517   Pave  None   \n",
       "1  544  531379050           60        RL       43.0000     11492   Pave  None   \n",
       "2  153  535304180           20        RL       68.0000      7922   Pave  None   \n",
       "3  318  916386060           60        RL       73.0000      9802   Pave  None   \n",
       "4  255  906425045           50        RL       82.0000     14235   Pave  None   \n",
       "\n",
       "  Lot Shape Land Contour  ... Screen Porch Pool Area Pool QC Fence  \\\n",
       "0       IR1          Lvl  ...            0         0      NA    NA   \n",
       "1       IR1          Lvl  ...            0         0      NA    NA   \n",
       "2       Reg          Lvl  ...            0         0      NA    NA   \n",
       "3       Reg          Lvl  ...            0         0      NA    NA   \n",
       "4       IR1          Lvl  ...            0         0      NA    NA   \n",
       "\n",
       "  Misc Feature Misc Val Mo Sold Yr Sold  Sale Type  SalePrice  \n",
       "0           NA        0       3    2010         WD     130500  \n",
       "1           NA        0       4    2009         WD     220000  \n",
       "2           NA        0       1    2010         WD     109000  \n",
       "3           NA        0       4    2010         WD     174000  \n",
       "4           NA        0       3    2010         WD     138500  \n",
       "\n",
       "[5 rows x 81 columns]"
      ]
     },
     "execution_count": 715,
     "metadata": {},
     "output_type": "execute_result"
    }
   ],
   "source": [
    "houses.head()"
   ]
  },
  {
   "cell_type": "code",
   "execution_count": 716,
   "metadata": {},
   "outputs": [
    {
     "name": "stdout",
     "output_type": "stream",
     "text": [
      "<class 'pandas.core.frame.DataFrame'>\n",
      "RangeIndex: 2042 entries, 0 to 2041\n",
      "Data columns (total 81 columns):\n",
      " #   Column           Non-Null Count  Dtype  \n",
      "---  ------           --------------  -----  \n",
      " 0   Id               2042 non-null   int64  \n",
      " 1   PID              2042 non-null   int64  \n",
      " 2   MS SubClass      2042 non-null   int64  \n",
      " 3   MS Zoning        2042 non-null   object \n",
      " 4   Lot Frontage     2042 non-null   float64\n",
      " 5   Lot Area         2042 non-null   int64  \n",
      " 6   Street           2042 non-null   object \n",
      " 7   Alley            2042 non-null   object \n",
      " 8   Lot Shape        2042 non-null   object \n",
      " 9   Land Contour     2042 non-null   object \n",
      " 10  Utilities        2042 non-null   object \n",
      " 11  Lot Config       2042 non-null   object \n",
      " 12  Land Slope       2042 non-null   object \n",
      " 13  Neighborhood     2042 non-null   object \n",
      " 14  Condition 1      2042 non-null   object \n",
      " 15  Condition 2      2042 non-null   object \n",
      " 16  Bldg Type        2042 non-null   object \n",
      " 17  House Style      2042 non-null   object \n",
      " 18  Overall Qual     2042 non-null   int64  \n",
      " 19  Overall Cond     2042 non-null   int64  \n",
      " 20  Year Built       2042 non-null   int64  \n",
      " 21  Year Remod/Add   2042 non-null   int64  \n",
      " 22  Roof Style       2042 non-null   object \n",
      " 23  Roof Matl        2042 non-null   object \n",
      " 24  Exterior 1st     2042 non-null   object \n",
      " 25  Exterior 2nd     2042 non-null   object \n",
      " 26  Mas Vnr Type     2042 non-null   object \n",
      " 27  Mas Vnr Area     2042 non-null   float64\n",
      " 28  Exter Qual       2042 non-null   object \n",
      " 29  Exter Cond       2042 non-null   object \n",
      " 30  Foundation       2042 non-null   object \n",
      " 31  Bsmt Qual        2042 non-null   object \n",
      " 32  Bsmt Cond        2042 non-null   object \n",
      " 33  Bsmt Exposure    2042 non-null   object \n",
      " 34  BsmtFin Type 1   2042 non-null   object \n",
      " 35  BsmtFin SF 1     2042 non-null   float64\n",
      " 36  BsmtFin Type 2   2042 non-null   object \n",
      " 37  BsmtFin SF 2     2042 non-null   float64\n",
      " 38  Bsmt Unf SF      2042 non-null   float64\n",
      " 39  Total Bsmt SF    2042 non-null   float64\n",
      " 40  Heating          2042 non-null   object \n",
      " 41  Heating QC       2042 non-null   object \n",
      " 42  Central Air      2042 non-null   object \n",
      " 43  Electrical       2042 non-null   object \n",
      " 44  1st Flr SF       2042 non-null   int64  \n",
      " 45  2nd Flr SF       2042 non-null   int64  \n",
      " 46  Low Qual Fin SF  2042 non-null   int64  \n",
      " 47  Gr Liv Area      2042 non-null   int64  \n",
      " 48  Bsmt Full Bath   2042 non-null   float64\n",
      " 49  Bsmt Half Bath   2042 non-null   float64\n",
      " 50  Full Bath        2042 non-null   int64  \n",
      " 51  Half Bath        2042 non-null   int64  \n",
      " 52  Bedroom AbvGr    2042 non-null   int64  \n",
      " 53  Kitchen AbvGr    2042 non-null   int64  \n",
      " 54  Kitchen Qual     2042 non-null   object \n",
      " 55  TotRms AbvGrd    2042 non-null   int64  \n",
      " 56  Functional       2042 non-null   object \n",
      " 57  Fireplaces       2042 non-null   int64  \n",
      " 58  Fireplace Qu     2042 non-null   object \n",
      " 59  Garage Type      2042 non-null   object \n",
      " 60  Garage Yr Blt    2042 non-null   float64\n",
      " 61  Garage Finish    2042 non-null   object \n",
      " 62  Garage Cars      2042 non-null   float64\n",
      " 63  Garage Area      2042 non-null   float64\n",
      " 64  Garage Qual      2042 non-null   object \n",
      " 65  Garage Cond      2042 non-null   object \n",
      " 66  Paved Drive      2042 non-null   object \n",
      " 67  Wood Deck SF     2042 non-null   int64  \n",
      " 68  Open Porch SF    2042 non-null   int64  \n",
      " 69  Enclosed Porch   2042 non-null   int64  \n",
      " 70  3Ssn Porch       2042 non-null   int64  \n",
      " 71  Screen Porch     2042 non-null   int64  \n",
      " 72  Pool Area        2042 non-null   int64  \n",
      " 73  Pool QC          2042 non-null   object \n",
      " 74  Fence            2042 non-null   object \n",
      " 75  Misc Feature     2042 non-null   object \n",
      " 76  Misc Val         2042 non-null   int64  \n",
      " 77  Mo Sold          2042 non-null   int64  \n",
      " 78  Yr Sold          2042 non-null   int64  \n",
      " 79  Sale Type        2042 non-null   object \n",
      " 80  SalePrice        2042 non-null   int64  \n",
      "dtypes: float64(11), int64(28), object(42)\n",
      "memory usage: 1.3+ MB\n"
     ]
    }
   ],
   "source": [
    "houses.info()"
   ]
  },
  {
   "cell_type": "markdown",
   "metadata": {},
   "source": [
    "### Find categorical columns to binarize or encode"
   ]
  },
  {
   "cell_type": "markdown",
   "metadata": {},
   "source": [
    "#### MS Zoning column"
   ]
  },
  {
   "cell_type": "code",
   "execution_count": 717,
   "metadata": {},
   "outputs": [
    {
     "data": {
      "text/plain": [
       "RL    1589\n",
       "RM     316\n",
       "FV     101\n",
       "C       19\n",
       "RH      14\n",
       "A        2\n",
       "I        1\n",
       "Name: MS Zoning, dtype: int64"
      ]
     },
     "execution_count": 717,
     "metadata": {},
     "output_type": "execute_result"
    }
   ],
   "source": [
    "houses['MS Zoning'].value_counts()"
   ]
  },
  {
   "cell_type": "code",
   "execution_count": 718,
   "metadata": {},
   "outputs": [
    {
     "data": {
      "text/plain": [
       "7    1589\n",
       "6     316\n",
       "5     101\n",
       "4      19\n",
       "3      14\n",
       "2       2\n",
       "1       1\n",
       "Name: MS Zoning, dtype: int64"
      ]
     },
     "execution_count": 718,
     "metadata": {},
     "output_type": "execute_result"
    }
   ],
   "source": [
    "# Convert RL to 7, RM to 6, FV to 5, C to 4, RH to 3, A to 2, and I to 1\n",
    "houses['MS Zoning'] = houses['MS Zoning'].map({'RL': 7, 'RM': 6, 'FV': 5,'C': 4, 'RH': 3,\n",
    "                                               'A': 2, 'I': 1})\n",
    "\n",
    "houses['MS Zoning'].value_counts()"
   ]
  },
  {
   "cell_type": "markdown",
   "metadata": {},
   "source": [
    "#### Street column"
   ]
  },
  {
   "cell_type": "code",
   "execution_count": 719,
   "metadata": {},
   "outputs": [
    {
     "data": {
      "text/plain": [
       "Pave    2035\n",
       "Grvl       7\n",
       "Name: Street, dtype: int64"
      ]
     },
     "execution_count": 719,
     "metadata": {},
     "output_type": "execute_result"
    }
   ],
   "source": [
    "houses['Street'].value_counts()"
   ]
  },
  {
   "cell_type": "code",
   "execution_count": 720,
   "metadata": {},
   "outputs": [
    {
     "data": {
      "text/plain": [
       "2    2035\n",
       "1       7\n",
       "Name: Street, dtype: int64"
      ]
     },
     "execution_count": 720,
     "metadata": {},
     "output_type": "execute_result"
    }
   ],
   "source": [
    "# Convert Pave to 2, and Grvl to 1.  0 will be used later as some features contain None, or NA\n",
    "houses['Street'] = houses['Street'].map({'Pave': 2, 'Grvl': 1})\n",
    "\n",
    "houses['Street'].value_counts()"
   ]
  },
  {
   "cell_type": "markdown",
   "metadata": {},
   "source": [
    "#### Alley column"
   ]
  },
  {
   "cell_type": "code",
   "execution_count": 721,
   "metadata": {},
   "outputs": [
    {
     "data": {
      "text/plain": [
       "None    1902\n",
       "Grvl      85\n",
       "Pave      55\n",
       "Name: Alley, dtype: int64"
      ]
     },
     "execution_count": 721,
     "metadata": {},
     "output_type": "execute_result"
    }
   ],
   "source": [
    "houses['Alley'].value_counts()"
   ]
  },
  {
   "cell_type": "code",
   "execution_count": 722,
   "metadata": {},
   "outputs": [
    {
     "data": {
      "text/plain": [
       "0    1902\n",
       "1      85\n",
       "2      55\n",
       "Name: Alley, dtype: int64"
      ]
     },
     "execution_count": 722,
     "metadata": {},
     "output_type": "execute_result"
    }
   ],
   "source": [
    "# Convert Pave to 2, and Grvl to 1, None to  0\n",
    "houses['Alley'] = houses['Alley'].map({'Pave': 2, 'Grvl': 1, 'None': 0})\n",
    "\n",
    "houses['Alley'].value_counts()"
   ]
  },
  {
   "cell_type": "markdown",
   "metadata": {},
   "source": [
    "#### Lot Shape"
   ]
  },
  {
   "cell_type": "code",
   "execution_count": 723,
   "metadata": {},
   "outputs": [
    {
     "data": {
      "text/plain": [
       "Reg    1295\n",
       "IR1     687\n",
       "IR2      52\n",
       "IR3       8\n",
       "Name: Lot Shape, dtype: int64"
      ]
     },
     "execution_count": 723,
     "metadata": {},
     "output_type": "execute_result"
    }
   ],
   "source": [
    "houses['Lot Shape'].value_counts()"
   ]
  },
  {
   "cell_type": "code",
   "execution_count": 724,
   "metadata": {},
   "outputs": [
    {
     "data": {
      "text/plain": [
       "0    1295\n",
       "1     687\n",
       "2      52\n",
       "3       8\n",
       "Name: Lot Shape, dtype: int64"
      ]
     },
     "execution_count": 724,
     "metadata": {},
     "output_type": "execute_result"
    }
   ],
   "source": [
    "# Convert IR3 to 3, IR2 to 2, and IR1 to 1, Reg to  0\n",
    "houses['Lot Shape'] = houses['Lot Shape'].map({'IR3': 3, 'IR2': 2, 'IR1': 1, 'Reg': 0})\n",
    "\n",
    "houses['Lot Shape'].value_counts()"
   ]
  },
  {
   "cell_type": "markdown",
   "metadata": {},
   "source": [
    "#### Land Contour column"
   ]
  },
  {
   "cell_type": "code",
   "execution_count": 725,
   "metadata": {},
   "outputs": [
    {
     "data": {
      "text/plain": [
       "Lvl    1842\n",
       "HLS      84\n",
       "Bnk      78\n",
       "Low      38\n",
       "Name: Land Contour, dtype: int64"
      ]
     },
     "execution_count": 725,
     "metadata": {},
     "output_type": "execute_result"
    }
   ],
   "source": [
    "houses['Land Contour'].value_counts()"
   ]
  },
  {
   "cell_type": "code",
   "execution_count": 726,
   "metadata": {},
   "outputs": [
    {
     "data": {
      "text/plain": [
       "3    1842\n",
       "2      84\n",
       "1      78\n",
       "0      38\n",
       "Name: Land Contour, dtype: int64"
      ]
     },
     "execution_count": 726,
     "metadata": {},
     "output_type": "execute_result"
    }
   ],
   "source": [
    "# Convert Lvl to 3, HLS to 2, and Bnk to 1, Low to  0\n",
    "houses['Land Contour'] = houses['Land Contour'].map({'Lvl': 3, 'HLS': 2, 'Bnk': 1, 'Low': 0})\n",
    "\n",
    "houses['Land Contour'].value_counts()"
   ]
  },
  {
   "cell_type": "markdown",
   "metadata": {},
   "source": [
    "### Utilities is almost entirely AllPub.  Just drop."
   ]
  },
  {
   "cell_type": "code",
   "execution_count": 727,
   "metadata": {},
   "outputs": [
    {
     "data": {
      "text/plain": [
       "AllPub    2040\n",
       "NoSewr       1\n",
       "NoSeWa       1\n",
       "Name: Utilities, dtype: int64"
      ]
     },
     "execution_count": 727,
     "metadata": {},
     "output_type": "execute_result"
    }
   ],
   "source": [
    "houses['Utilities'].value_counts()"
   ]
  },
  {
   "cell_type": "code",
   "execution_count": 728,
   "metadata": {},
   "outputs": [],
   "source": [
    "houses.drop('Utilities', axis=1, inplace=True)"
   ]
  },
  {
   "cell_type": "markdown",
   "metadata": {},
   "source": [
    "#### Lot Config column"
   ]
  },
  {
   "cell_type": "code",
   "execution_count": 729,
   "metadata": {},
   "outputs": [
    {
     "data": {
      "text/plain": [
       "Inside     1498\n",
       "Corner      346\n",
       "CulDSac     129\n",
       "FR2          60\n",
       "FR3           9\n",
       "Name: Lot Config, dtype: int64"
      ]
     },
     "execution_count": 729,
     "metadata": {},
     "output_type": "execute_result"
    }
   ],
   "source": [
    "houses['Lot Config'].value_counts()"
   ]
  },
  {
   "cell_type": "code",
   "execution_count": 730,
   "metadata": {},
   "outputs": [
    {
     "data": {
      "text/plain": [
       "4    1498\n",
       "3     346\n",
       "2     129\n",
       "1      60\n",
       "0       9\n",
       "Name: Lot Config, dtype: int64"
      ]
     },
     "execution_count": 730,
     "metadata": {},
     "output_type": "execute_result"
    }
   ],
   "source": [
    "# Convert Inside to 4, Corner to 3, CulDSac to 2, and FR2 to 1, FR3 to 0\n",
    "houses['Lot Config'] = houses['Lot Config'].map({'Inside': 4,'Corner': 3, 'CulDSac': 2,\n",
    "                                                 'FR2': 1, 'FR3': 0})\n",
    "\n",
    "houses['Lot Config'].value_counts()"
   ]
  },
  {
   "cell_type": "markdown",
   "metadata": {},
   "source": [
    "#### Land Slope column"
   ]
  },
  {
   "cell_type": "code",
   "execution_count": 731,
   "metadata": {},
   "outputs": [
    {
     "data": {
      "text/plain": [
       "Gtl    1949\n",
       "Mod      85\n",
       "Sev       8\n",
       "Name: Land Slope, dtype: int64"
      ]
     },
     "execution_count": 731,
     "metadata": {},
     "output_type": "execute_result"
    }
   ],
   "source": [
    "houses['Land Slope'].value_counts()"
   ]
  },
  {
   "cell_type": "code",
   "execution_count": 732,
   "metadata": {},
   "outputs": [
    {
     "data": {
      "text/plain": [
       "2    1949\n",
       "1      85\n",
       "0       8\n",
       "Name: Land Slope, dtype: int64"
      ]
     },
     "execution_count": 732,
     "metadata": {},
     "output_type": "execute_result"
    }
   ],
   "source": [
    "# Convert Gtl to 2, and Mod to 1, Sev to 0\n",
    "houses['Land Slope'] = houses['Land Slope'].map({'Gtl': 2, 'Mod': 1, 'Sev': 0})\n",
    "\n",
    "houses['Land Slope'].value_counts()"
   ]
  },
  {
   "cell_type": "markdown",
   "metadata": {},
   "source": [
    "#### Neighborhood column\n",
    "Too many to map each one, so create dummy columns"
   ]
  },
  {
   "cell_type": "markdown",
   "metadata": {},
   "source": [
    "---\n",
    "Before dummying, create a new column which shows whether or not a house is near the Iowa State campus.\n",
    "\n",
    "##### Create NearISU column\n",
    "One main component of my problem statment will be to compare the prices of houses in neighborhoods near the Iowa State\n",
    "University's campus.\n",
    "\n",
    "By using several mapping and real estate web sites, I have identified the following neighborhoods:\n",
    ">BrkSide (Brookside)<br>\n",
    "Crawfor (Crawford)<br>\n",
    "Edwards<br>\n",
    "IDOTRR (Iowa DOT and Rail Road)<br>\n",
    "OldTown (Old Town)<br>\n",
    "SWISU (South & West of Iowa State University)<br>\n",
    "Sawyer<br>\n"
   ]
  },
  {
   "cell_type": "code",
   "execution_count": 733,
   "metadata": {},
   "outputs": [
    {
     "data": {
      "text/plain": [
       "(663, 80)"
      ]
     },
     "execution_count": 733,
     "metadata": {},
     "output_type": "execute_result"
    }
   ],
   "source": [
    "near_ISU_hoods = ['BrkSide','Crawfor', 'Edwards', 'IDOTRR', 'OldTown', 'SWISU','Sawyer']\n",
    "\n",
    "houses[houses['Neighborhood'].isin(near_ISU_hoods)].shape"
   ]
  },
  {
   "cell_type": "markdown",
   "metadata": {},
   "source": [
    "522 houses are in the neighborhoods near the Iowa State campus."
   ]
  },
  {
   "cell_type": "code",
   "execution_count": 734,
   "metadata": {},
   "outputs": [],
   "source": [
    "houses['near_ISU'] = [1 if hood in near_ISU_hoods else 0 for hood in houses['Neighborhood']]"
   ]
  },
  {
   "cell_type": "markdown",
   "metadata": {},
   "source": [
    "Next create dummys for all neighborhoods"
   ]
  },
  {
   "cell_type": "code",
   "execution_count": 735,
   "metadata": {},
   "outputs": [
    {
     "data": {
      "text/plain": [
       "NAmes      309\n",
       "CollgCr    180\n",
       "OldTown    163\n",
       "Edwards    141\n",
       "Somerst    130\n",
       "NridgHt    122\n",
       "Gilbert    116\n",
       "Sawyer     111\n",
       "SawyerW     87\n",
       "NWAmes      87\n",
       "Mitchel     81\n",
       "BrkSide     76\n",
       "Crawfor     71\n",
       "IDOTRR      69\n",
       "Timber      48\n",
       "NoRidge     47\n",
       "StoneBr     38\n",
       "SWISU       32\n",
       "MeadowV     24\n",
       "ClearCr     24\n",
       "Blmngtn     22\n",
       "BrDale      19\n",
       "NPkVill     17\n",
       "Veenker     16\n",
       "Blueste      6\n",
       "Greens       3\n",
       "GrnHill      2\n",
       "Landmrk      1\n",
       "Name: Neighborhood, dtype: int64"
      ]
     },
     "execution_count": 735,
     "metadata": {},
     "output_type": "execute_result"
    }
   ],
   "source": [
    "houses['Neighborhood'].value_counts()"
   ]
  },
  {
   "cell_type": "code",
   "execution_count": 736,
   "metadata": {},
   "outputs": [],
   "source": [
    "houses = pd.get_dummies(houses, columns=['Neighborhood'], drop_first=True)"
   ]
  },
  {
   "cell_type": "code",
   "execution_count": 737,
   "metadata": {},
   "outputs": [],
   "source": [
    "#list(houses.columns)"
   ]
  },
  {
   "cell_type": "markdown",
   "metadata": {},
   "source": [
    "#### Condition 1 column"
   ]
  },
  {
   "cell_type": "code",
   "execution_count": 738,
   "metadata": {},
   "outputs": [
    {
     "data": {
      "text/plain": [
       "Norm      1760\n",
       "Feedr      108\n",
       "Artery      70\n",
       "RRAn        36\n",
       "PosN        27\n",
       "RRAe        21\n",
       "PosA        11\n",
       "RRNn         6\n",
       "RRNe         3\n",
       "Name: Condition 1, dtype: int64"
      ]
     },
     "execution_count": 738,
     "metadata": {},
     "output_type": "execute_result"
    }
   ],
   "source": [
    "houses['Condition 1'].value_counts()"
   ]
  },
  {
   "cell_type": "code",
   "execution_count": 739,
   "metadata": {},
   "outputs": [
    {
     "data": {
      "text/plain": [
       "8    1760\n",
       "7     108\n",
       "6      70\n",
       "5      36\n",
       "4      27\n",
       "3      21\n",
       "2      11\n",
       "1       6\n",
       "0       3\n",
       "Name: Condition 1, dtype: int64"
      ]
     },
     "execution_count": 739,
     "metadata": {},
     "output_type": "execute_result"
    }
   ],
   "source": [
    "# Convert Norm to 8,Feedr to 7, Artery to 6, RRAn to 5, PosN to 4, RRAe to 3, PosA to 2,\n",
    "# and RRNn to 1, RRNe to 0\n",
    "houses['Condition 1'] = houses['Condition 1'].map({'Norm': 8,'Feedr': 7, 'Artery': 6, 'RRAn': 5,\n",
    "                                                   'PosN': 4, 'RRAe': 3, 'PosA': 2, 'RRNn': 1,\n",
    "                                                  'RRNe': 0})\n",
    "\n",
    "houses['Condition 1'].value_counts()"
   ]
  },
  {
   "cell_type": "markdown",
   "metadata": {},
   "source": [
    "#### Condition 2 has same categories as Condition 1"
   ]
  },
  {
   "cell_type": "code",
   "execution_count": 740,
   "metadata": {},
   "outputs": [
    {
     "data": {
      "text/plain": [
       "Norm      2016\n",
       "Feedr       11\n",
       "Artery       5\n",
       "PosA         3\n",
       "PosN         3\n",
       "RRNn         2\n",
       "RRAe         1\n",
       "RRAn         1\n",
       "Name: Condition 2, dtype: int64"
      ]
     },
     "execution_count": 740,
     "metadata": {},
     "output_type": "execute_result"
    }
   ],
   "source": [
    "houses['Condition 2'].value_counts()"
   ]
  },
  {
   "cell_type": "code",
   "execution_count": 741,
   "metadata": {},
   "outputs": [
    {
     "data": {
      "text/plain": [
       "8    2016\n",
       "7      11\n",
       "6       5\n",
       "4       3\n",
       "2       3\n",
       "1       2\n",
       "5       1\n",
       "3       1\n",
       "Name: Condition 2, dtype: int64"
      ]
     },
     "execution_count": 741,
     "metadata": {},
     "output_type": "execute_result"
    }
   ],
   "source": [
    "# Convert Norm to 8,Feedr to 7, Artery to 6, RRAn to 5, PosN to 4, RRAe to 3, PosA to 2,\n",
    "# and RRNn to 1, RRNe to 0\n",
    "houses['Condition 2'] = houses['Condition 2'].map({'Norm': 8,'Feedr': 7, 'Artery': 6, 'RRAn': 5,\n",
    "                                                   'PosN': 4, 'RRAe': 3, 'PosA': 2, 'RRNn': 1,\n",
    "                                                  'RRNe': 0})\n",
    "\n",
    "houses['Condition 2'].value_counts()"
   ]
  },
  {
   "cell_type": "markdown",
   "metadata": {},
   "source": [
    "#### Bldg Type column"
   ]
  },
  {
   "cell_type": "code",
   "execution_count": 742,
   "metadata": {},
   "outputs": [
    {
     "data": {
      "text/plain": [
       "1Fam      1691\n",
       "TwnhsE     161\n",
       "Duplex      75\n",
       "Twnhs       69\n",
       "2fmCon      46\n",
       "Name: Bldg Type, dtype: int64"
      ]
     },
     "execution_count": 742,
     "metadata": {},
     "output_type": "execute_result"
    }
   ],
   "source": [
    "houses['Bldg Type'].value_counts()"
   ]
  },
  {
   "cell_type": "code",
   "execution_count": 743,
   "metadata": {},
   "outputs": [
    {
     "data": {
      "text/plain": [
       "4    1691\n",
       "3     161\n",
       "2      75\n",
       "1      69\n",
       "0      46\n",
       "Name: Bldg Type, dtype: int64"
      ]
     },
     "execution_count": 743,
     "metadata": {},
     "output_type": "execute_result"
    }
   ],
   "source": [
    "# Convert 1Fam to 4, TwnhsE to 3, Duplex to 2, and Twnhs to 1, 2fmCon to 0\n",
    "houses['Bldg Type'] = houses['Bldg Type'].map({'1Fam': 4, 'TwnhsE': 3, 'Duplex': 2, 'Twnhs': 1,\n",
    "                                                  '2fmCon': 0})\n",
    "\n",
    "houses['Bldg Type'].value_counts()"
   ]
  },
  {
   "cell_type": "markdown",
   "metadata": {},
   "source": [
    "#### House Style column\n",
    "\n",
    "For now categorize, but later will create a new feature called **floors** to show one or two stories in a house.\n",
    "\n",
    "Basement information is contained in other columns."
   ]
  },
  {
   "cell_type": "code",
   "execution_count": 744,
   "metadata": {},
   "outputs": [
    {
     "data": {
      "text/plain": [
       "1Story    1054\n",
       "2Story     596\n",
       "1.5Fin     217\n",
       "SLvl        93\n",
       "SFoyer      50\n",
       "2.5Unf      14\n",
       "1.5Unf      12\n",
       "2.5Fin       6\n",
       "Name: House Style, dtype: int64"
      ]
     },
     "execution_count": 744,
     "metadata": {},
     "output_type": "execute_result"
    }
   ],
   "source": [
    "# Save this for a later histogram\n",
    "house_styles = houses['House Style']\n",
    "\n",
    "houses['House Style'].value_counts()"
   ]
  },
  {
   "cell_type": "code",
   "execution_count": 745,
   "metadata": {},
   "outputs": [
    {
     "data": {
      "text/plain": [
       "7    1054\n",
       "6     596\n",
       "5     217\n",
       "4      93\n",
       "3      50\n",
       "2      14\n",
       "1      12\n",
       "0       6\n",
       "Name: House Style, dtype: int64"
      ]
     },
     "execution_count": 745,
     "metadata": {},
     "output_type": "execute_result"
    }
   ],
   "source": [
    "# Convert 1Story to 7, 2Story to 6, 1.5Fin to 5, Slvl to 4, SFoyer to 3, 2.5Unf to 2,\n",
    "# and 1.5Unf to 1, 2.5Fin to 0\n",
    "houses['House Style'] = houses['House Style'].map({'1Story': 7, '2Story': 6, '1.5Fin': 5,\n",
    "                                                   'SLvl': 4, 'SFoyer': 3, '2.5Unf': 2, '1.5Unf': 1,\n",
    "                                                  '2.5Fin': 0})\n",
    "\n",
    "houses['House Style'].value_counts()"
   ]
  },
  {
   "cell_type": "markdown",
   "metadata": {},
   "source": [
    "#### Roof Style"
   ]
  },
  {
   "cell_type": "code",
   "execution_count": 746,
   "metadata": {},
   "outputs": [
    {
     "data": {
      "text/plain": [
       "Gable      1614\n",
       "Hip         394\n",
       "Flat         12\n",
       "Gambrel      12\n",
       "Mansard       7\n",
       "Shed          3\n",
       "Name: Roof Style, dtype: int64"
      ]
     },
     "execution_count": 746,
     "metadata": {},
     "output_type": "execute_result"
    }
   ],
   "source": [
    "houses['Roof Style'].value_counts()"
   ]
  },
  {
   "cell_type": "code",
   "execution_count": 747,
   "metadata": {},
   "outputs": [
    {
     "data": {
      "text/plain": [
       "5    1614\n",
       "4     394\n",
       "3      12\n",
       "2      12\n",
       "1       7\n",
       "0       3\n",
       "Name: Roof Style, dtype: int64"
      ]
     },
     "execution_count": 747,
     "metadata": {},
     "output_type": "execute_result"
    }
   ],
   "source": [
    "# Convert Gable to 5, Hip to 4, Flat to 3, Gambrel to 2, and Mansard to 1, Shed to 0\n",
    "houses['Roof Style'] = houses['Roof Style'].map({'Gable': 5, 'Hip': 4, 'Flat': 3,\n",
    "                                                 'Gambrel': 2, 'Mansard': 1, 'Shed': 0})\n",
    "\n",
    "houses['Roof Style'].value_counts()"
   ]
  },
  {
   "cell_type": "markdown",
   "metadata": {},
   "source": [
    "#### Roof Matl column"
   ]
  },
  {
   "cell_type": "code",
   "execution_count": 748,
   "metadata": {},
   "outputs": [
    {
     "data": {
      "text/plain": [
       "CompShg    2020\n",
       "Tar&Grv      14\n",
       "WdShake       4\n",
       "WdShngl       3\n",
       "Membran       1\n",
       "Name: Roof Matl, dtype: int64"
      ]
     },
     "execution_count": 748,
     "metadata": {},
     "output_type": "execute_result"
    }
   ],
   "source": [
    "houses['Roof Matl'].value_counts()"
   ]
  },
  {
   "cell_type": "code",
   "execution_count": 749,
   "metadata": {},
   "outputs": [
    {
     "data": {
      "text/plain": [
       "4    2020\n",
       "3      14\n",
       "2       4\n",
       "1       3\n",
       "0       1\n",
       "Name: Roof Matl, dtype: int64"
      ]
     },
     "execution_count": 749,
     "metadata": {},
     "output_type": "execute_result"
    }
   ],
   "source": [
    "houses['Roof Matl'] = houses['Roof Matl'].map({'ClyTile':7, 'Metal':6, 'Roll':5,'CompShg': 4, 'Tar&Grv': 3,\n",
    "                                                 'WdShake': 2, 'WdShngl': 1, 'Membran': 0})\n",
    "\n",
    "houses['Roof Matl'].value_counts()"
   ]
  },
  {
   "cell_type": "markdown",
   "metadata": {},
   "source": [
    "#### Exterior 1st column"
   ]
  },
  {
   "cell_type": "code",
   "execution_count": 750,
   "metadata": {},
   "outputs": [
    {
     "data": {
      "text/plain": [
       "VinylSd    724\n",
       "MetalSd    330\n",
       "HdBoard    299\n",
       "Wd Sdng    274\n",
       "Plywood    150\n",
       "CemntBd     89\n",
       "BrkFace     64\n",
       "WdShing     44\n",
       "AsbShng     33\n",
       "Stucco      26\n",
       "BrkComm      3\n",
       "CBlock       2\n",
       "Stone        2\n",
       "ImStucc      1\n",
       "AsphShn      1\n",
       "Name: Exterior 1st, dtype: int64"
      ]
     },
     "execution_count": 750,
     "metadata": {},
     "output_type": "execute_result"
    }
   ],
   "source": [
    "houses['Exterior 1st'].value_counts()"
   ]
  },
  {
   "cell_type": "code",
   "execution_count": 751,
   "metadata": {},
   "outputs": [
    {
     "data": {
      "text/plain": [
       "14    724\n",
       "13    330\n",
       "12    299\n",
       "11    274\n",
       "10    150\n",
       "9      89\n",
       "8      64\n",
       "7      44\n",
       "6      33\n",
       "5      26\n",
       "4       3\n",
       "3       2\n",
       "2       2\n",
       "1       1\n",
       "0       1\n",
       "Name: Exterior 1st, dtype: int64"
      ]
     },
     "execution_count": 751,
     "metadata": {},
     "output_type": "execute_result"
    }
   ],
   "source": [
    "\n",
    "ext_dict = {'VinylSd':14, 'MetalSd':13, 'HdBoard':12,'Wd Sdng':11,'Plywood':10,\n",
    "            'CemntBd':9,'BrkFace':8, 'WdShing':7, 'AsbShng':6, 'Stucco': 5,\n",
    "            'BrkComm': 4, 'Stone': 3,'CBlock': 2, 'ImStucc': 1, 'AsphShn': 0}\n",
    "\n",
    "houses['Exterior 1st'] = houses['Exterior 1st'].map(ext_dict)\n",
    "\n",
    "houses['Exterior 1st'].value_counts()"
   ]
  },
  {
   "cell_type": "markdown",
   "metadata": {},
   "source": [
    "#### Exterior 2nd column"
   ]
  },
  {
   "cell_type": "code",
   "execution_count": 752,
   "metadata": {},
   "outputs": [
    {
     "data": {
      "text/plain": [
       "VinylSd    721\n",
       "MetalSd    323\n",
       "HdBoard    274\n",
       "Wd Sdng    261\n",
       "Plywood    182\n",
       "CmentBd     89\n",
       "Wd Shng     62\n",
       "BrkFace     34\n",
       "Stucco      29\n",
       "AsbShng     28\n",
       "Brk Cmn     17\n",
       "ImStucc     11\n",
       "Stone        6\n",
       "AsphShn      3\n",
       "CBlock       2\n",
       "Name: Exterior 2nd, dtype: int64"
      ]
     },
     "execution_count": 752,
     "metadata": {},
     "output_type": "execute_result"
    }
   ],
   "source": [
    "houses['Exterior 2nd'].value_counts()"
   ]
  },
  {
   "cell_type": "code",
   "execution_count": 753,
   "metadata": {},
   "outputs": [
    {
     "data": {
      "text/plain": [
       "14    721\n",
       "13    323\n",
       "12    274\n",
       "11    261\n",
       "10    182\n",
       "9      89\n",
       "7      62\n",
       "8      34\n",
       "5      29\n",
       "6      28\n",
       "4      17\n",
       "1      11\n",
       "3       6\n",
       "0       3\n",
       "2       2\n",
       "Name: Exterior 2nd, dtype: int64"
      ]
     },
     "execution_count": 753,
     "metadata": {},
     "output_type": "execute_result"
    }
   ],
   "source": [
    "\n",
    "ext2_dict = {'VinylSd':14, 'MetalSd':13, 'HdBoard':12,'Wd Sdng':11,'Plywood':10,\n",
    "            'CmentBd':9,'BrkFace':8, 'Wd Shng':7, 'AsbShng':6, 'Stucco': 5,\n",
    "            'Brk Cmn': 4, 'Stone': 3,'CBlock': 2, 'ImStucc': 1, 'AsphShn': 0}\n",
    "\n",
    "houses['Exterior 2nd'] = houses['Exterior 2nd'].map(ext2_dict)\n",
    "\n",
    "houses['Exterior 2nd'].value_counts()"
   ]
  },
  {
   "cell_type": "markdown",
   "metadata": {},
   "source": [
    "#### Mas Vnr Type column - Masonry veneer type"
   ]
  },
  {
   "cell_type": "code",
   "execution_count": 754,
   "metadata": {},
   "outputs": [
    {
     "data": {
      "text/plain": [
       "None       1236\n",
       "BrkFace     629\n",
       "Stone       165\n",
       "BrkCmn       12\n",
       "Name: Mas Vnr Type, dtype: int64"
      ]
     },
     "execution_count": 754,
     "metadata": {},
     "output_type": "execute_result"
    }
   ],
   "source": [
    "houses['Mas Vnr Type'].value_counts()"
   ]
  },
  {
   "cell_type": "code",
   "execution_count": 755,
   "metadata": {},
   "outputs": [
    {
     "data": {
      "text/plain": [
       "3    1236\n",
       "2     629\n",
       "1     165\n",
       "0      12\n",
       "Name: Mas Vnr Type, dtype: int64"
      ]
     },
     "execution_count": 755,
     "metadata": {},
     "output_type": "execute_result"
    }
   ],
   "source": [
    "houses['Mas Vnr Type'] = houses['Mas Vnr Type'].map({'None': 3, 'BrkFace': 2, 'Stone': 1,\n",
    "                                                  'BrkCmn': 0})\n",
    "\n",
    "houses['Mas Vnr Type'].value_counts()"
   ]
  },
  {
   "cell_type": "markdown",
   "metadata": {},
   "source": [
    "#### Exter Qual column - Exterior quality"
   ]
  },
  {
   "cell_type": "code",
   "execution_count": 756,
   "metadata": {},
   "outputs": [
    {
     "data": {
      "text/plain": [
       "TA    1243\n",
       "Gd     694\n",
       "Ex      79\n",
       "Fa      26\n",
       "Name: Exter Qual, dtype: int64"
      ]
     },
     "execution_count": 756,
     "metadata": {},
     "output_type": "execute_result"
    }
   ],
   "source": [
    "houses['Exter Qual'].value_counts()"
   ]
  },
  {
   "cell_type": "code",
   "execution_count": 757,
   "metadata": {},
   "outputs": [
    {
     "data": {
      "text/plain": [
       "3    1243\n",
       "4     694\n",
       "5      79\n",
       "2      26\n",
       "Name: Exter Qual, dtype: int64"
      ]
     },
     "execution_count": 757,
     "metadata": {},
     "output_type": "execute_result"
    }
   ],
   "source": [
    "quality_map = {'Ex':5,'Gd': 4,'TA': 3, 'Fa': 2, 'Po': 1,'NA': 0}\n",
    "\n",
    "houses['Exter Qual'] = houses['Exter Qual'].map(quality_map)\n",
    "\n",
    "houses['Exter Qual'].value_counts()"
   ]
  },
  {
   "cell_type": "markdown",
   "metadata": {},
   "source": [
    "#### Exter Cond column - exterior condition"
   ]
  },
  {
   "cell_type": "code",
   "execution_count": 758,
   "metadata": {},
   "outputs": [
    {
     "data": {
      "text/plain": [
       "TA    1770\n",
       "Gd     214\n",
       "Fa      49\n",
       "Ex       7\n",
       "Po       2\n",
       "Name: Exter Cond, dtype: int64"
      ]
     },
     "execution_count": 758,
     "metadata": {},
     "output_type": "execute_result"
    }
   ],
   "source": [
    "houses['Exter Cond'].value_counts()"
   ]
  },
  {
   "cell_type": "code",
   "execution_count": 759,
   "metadata": {},
   "outputs": [
    {
     "data": {
      "text/plain": [
       "3    1770\n",
       "4     214\n",
       "2      49\n",
       "5       7\n",
       "1       2\n",
       "Name: Exter Cond, dtype: int64"
      ]
     },
     "execution_count": 759,
     "metadata": {},
     "output_type": "execute_result"
    }
   ],
   "source": [
    "houses['Exter Cond'] = houses['Exter Cond'].map(quality_map)\n",
    "\n",
    "houses['Exter Cond'].value_counts()"
   ]
  },
  {
   "cell_type": "markdown",
   "metadata": {},
   "source": [
    "#### Foundation column"
   ]
  },
  {
   "cell_type": "code",
   "execution_count": 760,
   "metadata": {},
   "outputs": [
    {
     "data": {
      "text/plain": [
       "PConc     922\n",
       "CBlock    858\n",
       "BrkTil    221\n",
       "Slab       34\n",
       "Stone       5\n",
       "Wood        2\n",
       "Name: Foundation, dtype: int64"
      ]
     },
     "execution_count": 760,
     "metadata": {},
     "output_type": "execute_result"
    }
   ],
   "source": [
    "houses['Foundation'].value_counts()"
   ]
  },
  {
   "cell_type": "code",
   "execution_count": 761,
   "metadata": {},
   "outputs": [
    {
     "data": {
      "text/plain": [
       "5    922\n",
       "4    858\n",
       "3    221\n",
       "2     34\n",
       "1      5\n",
       "0      2\n",
       "Name: Foundation, dtype: int64"
      ]
     },
     "execution_count": 761,
     "metadata": {},
     "output_type": "execute_result"
    }
   ],
   "source": [
    "houses['Foundation'] = houses['Foundation'].map({'PConc':5, 'CBlock': 4, 'BrkTil': 3,\n",
    "                                                 'Slab': 2, 'Stone': 1, 'Wood': 0})\n",
    "\n",
    "houses['Foundation'].value_counts()"
   ]
  },
  {
   "cell_type": "markdown",
   "metadata": {},
   "source": [
    "#### Bsmt Qual column - Basement height"
   ]
  },
  {
   "cell_type": "code",
   "execution_count": 762,
   "metadata": {},
   "outputs": [
    {
     "data": {
      "text/plain": [
       "TA    887\n",
       "Gd    859\n",
       "Ex    180\n",
       "Fa     60\n",
       "NA     55\n",
       "Po      1\n",
       "Name: Bsmt Qual, dtype: int64"
      ]
     },
     "execution_count": 762,
     "metadata": {},
     "output_type": "execute_result"
    }
   ],
   "source": [
    "houses['Bsmt Qual'].value_counts()"
   ]
  },
  {
   "cell_type": "code",
   "execution_count": 763,
   "metadata": {},
   "outputs": [
    {
     "data": {
      "text/plain": [
       "3    887\n",
       "4    859\n",
       "5    180\n",
       "2     60\n",
       "0     55\n",
       "1      1\n",
       "Name: Bsmt Qual, dtype: int64"
      ]
     },
     "execution_count": 763,
     "metadata": {},
     "output_type": "execute_result"
    }
   ],
   "source": [
    "houses['Bsmt Qual'] = houses['Bsmt Qual'].map(quality_map)\n",
    "\n",
    "houses['Bsmt Qual'].value_counts()"
   ]
  },
  {
   "cell_type": "markdown",
   "metadata": {},
   "source": [
    "#### Bsmt Cond column - Basement condition"
   ]
  },
  {
   "cell_type": "code",
   "execution_count": 764,
   "metadata": {},
   "outputs": [
    {
     "data": {
      "text/plain": [
       "TA    1825\n",
       "Gd      89\n",
       "Fa      65\n",
       "NA      55\n",
       "Po       5\n",
       "Ex       3\n",
       "Name: Bsmt Cond, dtype: int64"
      ]
     },
     "execution_count": 764,
     "metadata": {},
     "output_type": "execute_result"
    }
   ],
   "source": [
    "houses['Bsmt Cond'].value_counts()"
   ]
  },
  {
   "cell_type": "code",
   "execution_count": 765,
   "metadata": {},
   "outputs": [
    {
     "data": {
      "text/plain": [
       "3    1825\n",
       "4      89\n",
       "2      65\n",
       "0      55\n",
       "1       5\n",
       "5       3\n",
       "Name: Bsmt Cond, dtype: int64"
      ]
     },
     "execution_count": 765,
     "metadata": {},
     "output_type": "execute_result"
    }
   ],
   "source": [
    "houses['Bsmt Cond'] = houses['Bsmt Cond'].map(quality_map)\n",
    "\n",
    "houses['Bsmt Cond'].value_counts()"
   ]
  },
  {
   "cell_type": "markdown",
   "metadata": {},
   "source": [
    "#### Bsmt Exposure - walkout or garden level walls"
   ]
  },
  {
   "cell_type": "code",
   "execution_count": 766,
   "metadata": {},
   "outputs": [
    {
     "data": {
      "text/plain": [
       "No    1339\n",
       "Av     288\n",
       "Gd     194\n",
       "Mn     163\n",
       "NA      58\n",
       "Name: Bsmt Exposure, dtype: int64"
      ]
     },
     "execution_count": 766,
     "metadata": {},
     "output_type": "execute_result"
    }
   ],
   "source": [
    "houses['Bsmt Exposure'].value_counts()"
   ]
  },
  {
   "cell_type": "code",
   "execution_count": 767,
   "metadata": {},
   "outputs": [
    {
     "data": {
      "text/plain": [
       "4    1339\n",
       "3     288\n",
       "2     194\n",
       "1     163\n",
       "0      58\n",
       "Name: Bsmt Exposure, dtype: int64"
      ]
     },
     "execution_count": 767,
     "metadata": {},
     "output_type": "execute_result"
    }
   ],
   "source": [
    "houses['Bsmt Exposure'] = houses['Bsmt Exposure'].map({'No': 4, 'Av': 3, 'Gd': 2, 'Mn': 1, 'NA':0})\n",
    "\n",
    "houses['Bsmt Exposure'].value_counts()"
   ]
  },
  {
   "cell_type": "markdown",
   "metadata": {},
   "source": [
    "#### BsmtFin Type 1 column"
   ]
  },
  {
   "cell_type": "code",
   "execution_count": 768,
   "metadata": {},
   "outputs": [
    {
     "data": {
      "text/plain": [
       "GLQ    609\n",
       "Unf    603\n",
       "ALQ    292\n",
       "BLQ    200\n",
       "Rec    181\n",
       "LwQ    102\n",
       "NA      55\n",
       "Name: BsmtFin Type 1, dtype: int64"
      ]
     },
     "execution_count": 768,
     "metadata": {},
     "output_type": "execute_result"
    }
   ],
   "source": [
    "houses['BsmtFin Type 1'].value_counts() "
   ]
  },
  {
   "cell_type": "code",
   "execution_count": 769,
   "metadata": {},
   "outputs": [
    {
     "data": {
      "text/plain": [
       "6    609\n",
       "5    603\n",
       "4    292\n",
       "3    200\n",
       "2    181\n",
       "1    102\n",
       "0     55\n",
       "Name: BsmtFin Type 1, dtype: int64"
      ]
     },
     "execution_count": 769,
     "metadata": {},
     "output_type": "execute_result"
    }
   ],
   "source": [
    "basement_map = {'GLQ':6,'Unf': 5,'ALQ': 4, 'BLQ': 3, 'Rec': 2,'LwQ': 1, 'NA':0}\n",
    "\n",
    "houses['BsmtFin Type 1'] = houses['BsmtFin Type 1'].map(basement_map)\n",
    "\n",
    "houses['BsmtFin Type 1'].value_counts() "
   ]
  },
  {
   "cell_type": "markdown",
   "metadata": {},
   "source": [
    "#### BsmtFin Type 2 column"
   ]
  },
  {
   "cell_type": "code",
   "execution_count": 770,
   "metadata": {},
   "outputs": [
    {
     "data": {
      "text/plain": [
       "Unf    1741\n",
       "Rec      80\n",
       "LwQ      60\n",
       "NA       56\n",
       "BLQ      48\n",
       "ALQ      35\n",
       "GLQ      22\n",
       "Name: BsmtFin Type 2, dtype: int64"
      ]
     },
     "execution_count": 770,
     "metadata": {},
     "output_type": "execute_result"
    }
   ],
   "source": [
    "houses['BsmtFin Type 2'].value_counts() "
   ]
  },
  {
   "cell_type": "code",
   "execution_count": 771,
   "metadata": {},
   "outputs": [
    {
     "data": {
      "text/plain": [
       "5    1741\n",
       "2      80\n",
       "1      60\n",
       "0      56\n",
       "3      48\n",
       "4      35\n",
       "6      22\n",
       "Name: BsmtFin Type 2, dtype: int64"
      ]
     },
     "execution_count": 771,
     "metadata": {},
     "output_type": "execute_result"
    }
   ],
   "source": [
    "houses['BsmtFin Type 2'] = houses['BsmtFin Type 2'].map(basement_map)\n",
    "houses['BsmtFin Type 2'].value_counts() "
   ]
  },
  {
   "cell_type": "markdown",
   "metadata": {},
   "source": [
    "#### Heating column"
   ]
  },
  {
   "cell_type": "code",
   "execution_count": 772,
   "metadata": {},
   "outputs": [
    {
     "data": {
      "text/plain": [
       "GasA    2009\n",
       "GasW      20\n",
       "Wall       6\n",
       "Grav       5\n",
       "OthW       2\n",
       "Name: Heating, dtype: int64"
      ]
     },
     "execution_count": 772,
     "metadata": {},
     "output_type": "execute_result"
    }
   ],
   "source": [
    "houses['Heating'].value_counts() "
   ]
  },
  {
   "cell_type": "code",
   "execution_count": 773,
   "metadata": {},
   "outputs": [
    {
     "data": {
      "text/plain": [
       "4    2009\n",
       "3      20\n",
       "2       6\n",
       "1       5\n",
       "0       2\n",
       "Name: Heating, dtype: int64"
      ]
     },
     "execution_count": 773,
     "metadata": {},
     "output_type": "execute_result"
    }
   ],
   "source": [
    "houses['Heating'] = houses['Heating'].map({'GasA':4, 'GasW': 3, 'Wall': 2, 'Grav': 1, 'OthW': 0})\n",
    "houses['Heating'].value_counts() "
   ]
  },
  {
   "cell_type": "markdown",
   "metadata": {},
   "source": [
    "#### Heating QC column - Heating quality and condition"
   ]
  },
  {
   "cell_type": "code",
   "execution_count": 774,
   "metadata": {},
   "outputs": [
    {
     "data": {
      "text/plain": [
       "Ex    1061\n",
       "TA     594\n",
       "Gd     317\n",
       "Fa      67\n",
       "Po       3\n",
       "Name: Heating QC, dtype: int64"
      ]
     },
     "execution_count": 774,
     "metadata": {},
     "output_type": "execute_result"
    }
   ],
   "source": [
    "houses['Heating QC'].value_counts() "
   ]
  },
  {
   "cell_type": "code",
   "execution_count": 775,
   "metadata": {},
   "outputs": [
    {
     "data": {
      "text/plain": [
       "5    1061\n",
       "3     594\n",
       "4     317\n",
       "2      67\n",
       "1       3\n",
       "Name: Heating QC, dtype: int64"
      ]
     },
     "execution_count": 775,
     "metadata": {},
     "output_type": "execute_result"
    }
   ],
   "source": [
    "houses['Heating QC'] = houses['Heating QC'].map(quality_map)\n",
    "houses['Heating QC'].value_counts() "
   ]
  },
  {
   "cell_type": "markdown",
   "metadata": {},
   "source": [
    "#### Central Air"
   ]
  },
  {
   "cell_type": "code",
   "execution_count": 776,
   "metadata": {},
   "outputs": [
    {
     "data": {
      "text/plain": [
       "Y    1901\n",
       "N     141\n",
       "Name: Central Air, dtype: int64"
      ]
     },
     "execution_count": 776,
     "metadata": {},
     "output_type": "execute_result"
    }
   ],
   "source": [
    "houses['Central Air'].value_counts() "
   ]
  },
  {
   "cell_type": "code",
   "execution_count": 777,
   "metadata": {},
   "outputs": [
    {
     "data": {
      "text/plain": [
       "1    1901\n",
       "0     141\n",
       "Name: Central Air, dtype: int64"
      ]
     },
     "execution_count": 777,
     "metadata": {},
     "output_type": "execute_result"
    }
   ],
   "source": [
    "houses['Central Air'] = houses['Central Air'].map({'Y': 1, 'N': 0})\n",
    "houses['Central Air'].value_counts() "
   ]
  },
  {
   "cell_type": "markdown",
   "metadata": {},
   "source": [
    "#### Electrical"
   ]
  },
  {
   "cell_type": "code",
   "execution_count": 778,
   "metadata": {},
   "outputs": [
    {
     "data": {
      "text/plain": [
       "SBrkr    1859\n",
       "FuseA     140\n",
       "FuseF      35\n",
       "FuseP       7\n",
       "Mix         1\n",
       "Name: Electrical, dtype: int64"
      ]
     },
     "execution_count": 778,
     "metadata": {},
     "output_type": "execute_result"
    }
   ],
   "source": [
    "houses['Electrical'].value_counts() "
   ]
  },
  {
   "cell_type": "code",
   "execution_count": 779,
   "metadata": {},
   "outputs": [
    {
     "data": {
      "text/plain": [
       "4    1859\n",
       "3     140\n",
       "2      35\n",
       "1       7\n",
       "0       1\n",
       "Name: Electrical, dtype: int64"
      ]
     },
     "execution_count": 779,
     "metadata": {},
     "output_type": "execute_result"
    }
   ],
   "source": [
    "houses['Electrical'] = houses['Electrical'].map({'SBrkr':4, 'FuseA': 3, 'FuseF': 2, 'FuseP': 1, 'Mix': 0})\n",
    "\n",
    "houses['Electrical'].value_counts() "
   ]
  },
  {
   "cell_type": "markdown",
   "metadata": {},
   "source": [
    "#### Kitchen Qual"
   ]
  },
  {
   "cell_type": "code",
   "execution_count": 780,
   "metadata": {},
   "outputs": [
    {
     "data": {
      "text/plain": [
       "TA    1046\n",
       "Gd     801\n",
       "Ex     148\n",
       "Fa      47\n",
       "Name: Kitchen Qual, dtype: int64"
      ]
     },
     "execution_count": 780,
     "metadata": {},
     "output_type": "execute_result"
    }
   ],
   "source": [
    "houses['Kitchen Qual'].value_counts() "
   ]
  },
  {
   "cell_type": "code",
   "execution_count": 781,
   "metadata": {},
   "outputs": [
    {
     "data": {
      "text/plain": [
       "3    1046\n",
       "4     801\n",
       "5     148\n",
       "2      47\n",
       "Name: Kitchen Qual, dtype: int64"
      ]
     },
     "execution_count": 781,
     "metadata": {},
     "output_type": "execute_result"
    }
   ],
   "source": [
    "houses['Kitchen Qual'] = houses['Kitchen Qual'].map(quality_map)\n",
    "houses['Kitchen Qual'].value_counts() "
   ]
  },
  {
   "cell_type": "markdown",
   "metadata": {},
   "source": [
    "#### Functional column"
   ]
  },
  {
   "cell_type": "code",
   "execution_count": 782,
   "metadata": {},
   "outputs": [
    {
     "data": {
      "text/plain": [
       "Typ     1906\n",
       "Min1      42\n",
       "Min2      42\n",
       "Mod       29\n",
       "Maj1      12\n",
       "Maj2       7\n",
       "Sev        2\n",
       "Sal        2\n",
       "Name: Functional, dtype: int64"
      ]
     },
     "execution_count": 782,
     "metadata": {},
     "output_type": "execute_result"
    }
   ],
   "source": [
    "houses['Functional'].value_counts() "
   ]
  },
  {
   "cell_type": "code",
   "execution_count": 783,
   "metadata": {},
   "outputs": [
    {
     "data": {
      "text/plain": [
       "7    1906\n",
       "6      42\n",
       "5      42\n",
       "4      29\n",
       "3      12\n",
       "2       7\n",
       "1       2\n",
       "0       2\n",
       "Name: Functional, dtype: int64"
      ]
     },
     "execution_count": 783,
     "metadata": {},
     "output_type": "execute_result"
    }
   ],
   "source": [
    "houses['Functional'] = houses['Functional'].map({'Typ':7, 'Min1':6, 'Min2':5, 'Mod': 4, 'Maj1': 3,\n",
    "                                                 'Maj2': 2, 'Sal': 1, 'Sev': 0})\n",
    "\n",
    "houses['Functional'].value_counts() "
   ]
  },
  {
   "cell_type": "markdown",
   "metadata": {},
   "source": [
    "#### Fireplace Qu - quality"
   ]
  },
  {
   "cell_type": "code",
   "execution_count": 784,
   "metadata": {},
   "outputs": [
    {
     "data": {
      "text/plain": [
       "NA    1000\n",
       "Gd     519\n",
       "TA     402\n",
       "Fa      59\n",
       "Ex      31\n",
       "Po      31\n",
       "Name: Fireplace Qu, dtype: int64"
      ]
     },
     "execution_count": 784,
     "metadata": {},
     "output_type": "execute_result"
    }
   ],
   "source": [
    "houses['Fireplace Qu'].value_counts() "
   ]
  },
  {
   "cell_type": "code",
   "execution_count": 785,
   "metadata": {},
   "outputs": [
    {
     "data": {
      "text/plain": [
       "0    1000\n",
       "4     519\n",
       "3     402\n",
       "2      59\n",
       "5      31\n",
       "1      31\n",
       "Name: Fireplace Qu, dtype: int64"
      ]
     },
     "execution_count": 785,
     "metadata": {},
     "output_type": "execute_result"
    }
   ],
   "source": [
    "houses['Fireplace Qu'] = houses['Fireplace Qu'].map(quality_map)\n",
    "houses['Fireplace Qu'].value_counts() "
   ]
  },
  {
   "cell_type": "markdown",
   "metadata": {},
   "source": [
    "#### Garage Type"
   ]
  },
  {
   "cell_type": "code",
   "execution_count": 786,
   "metadata": {},
   "outputs": [
    {
     "data": {
      "text/plain": [
       "Attchd     1204\n",
       "Detchd      536\n",
       "BuiltIn     132\n",
       "NA          113\n",
       "Basment      27\n",
       "2Types       19\n",
       "CarPort      11\n",
       "Name: Garage Type, dtype: int64"
      ]
     },
     "execution_count": 786,
     "metadata": {},
     "output_type": "execute_result"
    }
   ],
   "source": [
    "houses['Garage Type'].value_counts() "
   ]
  },
  {
   "cell_type": "code",
   "execution_count": 787,
   "metadata": {},
   "outputs": [
    {
     "data": {
      "text/plain": [
       "6    1204\n",
       "5     536\n",
       "4     132\n",
       "3     113\n",
       "2      27\n",
       "1      19\n",
       "0      11\n",
       "Name: Garage Type, dtype: int64"
      ]
     },
     "execution_count": 787,
     "metadata": {},
     "output_type": "execute_result"
    }
   ],
   "source": [
    "houses['Garage Type'] = houses['Garage Type'].map({'Attchd':6, 'Detchd': 5, 'BuiltIn': 4, 'NA':3,\n",
    "                                                 'Basment': 2, '2Types': 1, 'CarPort': 0})\n",
    "\n",
    "houses['Garage Type'].value_counts() "
   ]
  },
  {
   "cell_type": "markdown",
   "metadata": {},
   "source": [
    "#### Garage Finish"
   ]
  },
  {
   "cell_type": "code",
   "execution_count": 788,
   "metadata": {},
   "outputs": [
    {
     "data": {
      "text/plain": [
       "Unf    847\n",
       "RFn    577\n",
       "Fin    504\n",
       "NA     114\n",
       "Name: Garage Finish, dtype: int64"
      ]
     },
     "execution_count": 788,
     "metadata": {},
     "output_type": "execute_result"
    }
   ],
   "source": [
    "houses['Garage Finish'].value_counts() "
   ]
  },
  {
   "cell_type": "code",
   "execution_count": 789,
   "metadata": {},
   "outputs": [
    {
     "data": {
      "text/plain": [
       "3    847\n",
       "2    577\n",
       "1    504\n",
       "0    114\n",
       "Name: Garage Finish, dtype: int64"
      ]
     },
     "execution_count": 789,
     "metadata": {},
     "output_type": "execute_result"
    }
   ],
   "source": [
    "houses['Garage Finish'] = houses['Garage Finish'].map({'Unf': 3, 'RFn': 2, 'Fin': 1, 'NA':0})\n",
    "houses['Garage Finish'].value_counts() "
   ]
  },
  {
   "cell_type": "markdown",
   "metadata": {},
   "source": [
    "#### Garage Qual column"
   ]
  },
  {
   "cell_type": "code",
   "execution_count": 790,
   "metadata": {},
   "outputs": [
    {
     "data": {
      "text/plain": [
       "TA    1823\n",
       "NA     114\n",
       "Fa      82\n",
       "Gd      18\n",
       "Ex       3\n",
       "Po       2\n",
       "Name: Garage Qual, dtype: int64"
      ]
     },
     "execution_count": 790,
     "metadata": {},
     "output_type": "execute_result"
    }
   ],
   "source": [
    "houses['Garage Qual'].value_counts() "
   ]
  },
  {
   "cell_type": "code",
   "execution_count": 791,
   "metadata": {},
   "outputs": [
    {
     "data": {
      "text/plain": [
       "3    1823\n",
       "0     114\n",
       "2      82\n",
       "4      18\n",
       "5       3\n",
       "1       2\n",
       "Name: Garage Qual, dtype: int64"
      ]
     },
     "execution_count": 791,
     "metadata": {},
     "output_type": "execute_result"
    }
   ],
   "source": [
    "houses['Garage Qual'] = houses['Garage Qual'].map(quality_map)\n",
    "houses['Garage Qual'].value_counts() "
   ]
  },
  {
   "cell_type": "markdown",
   "metadata": {},
   "source": [
    "#### Garage Cond - condition"
   ]
  },
  {
   "cell_type": "code",
   "execution_count": 792,
   "metadata": {},
   "outputs": [
    {
     "data": {
      "text/plain": [
       "TA    1859\n",
       "NA     114\n",
       "Fa      47\n",
       "Gd      12\n",
       "Po       8\n",
       "Ex       2\n",
       "Name: Garage Cond, dtype: int64"
      ]
     },
     "execution_count": 792,
     "metadata": {},
     "output_type": "execute_result"
    }
   ],
   "source": [
    "houses['Garage Cond'].value_counts() "
   ]
  },
  {
   "cell_type": "code",
   "execution_count": 793,
   "metadata": {},
   "outputs": [
    {
     "data": {
      "text/plain": [
       "3    1859\n",
       "0     114\n",
       "2      47\n",
       "4      12\n",
       "1       8\n",
       "5       2\n",
       "Name: Garage Cond, dtype: int64"
      ]
     },
     "execution_count": 793,
     "metadata": {},
     "output_type": "execute_result"
    }
   ],
   "source": [
    "houses['Garage Cond'] = houses['Garage Cond'].map(quality_map)\n",
    "houses['Garage Cond'].value_counts() "
   ]
  },
  {
   "cell_type": "markdown",
   "metadata": {},
   "source": [
    "#### Paved Drive column"
   ]
  },
  {
   "cell_type": "code",
   "execution_count": 794,
   "metadata": {},
   "outputs": [
    {
     "data": {
      "text/plain": [
       "Y    1852\n",
       "N     151\n",
       "P      39\n",
       "Name: Paved Drive, dtype: int64"
      ]
     },
     "execution_count": 794,
     "metadata": {},
     "output_type": "execute_result"
    }
   ],
   "source": [
    "houses['Paved Drive'].value_counts() "
   ]
  },
  {
   "cell_type": "code",
   "execution_count": 795,
   "metadata": {},
   "outputs": [
    {
     "data": {
      "text/plain": [
       "2    1852\n",
       "1     151\n",
       "0      39\n",
       "Name: Paved Drive, dtype: int64"
      ]
     },
     "execution_count": 795,
     "metadata": {},
     "output_type": "execute_result"
    }
   ],
   "source": [
    "houses['Paved Drive'] = houses['Paved Drive'].map({'Y': 2, 'N': 1, 'P': 0})\n",
    "houses['Paved Drive'].value_counts()"
   ]
  },
  {
   "cell_type": "markdown",
   "metadata": {},
   "source": [
    "#### Pool QC"
   ]
  },
  {
   "cell_type": "code",
   "execution_count": 796,
   "metadata": {},
   "outputs": [
    {
     "data": {
      "text/plain": [
       "NA    2034\n",
       "Gd       3\n",
       "Fa       2\n",
       "TA       2\n",
       "Ex       1\n",
       "Name: Pool QC, dtype: int64"
      ]
     },
     "execution_count": 796,
     "metadata": {},
     "output_type": "execute_result"
    }
   ],
   "source": [
    "houses['Pool QC'].value_counts() "
   ]
  },
  {
   "cell_type": "code",
   "execution_count": 797,
   "metadata": {},
   "outputs": [
    {
     "data": {
      "text/plain": [
       "0    2034\n",
       "4       3\n",
       "3       2\n",
       "2       2\n",
       "5       1\n",
       "Name: Pool QC, dtype: int64"
      ]
     },
     "execution_count": 797,
     "metadata": {},
     "output_type": "execute_result"
    }
   ],
   "source": [
    "houses['Pool QC'] = houses['Pool QC'].map(quality_map)\n",
    "houses['Pool QC'].value_counts() "
   ]
  },
  {
   "cell_type": "markdown",
   "metadata": {},
   "source": [
    "#### Fence column"
   ]
  },
  {
   "cell_type": "code",
   "execution_count": 798,
   "metadata": {},
   "outputs": [
    {
     "data": {
      "text/plain": [
       "NA       1643\n",
       "MnPrv     226\n",
       "GdPrv      83\n",
       "GdWo       80\n",
       "MnWw       10\n",
       "Name: Fence, dtype: int64"
      ]
     },
     "execution_count": 798,
     "metadata": {},
     "output_type": "execute_result"
    }
   ],
   "source": [
    "houses['Fence'].value_counts() "
   ]
  },
  {
   "cell_type": "code",
   "execution_count": 799,
   "metadata": {},
   "outputs": [
    {
     "data": {
      "text/plain": [
       "4    1643\n",
       "3     226\n",
       "2      83\n",
       "1      80\n",
       "0      10\n",
       "Name: Fence, dtype: int64"
      ]
     },
     "execution_count": 799,
     "metadata": {},
     "output_type": "execute_result"
    }
   ],
   "source": [
    "houses['Fence'] = houses['Fence'].map({'NA':4, 'MnPrv':3, 'GdPrv': 2, 'GdWo': 1, 'MnWw': 0})\n",
    "houses['Fence'].value_counts() "
   ]
  },
  {
   "cell_type": "markdown",
   "metadata": {},
   "source": [
    "#### Misc Feature"
   ]
  },
  {
   "cell_type": "code",
   "execution_count": 800,
   "metadata": {},
   "outputs": [
    {
     "data": {
      "text/plain": [
       "NA      1979\n",
       "Shed      55\n",
       "Gar2       4\n",
       "Othr       3\n",
       "TenC       1\n",
       "Name: Misc Feature, dtype: int64"
      ]
     },
     "execution_count": 800,
     "metadata": {},
     "output_type": "execute_result"
    }
   ],
   "source": [
    "houses['Misc Feature'].value_counts() "
   ]
  },
  {
   "cell_type": "code",
   "execution_count": 801,
   "metadata": {},
   "outputs": [
    {
     "data": {
      "text/plain": [
       "4    1979\n",
       "3      55\n",
       "2       4\n",
       "1       3\n",
       "0       1\n",
       "Name: Misc Feature, dtype: int64"
      ]
     },
     "execution_count": 801,
     "metadata": {},
     "output_type": "execute_result"
    }
   ],
   "source": [
    "houses['Misc Feature'] = houses['Misc Feature'].map({'NA':4, 'Shed':3, 'Gar2': 2, 'Othr': 1, 'TenC': 0})\n",
    "houses['Misc Feature'].value_counts() "
   ]
  },
  {
   "cell_type": "markdown",
   "metadata": {},
   "source": [
    "#### Sale Type"
   ]
  },
  {
   "cell_type": "code",
   "execution_count": 802,
   "metadata": {},
   "outputs": [
    {
     "data": {
      "text/plain": [
       "WD       1774\n",
       "New       158\n",
       "COD        63\n",
       "ConLD      17\n",
       "CWD        10\n",
       "ConLI       7\n",
       "ConLw       5\n",
       "Oth         4\n",
       "Con         4\n",
       "Name: Sale Type, dtype: int64"
      ]
     },
     "execution_count": 802,
     "metadata": {},
     "output_type": "execute_result"
    }
   ],
   "source": [
    "houses['Sale Type'].value_counts() "
   ]
  },
  {
   "cell_type": "code",
   "execution_count": 803,
   "metadata": {},
   "outputs": [
    {
     "data": {
      "text/plain": [
       "8    1774\n",
       "7     158\n",
       "6      63\n",
       "5      17\n",
       "4      10\n",
       "3       7\n",
       "2       5\n",
       "1       4\n",
       "0       4\n",
       "Name: Sale Type, dtype: int64"
      ]
     },
     "execution_count": 803,
     "metadata": {},
     "output_type": "execute_result"
    }
   ],
   "source": [
    "houses['Sale Type'] = houses['Sale Type'].map({'WD':8, 'New':7,'COD':6, 'ConLD':5, 'CWD': 4,\n",
    "                                               'ConLI': 3,'ConLw': 2, 'Oth': 1, 'Con': 0})\n",
    "\n",
    "houses['Sale Type'].value_counts() "
   ]
  },
  {
   "cell_type": "markdown",
   "metadata": {},
   "source": [
    "---\n",
    "### Create floors feature\n",
    "The dataset lacks a clear way to model how many floors a house contains.<br>\n",
    "The House Style contained the following categories:<br>\n",
    ">        1Story\tOne story\n",
    "       1.5Fin\tOne and one-half story: 2nd level finished\n",
    "       1.5Unf\tOne and one-half story: 2nd level unfinished\n",
    "       2Story\tTwo story\n",
    "       2.5Fin\tTwo and one-half story: 2nd level finished\n",
    "       2.5Unf\tTwo and one-half story: 2nd level unfinished\n",
    "       SFoyer\tSplit Foyer\n",
    "       SLvl\tSplit Level\n",
    "\n",
    "which was difficult to translate.\n"
   ]
  },
  {
   "cell_type": "code",
   "execution_count": 804,
   "metadata": {},
   "outputs": [
    {
     "data": {
      "image/png": "[encoded data removed]",
      "text/plain": [
       "<Figure size 432x288 with 1 Axes>"
      ]
     },
     "metadata": {
      "needs_background": "light"
     },
     "output_type": "display_data"
    }
   ],
   "source": [
    "ax = house_styles.hist()\n",
    "ax.grid(False)\n",
    "ax.set(xlabel=\"House Styles \", ylabel = \"Number of houses\", title=\"How many floors in each house?\");"
   ]
  },
  {
   "cell_type": "markdown",
   "metadata": {},
   "source": [
    "A cleaner way to present this would be to create a **floors** column, that would contain 1 or 2 depending on the 1st Flr SF and 2nd Flr SF column.\n",
    "\n",
    "All houses have a non-zero amount for 1st Flr SF (First Floor square feet), however not every house has a value the 2nd Flr SF (Second floor square feet).\n",
    "\n",
    "If a house has a non-zero amount for 2nd Flr SF, then it's floors value is set to 2.\n",
    "\n",
    "There should be 857 houses with floors set to 2"
   ]
  },
  {
   "cell_type": "code",
   "execution_count": 805,
   "metadata": {},
   "outputs": [
    {
     "data": {
      "text/plain": [
       "(857, 107)"
      ]
     },
     "execution_count": 805,
     "metadata": {},
     "output_type": "execute_result"
    }
   ],
   "source": [
    "houses.loc[houses['2nd Flr SF'] >0].shape"
   ]
  },
  {
   "cell_type": "code",
   "execution_count": 806,
   "metadata": {},
   "outputs": [
    {
     "data": {
      "text/plain": [
       "1    1185\n",
       "2     857\n",
       "Name: floors, dtype: int64"
      ]
     },
     "execution_count": 806,
     "metadata": {},
     "output_type": "execute_result"
    }
   ],
   "source": [
    "houses['floors'] = [2 if second_floor > 0 else 1 for second_floor in houses['2nd Flr SF']]\n",
    "houses['floors'].value_counts()"
   ]
  },
  {
   "cell_type": "markdown",
   "metadata": {},
   "source": [
    "#### Create bathrooms \n",
    "\n",
    "Bathroom information is captured in four different columns:\n",
    ">Bsmt Full Bath (Discrete): Basement full bathrooms<br>\n",
    "Bsmt Half Bath (Discrete): Basement half bathrooms<br>\n",
    "Full Bath (Discrete): Full bathrooms above grade<br>\n",
    "Half Bath (Discrete): Half baths above grade\n",
    "\n",
    "Combine all four into one simple feature called **bathrooms**\n",
    "\n"
   ]
  },
  {
   "cell_type": "code",
   "execution_count": 807,
   "metadata": {},
   "outputs": [
    {
     "data": {
      "image/png": "[encoded data removed]",
      "text/plain": [
       "<Figure size 360x360 with 4 Axes>"
      ]
     },
     "metadata": {
      "needs_background": "light"
     },
     "output_type": "display_data"
    }
   ],
   "source": [
    "bath_columns = ['Bsmt Full Bath', 'Bsmt Half Bath', 'Full Bath', 'Half Bath']\n",
    "\n",
    "ax = houses[bath_columns].hist( figsize=(5, 5), grid=False )"
   ]
  },
  {
   "cell_type": "code",
   "execution_count": 808,
   "metadata": {},
   "outputs": [],
   "source": [
    "houses['bathrooms'] = houses[bath_columns].sum(axis=1)\n",
    "\n",
    "#hat tip to this post on stackoverflow:\n",
    "#https://stackoverflow.com/questions/25748683/pandas-sum-dataframe-rows-for-given-columns"
   ]
  },
  {
   "cell_type": "markdown",
   "metadata": {},
   "source": [
    "\n"
   ]
  },
  {
   "cell_type": "markdown",
   "metadata": {},
   "source": [
    "### Save cleaned data to csv"
   ]
  },
  {
   "cell_type": "code",
   "execution_count": 809,
   "metadata": {},
   "outputs": [],
   "source": [
    "houses.to_csv('../datasets/train_processed.csv', index=False)"
   ]
  },
  {
   "cell_type": "code",
   "execution_count": null,
   "metadata": {},
   "outputs": [],
   "source": []
  }
 ],
 "metadata": {
  "kernelspec": {
   "display_name": "Python 3",
   "language": "python",
   "name": "python3"
  },
  "language_info": {
   "codemirror_mode": {
    "name": "ipython",
    "version": 3
   },
   "file_extension": ".py",
   "mimetype": "text/x-python",
   "name": "python",
   "nbconvert_exporter": "python",
   "pygments_lexer": "ipython3",
   "version": "3.8.3"
  }
 },
 "nbformat": 4,
 "nbformat_minor": 4
}
